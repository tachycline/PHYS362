{
 "cells": [
  {
   "cell_type": "markdown",
   "metadata": {},
   "source": [
    "Problem 1.17)\n",
    "A particle is represented at time $t=0$ by the wave function $$\\psi(x,0)= \\left\\{\\begin{array}{l l} A(a^2-x^2),& if -a<=x<=a\\\\ 0,&otherwise;\\end{array}\\right.$$\n",
    "\n",
    "1. Determine the normalization constant $A$.\n",
    "2. What is the expectation value of $x$ (at time $t=0$)\n",
    "3. What is the expectation value of $p$ (at time $t=0$)? (note that you cannot get it from $p=md\\langle x\\rangle/dt$. Why not?)\n",
    "4. FInd the expectation value of $x^2$.\n",
    "5. Find the expectation value of $p^2$.\n",
    "6. Find the uncertainty in $x$ ($\\sigma x$)\n"
   ]
  },
  {
   "cell_type": "code",
   "execution_count": 2,
   "metadata": {
    "collapsed": false
   },
   "outputs": [
    {
     "data": {
      "image/png": "[encoded data removed]",
      "text/latex": [
       "$$A \\left(a^{2} - x^{2}\\right)$$"
      ],
      "text/plain": [
       "  ⎛ 2    2⎞\n",
       "A⋅⎝a  - x ⎠"
      ]
     },
     "execution_count": 2,
     "metadata": {},
     "output_type": "execute_result"
    }
   ],
   "source": [
    "import sympy as sp\n",
    "sp.init_printing()\n",
    "a, A = sp.symbols('a A', real=True, positive=True)\n",
    "x = sp.symbols('x', real=True)\n",
    "psi = A*(a**2-x**2)\n",
    "psi\n"
   ]
  },
  {
   "cell_type": "code",
   "execution_count": 3,
   "metadata": {
    "collapsed": false
   },
   "outputs": [
    {
     "data": {
      "image/png": "[encoded data removed]",
      "text/latex": [
       "$$A^{2} \\left(a^{2} - x^{2}\\right)^{2}$$"
      ],
      "text/plain": [
       "            2\n",
       " 2 ⎛ 2    2⎞ \n",
       "A ⋅⎝a  - x ⎠ "
      ]
     },
     "execution_count": 3,
     "metadata": {},
     "output_type": "execute_result"
    }
   ],
   "source": [
    "psisq=psi**2\n",
    "psisq"
   ]
  },
  {
   "cell_type": "code",
   "execution_count": 4,
   "metadata": {
    "collapsed": false
   },
   "outputs": [
    {
     "data": {
      "image/png": "[encoded data removed]",
      "text/latex": [
       "$$\\left\\{- \\frac{\\sqrt{15}}{4 a^{\\frac{5}{2}}}, \\frac{\\sqrt{15}}{4 a^{\\frac{5}{2}}}\\right\\}$$"
      ],
      "text/plain": [
       "⎧-√15     √15  ⎫\n",
       "⎪──────, ──────⎪\n",
       "⎨   5/2     5/2⎬\n",
       "⎪4⋅a     4⋅a   ⎪\n",
       "⎩              ⎭"
      ]
     },
     "execution_count": 4,
     "metadata": {},
     "output_type": "execute_result"
    }
   ],
   "source": [
    "norm = sp.Eq(1, sp.integrate(psisq, (x, -a, a)))\n",
    "sp.solveset(norm, A)\n",
    "\n",
    "##Here is the normalization function. I solve for A and output.\n",
    "##i only need to integrate from -a to a because the probability of the particle existing outside of this interval is 0."
   ]
  },
  {
   "cell_type": "code",
   "execution_count": 5,
   "metadata": {
    "collapsed": false
   },
   "outputs": [
    {
     "data": {
      "image/png": "[encoded data removed]",
      "text/latex": [
       "$$- \\frac{\\sqrt{15} \\left(a^{2} - x^{2}\\right)}{4 a^{\\frac{5}{2}}}$$"
      ],
      "text/plain": [
       "     ⎛ 2    2⎞ \n",
       "-√15⋅⎝a  - x ⎠ \n",
       "───────────────\n",
       "        5/2    \n",
       "     4⋅a       "
      ]
     },
     "execution_count": 5,
     "metadata": {},
     "output_type": "execute_result"
    }
   ],
   "source": [
    "psi = psi.subs(A, next(iter(sp.solveset(norm, A))))\n",
    "psi\n",
    "\n",
    "##take the solution for A and substitute into psi"
   ]
  },
  {
   "cell_type": "code",
   "execution_count": 6,
   "metadata": {
    "collapsed": false
   },
   "outputs": [
    {
     "data": {
      "image/png": "[encoded data removed]",
      "text/latex": [
       "$$0$$"
      ],
      "text/plain": [
       "0"
      ]
     },
     "execution_count": 6,
     "metadata": {},
     "output_type": "execute_result"
    }
   ],
   "source": [
    "expx = sp.integrate(x*psisq, (x, -a, a))\n",
    "expx"
   ]
  },
  {
   "cell_type": "code",
   "execution_count": 7,
   "metadata": {
    "collapsed": false
   },
   "outputs": [
    {
     "data": {
      "image/png": "[encoded data removed]",
      "text/latex": [
       "$$\\frac{a^{2}}{7}$$"
      ],
      "text/plain": [
       " 2\n",
       "a \n",
       "──\n",
       "7 "
      ]
     },
     "execution_count": 7,
     "metadata": {},
     "output_type": "execute_result"
    }
   ],
   "source": [
    "expxsq = sp.integrate(x**2*psisq, (x, -a, a))\n",
    "expxsq = expxsq.subs(A, next(iter(sp.solveset(norm, A))))\n",
    "expxsq\n",
    "\n",
    "##because i only substituted my answer for A into psi, i need to substitute again for psi squared"
   ]
  },
  {
   "cell_type": "code",
   "execution_count": 13,
   "metadata": {
    "collapsed": false
   },
   "outputs": [
    {
     "data": {
      "image/png": "[encoded data removed]",
      "text/latex": [
       "$$0$$"
      ],
      "text/plain": [
       "0"
      ]
     },
     "execution_count": 13,
     "metadata": {},
     "output_type": "execute_result"
    }
   ],
   "source": [
    "from sympy.physics.quantum.constants import hbar\n",
    "expp = sp.integrate(sp.conjugate(psi)*hbar/sp.I*sp.diff(psi, x), (x, -a, a))\n",
    "expp"
   ]
  },
  {
   "cell_type": "code",
   "execution_count": 14,
   "metadata": {
    "collapsed": false
   },
   "outputs": [
    {
     "data": {
      "image/png": "[encoded data removed]",
      "text/latex": [
       "$$\\frac{5 \\hbar^{2}}{2 a^{2}}$$"
      ],
      "text/plain": [
       "   2\n",
       "5⋅ℏ \n",
       "────\n",
       "   2\n",
       "2⋅a "
      ]
     },
     "execution_count": 14,
     "metadata": {},
     "output_type": "execute_result"
    }
   ],
   "source": [
    "exppsq = sp.integrate(sp.conjugate(psi)*hbar**2/sp.I**2*sp.diff(psi, x, 2), (x, -a, a))\n",
    "exppsq"
   ]
  },
  {
   "cell_type": "code",
   "execution_count": 10,
   "metadata": {
    "collapsed": false
   },
   "outputs": [
    {
     "data": {
      "image/png": "[encoded data removed]",
      "text/latex": [
       "$$\\frac{\\sqrt{7} a}{7}$$"
      ],
      "text/plain": [
       "√7⋅a\n",
       "────\n",
       " 7  "
      ]
     },
     "execution_count": 10,
     "metadata": {},
     "output_type": "execute_result"
    }
   ],
   "source": [
    "sigmax = sp.sqrt(expxsq-expx**2)\n",
    "sigmax"
   ]
  },
  {
   "cell_type": "code",
   "execution_count": 15,
   "metadata": {
    "collapsed": false
   },
   "outputs": [
    {
     "data": {
      "image/png": "[encoded data removed]",
      "text/latex": [
       "$$\\frac{\\sqrt{10} \\hbar}{2 a}$$"
      ],
      "text/plain": [
       "√10⋅ℏ\n",
       "─────\n",
       " 2⋅a "
      ]
     },
     "execution_count": 15,
     "metadata": {},
     "output_type": "execute_result"
    }
   ],
   "source": [
    "sigmap = sp.sqrt(exppsq-expp**2)\n",
    "sigmap"
   ]
  },
  {
   "cell_type": "code",
   "execution_count": 16,
   "metadata": {
    "collapsed": false
   },
   "outputs": [
    {
     "data": {
      "image/png": "[encoded data removed]",
      "text/latex": [
       "$$\\frac{\\sqrt{70} \\hbar}{14}$$"
      ],
      "text/plain": [
       "√70⋅ℏ\n",
       "─────\n",
       "  14 "
      ]
     },
     "execution_count": 16,
     "metadata": {},
     "output_type": "execute_result"
    }
   ],
   "source": [
    "sigmax * sigmap"
   ]
  },
  {
   "cell_type": "markdown",
   "metadata": {},
   "source": [
    "Since $70>49$, $sqrt(70)>7$ and thus $sqrt(70)/14 > 1/2$, so the uncertainty principle holds"
   ]
  },
  {
   "cell_type": "code",
   "execution_count": null,
   "metadata": {
    "collapsed": true
   },
   "outputs": [],
   "source": []
  }
 ],
 "metadata": {
  "kernelspec": {
   "display_name": "Python [physics362]",
   "language": "python",
   "name": "Python [physics362]"
  },
  "language_info": {
   "codemirror_mode": {
    "name": "ipython",
    "version": 3
   },
   "file_extension": ".py",
   "mimetype": "text/x-python",
   "name": "python",
   "nbconvert_exporter": "python",
   "pygments_lexer": "ipython3",
   "version": "3.5.2"
  }
 },
 "nbformat": 4,
 "nbformat_minor": 0
}

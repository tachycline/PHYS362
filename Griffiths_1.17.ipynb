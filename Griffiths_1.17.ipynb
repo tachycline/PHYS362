{
 "cells": [
  {
   "cell_type": "markdown",
   "metadata": {},
   "source": [
    "# Griffiths  1.17\n",
    "\n",
    "## Problem statement\n",
    "\n",
    "A particle is represented (at time t = 0) by the wave function\n",
    "$$\\Psi(x,0) = \\left\\{ \\begin{array}{ll} A(a^2-x^2), &\\text{if} -a \\le x \\le +a,\\\\\n",
    "0, &\\text{otherwise} \\end{array} \\right. $$\n",
    "\n",
    "1. Find A\n",
    "2. Find the expectation value of x\n",
    "3. Find the expectation value of p\n",
    "4. Find the expectation value of $x^2$\n",
    "5. Find the expectation value of $p^2$\n",
    "6. Find the uncertainty in $x(\\sigma_x)$\n",
    "7. Find the uncertainty in $p(\\sigma_p)$\n",
    "8. Check results\n",
    "\n",
    "----\n",
    "\n",
    "## Solution\n",
    "This problem is very similar to 1.5 and 1.9."
   ]
  },
  {
   "cell_type": "code",
   "execution_count": 88,
   "metadata": {
    "collapsed": false
   },
   "outputs": [
    {
     "data": {
      "image/png": "[encoded data removed]",
      "text/latex": [
       "$$A \\left(a^{2} - x^{2}\\right)$$"
      ],
      "text/plain": [
       "  ⎛ 2    2⎞\n",
       "A⋅⎝a  - x ⎠"
      ]
     },
     "execution_count": 88,
     "metadata": {},
     "output_type": "execute_result"
    }
   ],
   "source": [
    "import sympy as sp\n",
    "sp.init_printing()\n",
    "\n",
    "A, a = sp.symbols(\"A a\", real=True, positive=True)\n",
    "x = sp.symbols(\"x\", real=True)\n",
    "\n",
    "\n",
    "Psi = A*(a**2-x**2)\n",
    "Psi"
   ]
  },
  {
   "cell_type": "code",
   "execution_count": 89,
   "metadata": {
    "collapsed": false
   },
   "outputs": [
    {
     "data": {
      "image/png": "[encoded data removed]",
      "text/latex": [
       "$$\\left\\{- \\frac{\\sqrt{15}}{4 a^{\\frac{5}{2}}}, \\frac{\\sqrt{15}}{4 a^{\\frac{5}{2}}}\\right\\}$$"
      ],
      "text/plain": [
       "⎧-√15     √15  ⎫\n",
       "⎪──────, ──────⎪\n",
       "⎨   5/2     5/2⎬\n",
       "⎪4⋅a     4⋅a   ⎪\n",
       "⎩              ⎭"
      ]
     },
     "execution_count": 89,
     "metadata": {},
     "output_type": "execute_result"
    }
   ],
   "source": [
    "normvals = sp.solveset(sp.Eq(1,sp.integrate(Psi * sp.conjugate(Psi), (x, -a, +a))),A)\n",
    "normvals"
   ]
  },
  {
   "cell_type": "markdown",
   "metadata": {},
   "source": [
    "Pick up the positive value"
   ]
  },
  {
   "cell_type": "code",
   "execution_count": 90,
   "metadata": {
    "collapsed": false
   },
   "outputs": [
    {
     "data": {
      "image/png": "[encoded data removed]",
      "text/latex": [
       "$$\\frac{\\sqrt{15} \\left(a^{2} - x^{2}\\right)}{4 a^{\\frac{5}{2}}}$$"
      ],
      "text/plain": [
       "    ⎛ 2    2⎞\n",
       "√15⋅⎝a  - x ⎠\n",
       "─────────────\n",
       "       5/2   \n",
       "    4⋅a      "
      ]
     },
     "execution_count": 90,
     "metadata": {},
     "output_type": "execute_result"
    }
   ],
   "source": [
    "for n in normvals:\n",
    "    if n > 0:\n",
    "        Psi = Psi.subs(A, n)\n",
    "Psi"
   ]
  },
  {
   "cell_type": "code",
   "execution_count": 91,
   "metadata": {
    "collapsed": false
   },
   "outputs": [],
   "source": [
    "from sympy.physics.quantum.constants import hbar\n",
    "expectx = sp.integrate(sp.conjugate(Psi)*x*Psi, (x, -a, +a))\n",
    "expectxsq = sp.integrate(sp.conjugate(Psi)*x**2*Psi, (x, -a, +a))\n",
    "\n",
    "expectp = -hbar*sp.I*sp.integrate(sp.conjugate(Psi)*sp.diff(Psi, x), (x, -a, +a))\n",
    "expectpsq = -hbar**2*sp.integrate(sp.conjugate(Psi)*sp.diff(Psi, x, 2), (x, -a, +a))"
   ]
  },
  {
   "cell_type": "markdown",
   "metadata": {},
   "source": [
    "Calculate the expectation values:"
   ]
  },
  {
   "cell_type": "code",
   "execution_count": 92,
   "metadata": {
    "collapsed": false
   },
   "outputs": [
    {
     "data": {
      "image/png": "[encoded data removed]",
      "text/latex": [
       "$$0$$"
      ],
      "text/plain": [
       "0"
      ]
     },
     "execution_count": 92,
     "metadata": {},
     "output_type": "execute_result"
    }
   ],
   "source": [
    "expectx"
   ]
  },
  {
   "cell_type": "code",
   "execution_count": 93,
   "metadata": {
    "collapsed": false
   },
   "outputs": [
    {
     "data": {
      "image/png": "[encoded data removed]",
      "text/latex": [
       "$$\\frac{a^{2}}{7}$$"
      ],
      "text/plain": [
       " 2\n",
       "a \n",
       "──\n",
       "7 "
      ]
     },
     "execution_count": 93,
     "metadata": {},
     "output_type": "execute_result"
    }
   ],
   "source": [
    "expectxsq"
   ]
  },
  {
   "cell_type": "code",
   "execution_count": 94,
   "metadata": {
    "collapsed": false
   },
   "outputs": [
    {
     "data": {
      "image/png": "[encoded data removed]",
      "text/latex": [
       "$$0$$"
      ],
      "text/plain": [
       "0"
      ]
     },
     "execution_count": 94,
     "metadata": {},
     "output_type": "execute_result"
    }
   ],
   "source": [
    "expectp"
   ]
  },
  {
   "cell_type": "code",
   "execution_count": 95,
   "metadata": {
    "collapsed": false
   },
   "outputs": [
    {
     "data": {
      "image/png": "[encoded data removed]",
      "text/latex": [
       "$$\\frac{5 \\hbar^{2}}{2 a^{2}}$$"
      ],
      "text/plain": [
       "   2\n",
       "5⋅ℏ \n",
       "────\n",
       "   2\n",
       "2⋅a "
      ]
     },
     "execution_count": 95,
     "metadata": {},
     "output_type": "execute_result"
    }
   ],
   "source": [
    "expectpsq"
   ]
  },
  {
   "cell_type": "code",
   "execution_count": 96,
   "metadata": {
    "collapsed": false
   },
   "outputs": [
    {
     "data": {
      "image/png": "[encoded data removed]",
      "text/latex": [
       "$$\\frac{\\sqrt{7} a}{7}$$"
      ],
      "text/plain": [
       "√7⋅a\n",
       "────\n",
       " 7  "
      ]
     },
     "execution_count": 96,
     "metadata": {},
     "output_type": "execute_result"
    }
   ],
   "source": [
    "sigmax = sp.sqrt(expectxsq - expectx**2)\n",
    "sigmap = sp.sqrt(expectpsq - expectp**2)\n",
    "\n",
    "sigmax\n",
    "sigmax.simplify()"
   ]
  },
  {
   "cell_type": "code",
   "execution_count": 97,
   "metadata": {
    "collapsed": false
   },
   "outputs": [
    {
     "data": {
      "image/png": "[encoded data removed]",
      "text/latex": [
       "$$\\frac{\\sqrt{10} \\hbar}{2 a}$$"
      ],
      "text/plain": [
       "√10⋅ℏ\n",
       "─────\n",
       " 2⋅a "
      ]
     },
     "execution_count": 97,
     "metadata": {},
     "output_type": "execute_result"
    }
   ],
   "source": [
    "sigmap"
   ]
  },
  {
   "cell_type": "code",
   "execution_count": 98,
   "metadata": {
    "collapsed": false
   },
   "outputs": [
    {
     "data": {
      "image/png": "[encoded data removed]",
      "text/latex": [
       "$$\\frac{\\sqrt{70} \\hbar}{14}$$"
      ],
      "text/plain": [
       "√70⋅ℏ\n",
       "─────\n",
       "  14 "
      ]
     },
     "execution_count": 98,
     "metadata": {},
     "output_type": "execute_result"
    }
   ],
   "source": [
    "sigmax*sigmap"
   ]
  },
  {
   "cell_type": "markdown",
   "metadata": {},
   "source": [
    "This is great than $\\hbar/2$, which verifies our results"
   ]
  },
  {
   "cell_type": "markdown",
   "metadata": {},
   "source": [
    "----\n",
    "\n",
    "## Portfolio references\n",
    "    Problem 1.5\n",
    "    Problem 1.9\n",
    "\n",
    "## Index terms\n",
    "    Wave function\n",
    "    Normalization\n",
    "    Expectation values\n",
    "    Probability\n",
    "\n",
    "## Book references\n",
    "\n",
    "## External references"
   ]
  },
  {
   "cell_type": "code",
   "execution_count": null,
   "metadata": {
    "collapsed": true
   },
   "outputs": [],
   "source": []
  }
 ],
 "metadata": {
  "anaconda-cloud": {},
  "kernelspec": {
   "display_name": "Python [conda env:physics362]",
   "language": "python",
   "name": "conda-env-physics362-py"
  },
  "language_info": {
   "codemirror_mode": {
    "name": "ipython",
    "version": 3
   },
   "file_extension": ".py",
   "mimetype": "text/x-python",
   "name": "python",
   "nbconvert_exporter": "python",
   "pygments_lexer": "ipython3",
   "version": "3.5.2"
  }
 },
 "nbformat": 4,
 "nbformat_minor": 0
}

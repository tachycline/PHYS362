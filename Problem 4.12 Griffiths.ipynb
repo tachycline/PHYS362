{
 "cells": [
  {
   "cell_type": "markdown",
   "metadata": {},
   "source": [
    "# Problem (4.12)\n",
    "\n",
    "## Problem statement\n",
    "\n",
    "1. Using Equation 4.88, work out the first four Laguerre Polynomials\n",
    "2. Using equation 4.86, 4.87, 4.88, find $v(\\rho)$, for the case $n=5$, $l=2$\n",
    "3. Find $v(\\rho)$ again, but this time get it from the recursion formula.\n",
    "\n",
    "----\n",
    "\n",
    "## Solution"
   ]
  },
  {
   "cell_type": "markdown",
   "metadata": {},
   "source": [
    "Starting by building the Laguerre Polynomials"
   ]
  },
  {
   "cell_type": "code",
   "execution_count": 36,
   "metadata": {
    "collapsed": true
   },
   "outputs": [],
   "source": [
    "import sympy as sp\n",
    "sp.init_printing()\n",
    "\n",
    "r, a, n = sp.symbols('r a n', real=True)\n",
    "\n",
    "def L(q):\n",
    "    r, a, n = sp.symbols('r a n', real=True)\n",
    "    x = sp.symbols('x')\n",
    "    Lq = sp.exp(x)*sp.diff(sp.exp(-x)*(x**q), x, q)\n",
    "    Lq = Lq.subs(x, 2*r/(a*n))\n",
    "    return sp.simplify(Lq)"
   ]
  },
  {
   "cell_type": "code",
   "execution_count": 37,
   "metadata": {
    "collapsed": false
   },
   "outputs": [
    {
     "data": {
      "image/png": "[encoded data removed]",
      "text/latex": [
       "$$1$$"
      ],
      "text/plain": [
       "1"
      ]
     },
     "execution_count": 37,
     "metadata": {},
     "output_type": "execute_result"
    }
   ],
   "source": [
    "L(0)"
   ]
  },
  {
   "cell_type": "code",
   "execution_count": 38,
   "metadata": {
    "collapsed": false
   },
   "outputs": [
    {
     "data": {
      "image/png": "[encoded data removed]",
      "text/latex": [
       "$$1 - \\frac{2 r}{a n}$$"
      ],
      "text/plain": [
       "    2⋅r\n",
       "1 - ───\n",
       "    a⋅n"
      ]
     },
     "execution_count": 38,
     "metadata": {},
     "output_type": "execute_result"
    }
   ],
   "source": [
    "L(1)"
   ]
  },
  {
   "cell_type": "code",
   "execution_count": 39,
   "metadata": {
    "collapsed": false
   },
   "outputs": [
    {
     "data": {
      "image/png": "[encoded data removed]",
      "text/latex": [
       "$$2 - \\frac{8 r}{a n} + \\frac{4 r^{2}}{a^{2} n^{2}}$$"
      ],
      "text/plain": [
       "              2\n",
       "    8⋅r    4⋅r \n",
       "2 - ─── + ─────\n",
       "    a⋅n    2  2\n",
       "          a ⋅n "
      ]
     },
     "execution_count": 39,
     "metadata": {},
     "output_type": "execute_result"
    }
   ],
   "source": [
    "L(2)"
   ]
  },
  {
   "cell_type": "code",
   "execution_count": 40,
   "metadata": {
    "collapsed": false
   },
   "outputs": [
    {
     "data": {
      "image/png": "[encoded data removed]",
      "text/latex": [
       "$$6 - \\frac{36 r}{a n} + \\frac{36 r^{2}}{a^{2} n^{2}} - \\frac{8 r^{3}}{a^{3} n^{3}}$$"
      ],
      "text/plain": [
       "               2       3\n",
       "    36⋅r   36⋅r     8⋅r \n",
       "6 - ──── + ───── - ─────\n",
       "    a⋅n     2  2    3  3\n",
       "           a ⋅n    a ⋅n "
      ]
     },
     "execution_count": 40,
     "metadata": {},
     "output_type": "execute_result"
    }
   ],
   "source": [
    "L(3)"
   ]
  },
  {
   "cell_type": "code",
   "execution_count": 52,
   "metadata": {
    "collapsed": true
   },
   "outputs": [],
   "source": [
    "def vrho(n, l):\n",
    "    r, a = sp.symbols('r a', real=True)\n",
    "    x = sp.symbols('x')\n",
    "    \n",
    "    p = 2*l + 1\n",
    "    q = (n - l -1) + p\n",
    "    \n",
    "    Lq = sp.exp(x)*sp.diff(sp.exp(-x)*(x**q), x, q)\n",
    "    Lqp = (-1)**p*sp.diff(Lq, x, p)\n",
    "    Lqp = Lqp.subs(x, 2*r/(a*n))\n",
    "    return sp.simplify(Lqp)"
   ]
  },
  {
   "cell_type": "code",
   "execution_count": 53,
   "metadata": {
    "collapsed": false
   },
   "outputs": [
    {
     "data": {
      "image/png": "[encoded data removed]",
      "text/latex": [
       "$$105840 - \\frac{14112 r}{a} + \\frac{2016 r^{2}}{5 a^{2}}$$"
      ],
      "text/plain": [
       "                         2\n",
       "         14112⋅r   2016⋅r \n",
       "105840 - ─────── + ───────\n",
       "            a           2 \n",
       "                     5⋅a  "
      ]
     },
     "execution_count": 53,
     "metadata": {},
     "output_type": "execute_result"
    }
   ],
   "source": [
    "vrho(5, 2) #I went ahead and replaced rho here"
   ]
  },
  {
   "cell_type": "markdown",
   "metadata": {},
   "source": [
    "The recursion formula states\n",
    "\n",
    "$$ C_{j+1} = \\frac{2(j+l+1-n)}{(j+1)(j+2l+2)} c_j $$\n",
    "\n",
    "Where  $v(\\rho) = \\sum_{j=0}^{\\infty}c_j\\rho^j$"
   ]
  },
  {
   "cell_type": "code",
   "execution_count": 68,
   "metadata": {
    "collapsed": false
   },
   "outputs": [],
   "source": [
    "def vrho2(n, l):\n",
    "    \n",
    "    n = n\n",
    "    l = l\n",
    "    \n",
    "    j = 0\n",
    "    \n",
    "    c0, a, r = sp.symbols('c_o a r', real=True, positive = True)\n",
    "    constants = [c0]\n",
    "    c1 = c0\n",
    "    \n",
    "    while c1 !=0:\n",
    "        c1 = 2*(j+l+1-n)/((j+1)*(j+2*l+2))*c1\n",
    "        constants.append(c1)\n",
    "        j = j+1\n",
    "    \n",
    "    rho = r/(a*n)\n",
    "    \n",
    "    vrho = 0\n",
    "    v = []\n",
    "    for i in range(0,len(constants)-1):\n",
    "        v.append(rho**i)\n",
    "        vrho = vrho + v[i]*constants[i]\n",
    "    \n",
    "    return vrho\n",
    "    "
   ]
  },
  {
   "cell_type": "code",
   "execution_count": 69,
   "metadata": {
    "collapsed": false
   },
   "outputs": [
    {
     "data": {
      "image/png": "[encoded data removed]",
      "text/latex": [
       "$$c_{o} - \\frac{0.133333333333333 c_{o}}{a} r + \\frac{0.00380952380952381 c_{o}}{a^{2}} r^{2}$$"
      ],
      "text/plain": [
       "                                                      2\n",
       "     0.133333333333333⋅cₒ⋅r   0.00380952380952381⋅cₒ⋅r \n",
       "cₒ - ────────────────────── + ─────────────────────────\n",
       "               a                           2           \n",
       "                                          a            "
      ]
     },
     "execution_count": 69,
     "metadata": {},
     "output_type": "execute_result"
    }
   ],
   "source": [
    "vrho2(5,2)"
   ]
  },
  {
   "cell_type": "markdown",
   "metadata": {},
   "source": [
    "This will match depending on $c_0$"
   ]
  },
  {
   "cell_type": "markdown",
   "metadata": {
    "collapsed": true
   },
   "source": [
    "----\n",
    "\n",
    "## Portfolio references\n",
    "* \n",
    "## Index terms\n",
    "* Hydrogen Atom\n",
    "* laguerre polynomials\n",
    "## Book references\n",
    "*\n",
    "## External references"
   ]
  },
  {
   "cell_type": "code",
   "execution_count": null,
   "metadata": {
    "collapsed": true
   },
   "outputs": [],
   "source": []
  },
  {
   "cell_type": "code",
   "execution_count": null,
   "metadata": {
    "collapsed": true
   },
   "outputs": [],
   "source": []
  },
  {
   "cell_type": "code",
   "execution_count": null,
   "metadata": {
    "collapsed": true
   },
   "outputs": [],
   "source": []
  }
 ],
 "metadata": {
  "anaconda-cloud": {},
  "kernelspec": {
   "display_name": "Python [Root]",
   "language": "python",
   "name": "Python [Root]"
  },
  "language_info": {
   "codemirror_mode": {
    "name": "ipython",
    "version": 3
   },
   "file_extension": ".py",
   "mimetype": "text/x-python",
   "name": "python",
   "nbconvert_exporter": "python",
   "pygments_lexer": "ipython3",
   "version": "3.5.2"
  }
 },
 "nbformat": 4,
 "nbformat_minor": 0
}

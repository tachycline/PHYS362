{
 "cells": [
  {
   "cell_type": "code",
   "execution_count": 1,
   "metadata": {
    "collapsed": false
   },
   "outputs": [
    {
     "data": {
      "image/png": "[encoded data removed]",
      "text/latex": [
       "$$\\frac{\\sqrt{30} \\hbar}{4 \\sqrt{\\pi}} e^{2 i \\phi} \\sin^{2}{\\left (\\theta \\right )}$$"
      ],
      "text/plain": [
       "       2⋅ⅈ⋅φ    2   \n",
       "√30⋅ℏ⋅ℯ     ⋅sin (θ)\n",
       "────────────────────\n",
       "        4⋅√π        "
      ]
     },
     "execution_count": 1,
     "metadata": {},
     "output_type": "execute_result"
    }
   ],
   "source": [
    "import sympy as sp\n",
    "from sympy.physics.quantum.constants import hbar\n",
    "sp.init_printing()\n",
    "\n",
    "theta, phi = sp.symbols('theta, phi', real=True)\n",
    "\n",
    "Y21 = -sp.sqrt(15/(8*sp.pi))*sp.sin(theta)*sp.cos(theta)*sp.exp(sp.I*phi)\n",
    "LupY21 = hbar*sp.exp(sp.I*phi)*(sp.diff(Y21, theta) + (sp.I*sp.cot(theta)*sp.diff(Y21, phi)))\n",
    "sp.simplify(LupY21)"
   ]
  },
  {
   "cell_type": "markdown",
   "metadata": {},
   "source": [
    "# Problem (4.23)\n",
    "\n",
    "## Problem statement\n",
    "\n",
    "In problem 4.3 you showed that:\n",
    "\n",
    "$$ Y_2^1(\\theta, \\phi) = -\\sqrt{15/8\\pi}sin\\theta cos\\theta e^{i\\phi} $$\n",
    "\n",
    "Apply the raising operator to find $Y_2^2(\\theta, \\phi)$. Use equation 4.121 to get the normalization\n",
    "\n",
    "----\n",
    "\n",
    "## Solution"
   ]
  },
  {
   "cell_type": "code",
   "execution_count": 2,
   "metadata": {
    "collapsed": false
   },
   "outputs": [
    {
     "data": {
      "image/png": "[encoded data removed]",
      "text/latex": [
       "$$2 \\hbar$$"
      ],
      "text/plain": [
       "2⋅ℏ"
      ]
     },
     "execution_count": 2,
     "metadata": {},
     "output_type": "execute_result"
    }
   ],
   "source": [
    "#normalization constant\n",
    "l = 2\n",
    "m = 1\n",
    "\n",
    "A = hbar*sp.sqrt((l**2+l) -(m**2+m))\n",
    "\n",
    "A"
   ]
  },
  {
   "cell_type": "code",
   "execution_count": 3,
   "metadata": {
    "collapsed": false
   },
   "outputs": [
    {
     "data": {
      "image/png": "[encoded data removed]",
      "text/latex": [
       "$$\\frac{\\sqrt{30} e^{2 i \\phi}}{8 \\sqrt{\\pi}} \\sin^{2}{\\left (\\theta \\right )}$$"
      ],
      "text/plain": [
       "     2⋅ⅈ⋅φ    2   \n",
       "√30⋅ℯ     ⋅sin (θ)\n",
       "──────────────────\n",
       "       8⋅√π       "
      ]
     },
     "execution_count": 3,
     "metadata": {},
     "output_type": "execute_result"
    }
   ],
   "source": [
    "Y22 = LupY21/A\n",
    "sp.simplify(Y22)"
   ]
  },
  {
   "cell_type": "markdown",
   "metadata": {
    "collapsed": true
   },
   "source": [
    "----\n",
    "\n",
    "## Portfolio references\n",
    "* \n",
    "## Index terms\n",
    "* spherical harmonics\n",
    "* angular momentum raising operator\n",
    "## Book references\n",
    "*\n",
    "## External references"
   ]
  },
  {
   "cell_type": "code",
   "execution_count": null,
   "metadata": {
    "collapsed": true
   },
   "outputs": [],
   "source": []
  },
  {
   "cell_type": "code",
   "execution_count": null,
   "metadata": {
    "collapsed": true
   },
   "outputs": [],
   "source": []
  },
  {
   "cell_type": "code",
   "execution_count": null,
   "metadata": {
    "collapsed": true
   },
   "outputs": [],
   "source": []
  }
 ],
 "metadata": {
  "anaconda-cloud": {},
  "kernelspec": {
   "display_name": "Python [Root]",
   "language": "python",
   "name": "Python [Root]"
  },
  "language_info": {
   "codemirror_mode": {
    "name": "ipython",
    "version": 3
   },
   "file_extension": ".py",
   "mimetype": "text/x-python",
   "name": "python",
   "nbconvert_exporter": "python",
   "pygments_lexer": "ipython3",
   "version": "3.5.2"
  }
 },
 "nbformat": 4,
 "nbformat_minor": 0
}

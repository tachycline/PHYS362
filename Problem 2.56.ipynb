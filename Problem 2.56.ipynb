{
 "cells": [
  {
   "cell_type": "markdown",
   "metadata": {},
   "source": [
    "# Problem (2.54)\n",
    "\n",
    "## Problem statement\n",
    "\n",
    "Find the first four allowed energies (to five significant digits) for the infinite sqaure well, by wagging the dog. Hint: refer to problem 2.54, making appropriate changes to the differential equation. \n",
    "\n",
    "----\n",
    "\n",
    "## Solution"
   ]
  },
  {
   "cell_type": "markdown",
   "metadata": {},
   "source": [
    "The Schrodinger Equation for the ISW (inside the well) is given by equation 2.72\n",
    "\n",
    "$$ \\frac{-\\hbar^2}{2m}\\frac{d^2 \\psi}{d x^2} = E \\psi $$"
   ]
  },
  {
   "cell_type": "code",
   "execution_count": 1,
   "metadata": {
    "collapsed": true
   },
   "outputs": [],
   "source": [
    "import numpy as np\n",
    "from scipy.integrate import odeint"
   ]
  },
  {
   "cell_type": "markdown",
   "metadata": {},
   "source": [
    "Lets do the ground state, $\\psi_1$, first"
   ]
  },
  {
   "cell_type": "code",
   "execution_count": 39,
   "metadata": {
    "collapsed": false
   },
   "outputs": [],
   "source": [
    "a = 1.0\n",
    "\n",
    "x = np.linspace(0, 3*a, 200)\n",
    "\n",
    "def func(y, x, E, a=a):\n",
    "    \n",
    "    hbar = 197.4 # eV nm/c\n",
    "    m = .511e6 # eV/c^2; an electron\n",
    "    \n",
    "    psi, psiprime = y\n",
    "    \n",
    "    psidoubleprime = (-2*m)/(hbar**2)*E*psi\n",
    "    \n",
    "    return psiprime, psidoubleprime"
   ]
  },
  {
   "cell_type": "code",
   "execution_count": 40,
   "metadata": {
    "collapsed": false
   },
   "outputs": [],
   "source": [
    "y0 = (0.0, 1.0) #all solutions are odd for the ISW\n",
    "\n",
    "result = odeint(func, y0, x, args=(0.5,)) "
   ]
  },
  {
   "cell_type": "code",
   "execution_count": 41,
   "metadata": {
    "collapsed": true
   },
   "outputs": [],
   "source": [
    "from matplotlib import pyplot as plt"
   ]
  },
  {
   "cell_type": "code",
   "execution_count": 42,
   "metadata": {
    "collapsed": true
   },
   "outputs": [],
   "source": [
    "%matplotlib inline"
   ]
  },
  {
   "cell_type": "code",
   "execution_count": 43,
   "metadata": {
    "collapsed": false
   },
   "outputs": [
    {
     "data": {
      "text/plain": [
       "(200, 2)"
      ]
     },
     "execution_count": 43,
     "metadata": {},
     "output_type": "execute_result"
    }
   ],
   "source": [
    "result.shape"
   ]
  },
  {
   "cell_type": "code",
   "execution_count": 44,
   "metadata": {
    "collapsed": true
   },
   "outputs": [],
   "source": [
    "psi = result[:,0]"
   ]
  },
  {
   "cell_type": "code",
   "execution_count": 45,
   "metadata": {
    "collapsed": true
   },
   "outputs": [],
   "source": [
    "psiprime = result[:,1]"
   ]
  },
  {
   "cell_type": "code",
   "execution_count": 49,
   "metadata": {
    "collapsed": false
   },
   "outputs": [
    {
     "data": {
      "text/plain": [
       "<matplotlib.lines.Line2D at 0x91d5d30>"
      ]
     },
     "execution_count": 49,
     "metadata": {},
     "output_type": "execute_result"
    },
    {
     "data": {
      "image/png": "[encoded data removed]",
      "text/plain": [
       "<matplotlib.figure.Figure at 0x91830f0>"
      ]
     },
     "metadata": {},
     "output_type": "display_data"
    }
   ],
   "source": [
    "plt.plot(x, psi)\n",
    "plt.xlim(0,1.2*a)\n",
    "plt.ylim(-1,1)\n",
    "plt.plot(x,np.zeros_like(x))\n",
    "plt.axvline(x=a, color = 'k')"
   ]
  },
  {
   "cell_type": "markdown",
   "metadata": {},
   "source": [
    "Our energy is too high, lets try a lower one"
   ]
  },
  {
   "cell_type": "code",
   "execution_count": 53,
   "metadata": {
    "collapsed": false
   },
   "outputs": [
    {
     "data": {
      "text/plain": [
       "<matplotlib.lines.Line2D at 0x9309518>"
      ]
     },
     "execution_count": 53,
     "metadata": {},
     "output_type": "execute_result"
    },
    {
     "data": {
      "image/png": "[encoded data removed]",
      "text/plain": [
       "<matplotlib.figure.Figure at 0x92b1780>"
      ]
     },
     "metadata": {},
     "output_type": "display_data"
    }
   ],
   "source": [
    "result = odeint(func, y0, x, args=(0.3,)) \n",
    "psi = result[:,0]\n",
    "plt.plot(x, psi)\n",
    "plt.xlim(0,1.2*a)\n",
    "plt.ylim(-1,1)\n",
    "plt.plot(x,np.zeros_like(x))\n",
    "plt.axvline(x=a, color = 'k')"
   ]
  },
  {
   "cell_type": "markdown",
   "metadata": {},
   "source": [
    "Too low, lets automate"
   ]
  },
  {
   "cell_type": "code",
   "execution_count": 62,
   "metadata": {
    "collapsed": true
   },
   "outputs": [],
   "source": [
    "def bisect(func, E1, E2, a=1, even=True):\n",
    "    \"\"\"Given two ends of an energy interval, chop it in half.\"\"\"\n",
    "    \n",
    "    x = np.linspace(0, 2*a, 200)\n",
    "    \n",
    "    if even:\n",
    "        y0 = (1.0, 0.0)\n",
    "    else:\n",
    "        y0 = (0.0, 1.0)\n",
    "        \n",
    "    # get initial signs\n",
    "    res1 = odeint(func, y0, x, args=(E1,))\n",
    "    psi1 = res1[-1,0]\n",
    "    \n",
    "    res2 = odeint(func, y0, x, args=(E2,))\n",
    "    psi2 = res2[-1,0]\n",
    "    \n",
    "    Ehalf = (E1+E2)/2\n",
    "    reshalf = odeint(func, y0, x, args=(Ehalf,))\n",
    "    psihalf = reshalf[-1, 0]\n",
    "    \n",
    "    if np.sign(psihalf) == np.sign(psi1):\n",
    "        return (Ehalf, E2)\n",
    "    else:\n",
    "        return (E1, Ehalf)\n",
    "    \n",
    "\n",
    "def find_energy(func, a, E1, E2, even=True):\n",
    "    \n",
    "    while abs(E1-E2) > 1.0e-14:\n",
    "        E1, E2 = bisect(func, E1, E2, a, even)\n",
    "        \n",
    "    if even:\n",
    "        y0 = (1.0, 0.0)\n",
    "    else:\n",
    "        y0 = (0.0, 1.0)\n",
    "\n",
    "    x = np.linspace(0, 2*a, 200)\n",
    "    result = odeint(func, y0, x, args=(E1, ))\n",
    "    psi = result[:,0]\n",
    "    plt.plot(x, psi)\n",
    "    plt.ylim(-1.1, 1.1)\n",
    "    plt.xlim(0, 1.2*a)\n",
    "    plt.axvline(x=a, color = 'k')\n",
    "    plt.axhline(y=0, color = 'k')\n",
    "    return E1"
   ]
  },
  {
   "cell_type": "code",
   "execution_count": 63,
   "metadata": {
    "collapsed": false
   },
   "outputs": [
    {
     "data": {
      "text/plain": [
       "0.37630775111855436"
      ]
     },
     "execution_count": 63,
     "metadata": {},
     "output_type": "execute_result"
    },
    {
     "data": {
      "image/png": "[encoded data removed]",
      "text/plain": [
       "<matplotlib.figure.Figure at 0x9752470>"
      ]
     },
     "metadata": {},
     "output_type": "display_data"
    }
   ],
   "source": [
    "find_energy(func, 1.0, 0.3, 0.5, even=False)"
   ]
  },
  {
   "cell_type": "markdown",
   "metadata": {},
   "source": [
    "Looks good, our output here is $E_1$"
   ]
  },
  {
   "cell_type": "markdown",
   "metadata": {},
   "source": [
    "Lets do the first excited state, $\\psi_2$"
   ]
  },
  {
   "cell_type": "code",
   "execution_count": 64,
   "metadata": {
    "collapsed": false
   },
   "outputs": [
    {
     "data": {
      "text/plain": [
       "<matplotlib.lines.Line2D at 0x97e9ef0>"
      ]
     },
     "execution_count": 64,
     "metadata": {},
     "output_type": "execute_result"
    },
    {
     "data": {
      "image/png": "[encoded data removed]",
      "text/plain": [
       "<matplotlib.figure.Figure at 0x9750ba8>"
      ]
     },
     "metadata": {},
     "output_type": "display_data"
    }
   ],
   "source": [
    "result = odeint(func, y0, x, args=(1.7,)) \n",
    "psi = result[:,0]\n",
    "plt.plot(x, psi)\n",
    "plt.xlim(0,1.2*a)\n",
    "plt.ylim(-1,1)\n",
    "plt.plot(x,np.zeros_like(x))\n",
    "plt.axvline(x=a, color = 'k')"
   ]
  },
  {
   "cell_type": "markdown",
   "metadata": {},
   "source": [
    "Too high"
   ]
  },
  {
   "cell_type": "code",
   "execution_count": 65,
   "metadata": {
    "collapsed": false
   },
   "outputs": [
    {
     "data": {
      "text/plain": [
       "<matplotlib.lines.Line2D at 0x9760048>"
      ]
     },
     "execution_count": 65,
     "metadata": {},
     "output_type": "execute_result"
    },
    {
     "data": {
      "image/png": "[encoded data removed]",
      "text/plain": [
       "<matplotlib.figure.Figure at 0x9800cc0>"
      ]
     },
     "metadata": {},
     "output_type": "display_data"
    }
   ],
   "source": [
    "result = odeint(func, y0, x, args=(1.4,)) \n",
    "psi = result[:,0]\n",
    "plt.plot(x, psi)\n",
    "plt.xlim(0,1.2*a)\n",
    "plt.ylim(-1,1)\n",
    "plt.plot(x,np.zeros_like(x))\n",
    "plt.axvline(x=a, color = 'k')"
   ]
  },
  {
   "cell_type": "markdown",
   "metadata": {},
   "source": [
    "A little too low, now automate"
   ]
  },
  {
   "cell_type": "code",
   "execution_count": 66,
   "metadata": {
    "collapsed": false
   },
   "outputs": [
    {
     "data": {
      "text/plain": [
       "1.5052309752469228"
      ]
     },
     "execution_count": 66,
     "metadata": {},
     "output_type": "execute_result"
    },
    {
     "data": {
      "image/png": "[encoded data removed]",
      "text/plain": [
       "<matplotlib.figure.Figure at 0x975c5f8>"
      ]
     },
     "metadata": {},
     "output_type": "display_data"
    }
   ],
   "source": [
    "find_energy(func, 1.0, 1.4, 1.7, even=False)"
   ]
  },
  {
   "cell_type": "markdown",
   "metadata": {},
   "source": [
    "Looks good, here is $E_2$"
   ]
  },
  {
   "cell_type": "markdown",
   "metadata": {},
   "source": [
    "Now lets do the second excited state, $\\psi_3$"
   ]
  },
  {
   "cell_type": "code",
   "execution_count": 67,
   "metadata": {
    "collapsed": false
   },
   "outputs": [
    {
     "data": {
      "text/plain": [
       "<matplotlib.lines.Line2D at 0x988e5c0>"
      ]
     },
     "execution_count": 67,
     "metadata": {},
     "output_type": "execute_result"
    },
    {
     "data": {
      "image/png": "[encoded data removed]",
      "text/plain": [
       "<matplotlib.figure.Figure at 0x9765550>"
      ]
     },
     "metadata": {},
     "output_type": "display_data"
    }
   ],
   "source": [
    "result = odeint(func, y0, x, args=(3.6,)) \n",
    "psi = result[:,0]\n",
    "plt.plot(x, psi)\n",
    "plt.xlim(0,1.2*a)\n",
    "plt.ylim(-1,1)\n",
    "plt.plot(x,np.zeros_like(x))\n",
    "plt.axvline(x=a, color = 'k')"
   ]
  },
  {
   "cell_type": "markdown",
   "metadata": {},
   "source": [
    "Too high"
   ]
  },
  {
   "cell_type": "code",
   "execution_count": 68,
   "metadata": {
    "collapsed": false
   },
   "outputs": [
    {
     "data": {
      "text/plain": [
       "<matplotlib.lines.Line2D at 0x980e2e8>"
      ]
     },
     "execution_count": 68,
     "metadata": {},
     "output_type": "execute_result"
    },
    {
     "data": {
      "image/png": "[encoded data removed]",
      "text/plain": [
       "<matplotlib.figure.Figure at 0x98c2ef0>"
      ]
     },
     "metadata": {},
     "output_type": "display_data"
    }
   ],
   "source": [
    "result = odeint(func, y0, x, args=(3.0,)) \n",
    "psi = result[:,0]\n",
    "plt.plot(x, psi)\n",
    "plt.xlim(0,1.2*a)\n",
    "plt.ylim(-1,1)\n",
    "plt.plot(x,np.zeros_like(x))\n",
    "plt.axvline(x=a, color = 'k')"
   ]
  },
  {
   "cell_type": "markdown",
   "metadata": {},
   "source": [
    "Too low"
   ]
  },
  {
   "cell_type": "code",
   "execution_count": 69,
   "metadata": {
    "collapsed": false
   },
   "outputs": [
    {
     "data": {
      "text/plain": [
       "3.3867695515733374"
      ]
     },
     "execution_count": 69,
     "metadata": {},
     "output_type": "execute_result"
    },
    {
     "data": {
      "image/png": "[encoded data removed]",
      "text/plain": [
       "<matplotlib.figure.Figure at 0x98d3fd0>"
      ]
     },
     "metadata": {},
     "output_type": "display_data"
    }
   ],
   "source": [
    "find_energy(func, 1.0, 3.0, 3.6, even=False)"
   ]
  },
  {
   "cell_type": "markdown",
   "metadata": {},
   "source": [
    "Here is $E_3$"
   ]
  },
  {
   "cell_type": "markdown",
   "metadata": {},
   "source": [
    "Now let's do $\\psi_4$"
   ]
  },
  {
   "cell_type": "code",
   "execution_count": 70,
   "metadata": {
    "collapsed": false
   },
   "outputs": [
    {
     "data": {
      "text/plain": [
       "<matplotlib.lines.Line2D at 0x98e2fd0>"
      ]
     },
     "execution_count": 70,
     "metadata": {},
     "output_type": "execute_result"
    },
    {
     "data": {
      "image/png": "[encoded data removed]",
      "text/plain": [
       "<matplotlib.figure.Figure at 0x97140b8>"
      ]
     },
     "metadata": {},
     "output_type": "display_data"
    }
   ],
   "source": [
    "result = odeint(func, y0, x, args=(6.5,)) \n",
    "psi = result[:,0]\n",
    "plt.plot(x, psi)\n",
    "plt.xlim(0,1.2*a)\n",
    "plt.ylim(-1,1)\n",
    "plt.plot(x,np.zeros_like(x))\n",
    "plt.axvline(x=a, color = 'k')"
   ]
  },
  {
   "cell_type": "markdown",
   "metadata": {},
   "source": [
    "Too high"
   ]
  },
  {
   "cell_type": "code",
   "execution_count": 71,
   "metadata": {
    "collapsed": false
   },
   "outputs": [
    {
     "data": {
      "text/plain": [
       "<matplotlib.lines.Line2D at 0xa8e28d0>"
      ]
     },
     "execution_count": 71,
     "metadata": {},
     "output_type": "execute_result"
    },
    {
     "data": {
      "image/png": "[encoded data removed]",
      "text/plain": [
       "<matplotlib.figure.Figure at 0x9527438>"
      ]
     },
     "metadata": {},
     "output_type": "display_data"
    }
   ],
   "source": [
    "result = odeint(func, y0, x, args=(5.5,)) \n",
    "psi = result[:,0]\n",
    "plt.plot(x, psi)\n",
    "plt.xlim(0,1.2*a)\n",
    "plt.ylim(-1,1)\n",
    "plt.plot(x,np.zeros_like(x))\n",
    "plt.axvline(x=a, color = 'k')"
   ]
  },
  {
   "cell_type": "code",
   "execution_count": null,
   "metadata": {
    "collapsed": true
   },
   "outputs": [],
   "source": [
    "Too low"
   ]
  },
  {
   "cell_type": "code",
   "execution_count": 72,
   "metadata": {
    "collapsed": false
   },
   "outputs": [
    {
     "data": {
      "text/plain": [
       "6.020923508565552"
      ]
     },
     "execution_count": 72,
     "metadata": {},
     "output_type": "execute_result"
    },
    {
     "data": {
      "image/png": "[encoded data removed]",
      "text/plain": [
       "<matplotlib.figure.Figure at 0x973a278>"
      ]
     },
     "metadata": {},
     "output_type": "display_data"
    }
   ],
   "source": [
    "find_energy(func, 1.0, 5.5, 6.5, even=False)"
   ]
  },
  {
   "cell_type": "markdown",
   "metadata": {},
   "source": [
    "Here is $E_4$"
   ]
  },
  {
   "cell_type": "markdown",
   "metadata": {},
   "source": [
    "----\n",
    "\n",
    "## Portfolio references\n",
    "* Problem 2.55, 2.56\n",
    "## Index terms\n",
    "* Infinite Square Well\n",
    "* Shooting\n",
    "## Book references\n",
    "* \n",
    "## External references\n",
    "* Shooting.ipynb"
   ]
  },
  {
   "cell_type": "code",
   "execution_count": null,
   "metadata": {
    "collapsed": true
   },
   "outputs": [],
   "source": []
  },
  {
   "cell_type": "code",
   "execution_count": null,
   "metadata": {
    "collapsed": true
   },
   "outputs": [],
   "source": []
  }
 ],
 "metadata": {
  "anaconda-cloud": {},
  "kernelspec": {
   "display_name": "Python [Root]",
   "language": "python",
   "name": "Python [Root]"
  },
  "language_info": {
   "codemirror_mode": {
    "name": "ipython",
    "version": 3
   },
   "file_extension": ".py",
   "mimetype": "text/x-python",
   "name": "python",
   "nbconvert_exporter": "python",
   "pygments_lexer": "ipython3",
   "version": "3.5.2"
  }
 },
 "nbformat": 4,
 "nbformat_minor": 0
}

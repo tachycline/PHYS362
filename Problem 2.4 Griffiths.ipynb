{
 "cells": [
  {
   "cell_type": "markdown",
   "metadata": {},
   "source": [
    "# Problem (2.4)\n",
    "\n",
    "## Problem statement\n",
    "\n",
    "Calculate $\\langle x \\rangle$, $\\langle x^2 \\rangle$, $\\langle p \\rangle$, $\\langle p^2 \\rangle$, $\\sigma_x$, and $\\sigma_p$, for the $n$th stationary state of the infinite square well. Check the uncertainty principle is satisfied. Which state comes closest to the uncertainty limit?\n",
    "\n",
    "----\n",
    "\n",
    "## Solution"
   ]
  },
  {
   "cell_type": "markdown",
   "metadata": {},
   "source": [
    "The $n$th stationary state is given by equation 2.35\n",
    "\n",
    "$$ \\Psi_n(x, t) = \\sqrt{\\frac{2}{a}} \\sin (\\frac{n\\pi}{a}x) e^(-iE_nt/\\hbar) $$"
   ]
  },
  {
   "cell_type": "code",
   "execution_count": 1,
   "metadata": {
    "collapsed": false
   },
   "outputs": [
    {
     "data": {
      "image/png": "[encoded data removed]",
      "text/latex": [
       "$$\\frac{\\sqrt{2}}{\\sqrt{a}} e^{- \\frac{i E_{n}}{\\hbar} t} \\sin{\\left (\\frac{\\pi n}{a} x \\right )}$$"
      ],
      "text/plain": [
       "    -ⅈ⋅Eₙ⋅t            \n",
       "    ────────           \n",
       "       ℏ        ⎛π⋅n⋅x⎞\n",
       "√2⋅ℯ        ⋅sin⎜─────⎟\n",
       "                ⎝  a  ⎠\n",
       "───────────────────────\n",
       "           √a          "
      ]
     },
     "execution_count": 1,
     "metadata": {},
     "output_type": "execute_result"
    }
   ],
   "source": [
    "import sympy as sp\n",
    "from sympy.physics.quantum.constants import hbar\n",
    "sp.init_printing()\n",
    "\n",
    "a, n, x, E, t, m = sp.symbols('a n x E_n t m', real=True, positive=True)\n",
    "n = sp.symbols('n', integer=True)\n",
    "\n",
    "psi_n = sp.sqrt(2/a)*sp.sin(n*sp.pi*x/a)*sp.exp(-sp.I*E*t/hbar)\n",
    "psi_n"
   ]
  },
  {
   "cell_type": "markdown",
   "metadata": {},
   "source": [
    "To get $\\langle x \\rangle$ and $\\langle x^2 \\rangle$ we use the following equation:\n",
    "\n",
    "$$ \\langle x \\rangle = \\int_{0}^{a}\\Psi^* x \\Psi dx $$\n",
    "\n",
    "with the appropriate operator sandwiched between $\\psi^*$ and $\\psi$"
   ]
  },
  {
   "cell_type": "code",
   "execution_count": 2,
   "metadata": {
    "collapsed": false
   },
   "outputs": [
    {
     "data": {
      "text/latex": [
       "$$\\begin{cases} 0 & \\text{for}\\: n = 0 \\\\\\frac{a}{2} & \\text{otherwise} \\end{cases}$$"
      ],
      "text/plain": [
       "⎧0  for n = 0\n",
       "⎪            \n",
       "⎨a           \n",
       "⎪─  otherwise\n",
       "⎩2           "
      ]
     },
     "execution_count": 2,
     "metadata": {},
     "output_type": "execute_result"
    }
   ],
   "source": [
    "#conjugate psi_n\n",
    "psisq = sp.conjugate(psi_n)*psi_n\n",
    "expectx = sp.integrate(x*psisq, (x, 0, a))\n",
    "sp.simplify(expectx)"
   ]
  },
  {
   "cell_type": "markdown",
   "metadata": {},
   "source": [
    "here is $\\langle x \\rangle$"
   ]
  },
  {
   "cell_type": "code",
   "execution_count": 3,
   "metadata": {
    "collapsed": false
   },
   "outputs": [
    {
     "data": {
      "text/latex": [
       "$$\\begin{cases} 0 & \\text{for}\\: n = 0 \\\\\\frac{a^{2}}{3} - \\frac{a^{2}}{2 \\pi^{2} n^{2}} & \\text{otherwise} \\end{cases}$$"
      ],
      "text/plain": [
       "⎧     0        for n = 0\n",
       "⎪                       \n",
       "⎪ 2       2             \n",
       "⎨a       a              \n",
       "⎪── - ───────  otherwise\n",
       "⎪3       2  2           \n",
       "⎩     2⋅π ⋅n            "
      ]
     },
     "execution_count": 3,
     "metadata": {},
     "output_type": "execute_result"
    }
   ],
   "source": [
    "expectx2 = sp.integrate(x**2*psisq, (x, 0, a))\n",
    "sp.simplify(expectx2)"
   ]
  },
  {
   "cell_type": "markdown",
   "metadata": {},
   "source": [
    "here is $\\langle x^2 \\rangle$"
   ]
  },
  {
   "cell_type": "markdown",
   "metadata": {},
   "source": [
    "To get $\\langle p \\rangle$, we take the time derivative of $\\langle x \\rangle$ and multiply by mass, $ m \\frac{d\\langle x \\rangle}{dt}$"
   ]
  },
  {
   "cell_type": "code",
   "execution_count": 4,
   "metadata": {
    "collapsed": false
   },
   "outputs": [
    {
     "data": {
      "image/png": "[encoded data removed]",
      "text/latex": [
       "$$0$$"
      ],
      "text/plain": [
       "0"
      ]
     },
     "execution_count": 4,
     "metadata": {},
     "output_type": "execute_result"
    }
   ],
   "source": [
    "expectp = m*sp.diff(expectx, t)\n",
    "expectp"
   ]
  },
  {
   "cell_type": "markdown",
   "metadata": {},
   "source": [
    "Here is $\\langle p \\rangle$ (obviously)"
   ]
  },
  {
   "cell_type": "markdown",
   "metadata": {},
   "source": [
    "For $\\langle p^2 \\rangle$, we sandwich the squared momentum operator, $-\\hbar^2\\frac{\\partial^2}{\\partial x^2}$ between $\\Psi^*$ and $\\Psi$ and integrate"
   ]
  },
  {
   "cell_type": "code",
   "execution_count": 5,
   "metadata": {
    "collapsed": false
   },
   "outputs": [
    {
     "data": {
      "text/latex": [
       "$$\\begin{cases} 0 & \\text{for}\\: \\frac{\\pi n}{a} = 0 \\\\\\frac{\\pi^{2} n^{2}}{a^{2}} \\hbar^{2} & \\text{otherwise} \\end{cases}$$"
      ],
      "text/plain": [
       "⎧              π⋅n    \n",
       "⎪   0      for ─── = 0\n",
       "⎪               a     \n",
       "⎪                     \n",
       "⎨ 2  2  2             \n",
       "⎪ℏ ⋅π ⋅n              \n",
       "⎪────────   otherwise \n",
       "⎪    2                \n",
       "⎩   a                 "
      ]
     },
     "execution_count": 5,
     "metadata": {},
     "output_type": "execute_result"
    }
   ],
   "source": [
    "expectp2 = -(hbar**2)*sp.integrate(sp.conjugate(psi_n)*sp.diff(psi_n, x, 2), (x, 0, a))\n",
    "sp.simplify(expectp2)"
   ]
  },
  {
   "cell_type": "markdown",
   "metadata": {},
   "source": [
    "Here is $\\langle p^2 \\rangle$"
   ]
  },
  {
   "cell_type": "markdown",
   "metadata": {},
   "source": [
    "Now \n",
    "\n",
    "$$ \\sigma_x = \\sqrt{\\langle x^2 \\rangle - \\langle x \\rangle ^2 } $$"
   ]
  },
  {
   "cell_type": "code",
   "execution_count": 6,
   "metadata": {
    "collapsed": false
   },
   "outputs": [
    {
     "data": {
      "text/latex": [
       "$$\\begin{cases} 0 & \\text{for}\\: n = 0 \\\\\\frac{\\sqrt{3} a}{6} \\sqrt{1 - \\frac{6}{\\pi^{2} n^{2}}} & \\text{otherwise} \\end{cases}$$"
      ],
      "text/plain": [
       "⎧          0            for n = 0\n",
       "⎪                                \n",
       "⎪          ___________           \n",
       "⎪         ╱       6              \n",
       "⎨√3⋅a⋅   ╱  1 - ─────            \n",
       "⎪       ╱        2  2            \n",
       "⎪     ╲╱        π ⋅n             \n",
       "⎪─────────────────────  otherwise\n",
       "⎩          6                     "
      ]
     },
     "execution_count": 6,
     "metadata": {},
     "output_type": "execute_result"
    }
   ],
   "source": [
    "sigmax = sp.sqrt(expectx2 - (expectx**2))\n",
    "sp.simplify(sigmax)"
   ]
  },
  {
   "cell_type": "code",
   "execution_count": 7,
   "metadata": {
    "collapsed": false
   },
   "outputs": [
    {
     "data": {
      "text/latex": [
       "$$\\begin{cases} 0 & \\text{for}\\: \\frac{\\pi n}{a} = 0 \\\\\\frac{\\pi \\left|{n}\\right|}{a} \\hbar & \\text{otherwise} \\end{cases}$$"
      ],
      "text/plain": [
       "⎧             π⋅n    \n",
       "⎪   0     for ─── = 0\n",
       "⎪              a     \n",
       "⎨                    \n",
       "⎪ℏ⋅π⋅│n│             \n",
       "⎪───────   otherwise \n",
       "⎩   a                "
      ]
     },
     "execution_count": 7,
     "metadata": {},
     "output_type": "execute_result"
    }
   ],
   "source": [
    "#repeat the same thing for p\n",
    "sigmap = sp.sqrt(expectp2 - (expectp)**2)\n",
    "sp.simplify(sigmap)"
   ]
  },
  {
   "cell_type": "markdown",
   "metadata": {},
   "source": [
    "check the uncertainty principle\n",
    "\n",
    "$$\\sigma_x\\sigma_p \\geq \\frac{\\hbar}{2}$$"
   ]
  },
  {
   "cell_type": "code",
   "execution_count": 8,
   "metadata": {
    "collapsed": false
   },
   "outputs": [
    {
     "data": {
      "text/latex": [
       "$$\\begin{cases} 0 & \\text{for}\\: n = 0 \\\\\\begin{cases} 0 & \\text{for}\\: \\frac{\\pi n}{a} = 0 \\\\\\frac{\\sqrt{3} \\pi}{6} \\hbar \\sqrt{1 - \\frac{6}{\\pi^{2} n^{2}}} \\left|{n}\\right| & \\text{otherwise} \\end{cases} & \\text{otherwise} \\end{cases}$$"
      ],
      "text/plain": [
       "⎧                    0                      for n = 0\n",
       "⎪                                                    \n",
       "⎪⎧                                 π⋅n               \n",
       "⎪⎪             0               for ─── = 0           \n",
       "⎪⎪                                  a                \n",
       "⎪⎪                                                   \n",
       "⎨⎪            ___________                            \n",
       "⎪⎨           ╱       6                      otherwise\n",
       "⎪⎪√3⋅ℏ⋅π⋅   ╱  1 - ───── ⋅│n│                        \n",
       "⎪⎪         ╱        2  2                             \n",
       "⎪⎪       ╲╱        π ⋅n                              \n",
       "⎪⎪───────────────────────────   otherwise            \n",
       "⎩⎩             6                                     "
      ]
     },
     "execution_count": 8,
     "metadata": {},
     "output_type": "execute_result"
    }
   ],
   "source": [
    "sigmaprod = sigmax * sigmap\n",
    "sp.simplify(sigmaprod)"
   ]
  },
  {
   "cell_type": "markdown",
   "metadata": {},
   "source": [
    "In the above expression we can see that the product $\\sigma_x\\sigma_p$ grows as n gets bigger. So the smallest value will be when $n$ = 1. So the ground state comes closest to the limit. "
   ]
  },
  {
   "cell_type": "markdown",
   "metadata": {},
   "source": [
    "----\n",
    "\n",
    "## Portfolio references\n",
    "* Problem 1.3, 1.5, 1.9\n",
    "## Index terms\n",
    "* uncertainty principle\n",
    "* Schrodinger equation\n",
    "* expectation value\n",
    "* standard deviation\n",
    "* momentum operator\n",
    "## Book references\n",
    "* eq 1.33 and 1.35 on pages 16 and 17, equation 2.35 on page 34\n",
    "## External references"
   ]
  },
  {
   "cell_type": "code",
   "execution_count": null,
   "metadata": {
    "collapsed": true
   },
   "outputs": [],
   "source": []
  },
  {
   "cell_type": "code",
   "execution_count": null,
   "metadata": {
    "collapsed": true
   },
   "outputs": [],
   "source": []
  }
 ],
 "metadata": {
  "anaconda-cloud": {},
  "kernelspec": {
   "display_name": "Python [Root]",
   "language": "python",
   "name": "Python [Root]"
  },
  "language_info": {
   "codemirror_mode": {
    "name": "ipython",
    "version": 3
   },
   "file_extension": ".py",
   "mimetype": "text/x-python",
   "name": "python",
   "nbconvert_exporter": "python",
   "pygments_lexer": "ipython3",
   "version": "3.5.2"
  }
 },
 "nbformat": 4,
 "nbformat_minor": 0
}

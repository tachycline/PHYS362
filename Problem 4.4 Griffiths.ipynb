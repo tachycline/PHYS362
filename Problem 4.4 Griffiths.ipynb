{
 "cells": [
  {
   "cell_type": "markdown",
   "metadata": {},
   "source": [
    "# Problem (4.4)\n",
    "\n",
    "## Problem statement\n",
    "\n",
    "Show that\n",
    "\n",
    "$$ \\Theta(\\theta) = A \\ln[\\tan(\\theta/2)] $$\n",
    "\n",
    "satisfies the $\\theta$ equation when $l=m=0$. This is the unacceptable \"second solution\" - what's wrong with it?\n",
    "\n",
    "----\n",
    "\n",
    "## Solution"
   ]
  },
  {
   "cell_type": "markdown",
   "metadata": {},
   "source": [
    "Let's start by setting up the $\\theta$ equation\n",
    "\n",
    "$$\\sin\\theta\\frac{d}{d\\theta}(\\sin\\theta\\frac{d\\Theta}{d\\theta}) + [l(l+1)\\sin^2\\theta - m^2] = 0 $$"
   ]
  },
  {
   "cell_type": "code",
   "execution_count": null,
   "metadata": {
    "collapsed": false
   },
   "outputs": [
    {
     "data": {
      "image/png": "[encoded data removed]",
      "text/latex": [
       "$$0$$"
      ],
      "text/plain": [
       "0"
      ]
     },
     "execution_count": 1,
     "metadata": {},
     "output_type": "execute_result"
    }
   ],
   "source": [
    "import sympy as sp\n",
    "sp.init_printing()\n",
    "\n",
    "o, A, phi = sp.symbols('theta A phi', real=True)\n",
    "\n",
    "l = 0\n",
    "\n",
    "m = 0\n",
    "\n",
    "Theta = A*sp.ln(sp.tan(o/2))\n",
    "ThetaEq = sp.sin(o)*sp.diff(sp.sin(o)*sp.diff(Theta, o).trigsimp(), o) + (l*(l+1)*sp.sin(o)**2 - m**2)*Theta\n",
    "ThetaEq\n"
   ]
  },
  {
   "cell_type": "code",
   "execution_count": null,
   "metadata": {
    "collapsed": false
   },
   "outputs": [],
   "source": [
    "#check normalization\n",
    "\n",
    "sp.integrate((sp.conjugate(Theta)*Theta*sp.sin(o)).trigsimp(), (o, 0, sp.pi))"
   ]
  },
  {
   "cell_type": "markdown",
   "metadata": {
    "collapsed": true
   },
   "source": [
    "----\n",
    "\n",
    "## Portfolio references\n",
    "* \n",
    "## Index terms\n",
    "* Spherical Harmonics\n",
    "* Legendre Polynomial\n",
    "* Associated Legendre Function\n",
    "## Book references\n",
    "*\n",
    "## External references"
   ]
  },
  {
   "cell_type": "code",
   "execution_count": null,
   "metadata": {
    "collapsed": true
   },
   "outputs": [],
   "source": []
  },
  {
   "cell_type": "code",
   "execution_count": null,
   "metadata": {
    "collapsed": true
   },
   "outputs": [],
   "source": []
  },
  {
   "cell_type": "code",
   "execution_count": null,
   "metadata": {
    "collapsed": true
   },
   "outputs": [],
   "source": []
  }
 ],
 "metadata": {
  "anaconda-cloud": {},
  "kernelspec": {
   "display_name": "Python [Root]",
   "language": "python",
   "name": "Python [Root]"
  },
  "language_info": {
   "codemirror_mode": {
    "name": "ipython",
    "version": 3
   },
   "file_extension": ".py",
   "mimetype": "text/x-python",
   "name": "python",
   "nbconvert_exporter": "python",
   "pygments_lexer": "ipython3",
   "version": "3.5.2"
  }
 },
 "nbformat": 4,
 "nbformat_minor": 0
}

{
 "cells": [
  {
   "cell_type": "markdown",
   "metadata": {},
   "source": [
    "# Problem (2.17)\n",
    "\n",
    "## Problem statement\n",
    "\n",
    "In this problem we explore some of the more useful thereoms (stated without proof) involving the Hermite Polynomials.\n",
    "\n",
    "1. The Rodrigues formula says that\n",
    "\n",
    "$$ H_n(\\xi) = (-1)^{n} e^{\\xi^2} \\Big (\\frac{d}{d\\xi} \\Big)^n e^{-\\xi^2} $$\n",
    "\n",
    "Use it to Derive $H_3$ and $H_4$\n",
    "\n",
    "2. The following recusrsion relation gives you $H_{n+1}$ in terms of the two preceding Hermite polynomials\n",
    "\n",
    "$$H_{n+1}(\\xi) = 2\\xi H_n(\\xi) - 2n H_{n-1} (\\xi)$$\n",
    "\n",
    "Use it, together with your answer from part 1, to obtain $H_5$ and $H_6$\n",
    "\n",
    "3. If you differentiate an $n$th order polynomial, you get a polynomial of order $(n-1)$. For the Hermite Polynomials, in fact,\n",
    "\n",
    "$$ \\frac{dH_n}{d\\xi} = 2nH_{n-1}(\\xi) $$\n",
    "\n",
    "Check this by differenitating $H_5$ and $H_6$\n",
    "\n",
    "4. $H_n(\\xi)$ is the $n$th z-derivative, at $z = 0$, of the generating function $exp(-z^2 + 2z\\xi)$; or, to put it another way, it is the coefficient of $z^n/n!$ in the taylor series expansion for this function:\n",
    "\n",
    "$$ e^{-z^2+2z\\xi} = \\sum\\limits_{n=0}^{\\infty} \\frac{z^n}{n!} H_n(\\xi) $$\n",
    "\n",
    "Use this to rederive $H_0$, $H_1$ and $H_2$\n",
    "\n",
    "----\n",
    "\n",
    "## Solution"
   ]
  },
  {
   "cell_type": "code",
   "execution_count": 1,
   "metadata": {
    "collapsed": false
   },
   "outputs": [],
   "source": [
    "import sympy as sp\n",
    "from sympy.physics.quantum.constants import hbar\n",
    "sp.init_printing()\n",
    "\n",
    "xi = sp.symbols('xi', real=True, positive=True)\n",
    "n = sp.symbols('n', real=True, integer=True)\n",
    "z = sp.symbols('z')"
   ]
  },
  {
   "cell_type": "code",
   "execution_count": 2,
   "metadata": {
    "collapsed": false
   },
   "outputs": [
    {
     "data": {
      "image/png": "[encoded data removed]",
      "text/latex": [
       "$$8 \\xi^{3} - 12 \\xi$$"
      ],
      "text/plain": [
       "   3       \n",
       "8⋅ξ  - 12⋅ξ"
      ]
     },
     "execution_count": 2,
     "metadata": {},
     "output_type": "execute_result"
    }
   ],
   "source": [
    "#Use Rodrigues Formula\n",
    "n = 3\n",
    "H_n = (-1)**n * sp.exp(xi**2)* sp.diff(sp.exp(-xi**2), xi, n)\n",
    "H_3 = sp.simplify(H_n)\n",
    "H_3"
   ]
  },
  {
   "cell_type": "markdown",
   "metadata": {},
   "source": [
    "Here is $H_3$"
   ]
  },
  {
   "cell_type": "code",
   "execution_count": 3,
   "metadata": {
    "collapsed": false
   },
   "outputs": [
    {
     "data": {
      "image/png": "[encoded data removed]",
      "text/latex": [
       "$$16 \\xi^{4} - 48 \\xi^{2} + 12$$"
      ],
      "text/plain": [
       "    4       2     \n",
       "16⋅ξ  - 48⋅ξ  + 12"
      ]
     },
     "execution_count": 3,
     "metadata": {},
     "output_type": "execute_result"
    }
   ],
   "source": [
    "n = 4\n",
    "H_n = (-1)**n * sp.exp(xi**2)* sp.diff(sp.exp(-xi**2), xi, n)\n",
    "H_4 = H_n\n",
    "H_4"
   ]
  },
  {
   "cell_type": "markdown",
   "metadata": {},
   "source": [
    "Here is $H_4$, part 1 done"
   ]
  },
  {
   "cell_type": "code",
   "execution_count": 4,
   "metadata": {
    "collapsed": false
   },
   "outputs": [
    {
     "data": {
      "image/png": "[encoded data removed]",
      "text/latex": [
       "$$32 \\xi^{5} - 160 \\xi^{3} + 120 \\xi$$"
      ],
      "text/plain": [
       "    5        3        \n",
       "32⋅ξ  - 160⋅ξ  + 120⋅ξ"
      ]
     },
     "execution_count": 4,
     "metadata": {},
     "output_type": "execute_result"
    }
   ],
   "source": [
    "#use recusion formula\n",
    "\n",
    "H_5 = 2*xi*H_4 - 2*4*H_3\n",
    "sp.simplify(H_5)"
   ]
  },
  {
   "cell_type": "markdown",
   "metadata": {},
   "source": [
    "Here is $H_5$"
   ]
  },
  {
   "cell_type": "code",
   "execution_count": 5,
   "metadata": {
    "collapsed": false
   },
   "outputs": [
    {
     "data": {
      "image/png": "[encoded data removed]",
      "text/latex": [
       "$$64 \\xi^{6} - 480 \\xi^{4} + 720 \\xi^{2} - 120$$"
      ],
      "text/plain": [
       "    6        4        2      \n",
       "64⋅ξ  - 480⋅ξ  + 720⋅ξ  - 120"
      ]
     },
     "execution_count": 5,
     "metadata": {},
     "output_type": "execute_result"
    }
   ],
   "source": [
    "H_6 = 2*xi*H_5 - 2*5*H_4\n",
    "sp.simplify(H_6)"
   ]
  },
  {
   "cell_type": "markdown",
   "metadata": {},
   "source": [
    "Here is $H_6$, part 2 done"
   ]
  },
  {
   "cell_type": "code",
   "execution_count": 6,
   "metadata": {
    "collapsed": false
   },
   "outputs": [
    {
     "data": {
      "image/png": "[encoded data removed]",
      "text/latex": [
       "$$32 \\xi^{5} - 160 \\xi^{3} + 120 \\xi$$"
      ],
      "text/plain": [
       "    5        3        \n",
       "32⋅ξ  - 160⋅ξ  + 120⋅ξ"
      ]
     },
     "execution_count": 6,
     "metadata": {},
     "output_type": "execute_result"
    }
   ],
   "source": [
    "#Check Differenitiation of H_6\n",
    "n = 6\n",
    "sp.simplify(sp.diff(H_6, xi)/(2*n))"
   ]
  },
  {
   "cell_type": "markdown",
   "metadata": {},
   "source": [
    "This is equal to $H_5$"
   ]
  },
  {
   "cell_type": "code",
   "execution_count": 7,
   "metadata": {
    "collapsed": false
   },
   "outputs": [
    {
     "data": {
      "image/png": "[encoded data removed]",
      "text/latex": [
       "$$16 \\xi^{4} - 48 \\xi^{2} + 12$$"
      ],
      "text/plain": [
       "    4       2     \n",
       "16⋅ξ  - 48⋅ξ  + 12"
      ]
     },
     "execution_count": 7,
     "metadata": {},
     "output_type": "execute_result"
    }
   ],
   "source": [
    "n = 5\n",
    "sp.simplify(sp.diff(H_5)/(2*n))"
   ]
  },
  {
   "cell_type": "markdown",
   "metadata": {},
   "source": [
    "This is equal to $H_4$, part 3 done"
   ]
  },
  {
   "cell_type": "code",
   "execution_count": 8,
   "metadata": {
    "collapsed": false
   },
   "outputs": [
    {
     "data": {
      "image/png": "[encoded data removed]",
      "text/latex": [
       "$$1 + z^{2} \\left(2 \\xi^{2} - 1\\right) + 2 \\xi z + \\mathcal{O}\\left(z^{3}\\right)$$"
      ],
      "text/plain": [
       "     2 ⎛   2    ⎞            ⎛ 3⎞\n",
       "1 + z ⋅⎝2⋅ξ  - 1⎠ + 2⋅ξ⋅z + O⎝z ⎠"
      ]
     },
     "execution_count": 8,
     "metadata": {},
     "output_type": "execute_result"
    }
   ],
   "source": [
    "#Let's do the last part by computing the first 3 terms of the series and compare to the Hermite polynomials\n",
    "\n",
    "fz = sp.exp(-z**2 + 2*z*xi)\n",
    "sp.series(fz, z, x0=0, n=3)"
   ]
  },
  {
   "cell_type": "markdown",
   "metadata": {},
   "source": [
    "From this expansion, we can deduce that $H_0 = 1$, $H_1 = 2\\xi$ and $H_2 = 4\\xi^2 -2 $"
   ]
  },
  {
   "cell_type": "code",
   "execution_count": null,
   "metadata": {
    "collapsed": true
   },
   "outputs": [],
   "source": []
  },
  {
   "cell_type": "markdown",
   "metadata": {
    "collapsed": true
   },
   "source": [
    "----\n",
    "\n",
    "## Portfolio references\n",
    "* \n",
    "## Index terms\n",
    "* Hemite Polynomial\n",
    "* Rodrigues formula\n",
    "* recursion formula\n",
    "## Book references\n",
    "*\n",
    "## External references"
   ]
  },
  {
   "cell_type": "code",
   "execution_count": null,
   "metadata": {
    "collapsed": true
   },
   "outputs": [],
   "source": []
  },
  {
   "cell_type": "code",
   "execution_count": null,
   "metadata": {
    "collapsed": true
   },
   "outputs": [],
   "source": []
  },
  {
   "cell_type": "code",
   "execution_count": null,
   "metadata": {
    "collapsed": true
   },
   "outputs": [],
   "source": []
  }
 ],
 "metadata": {
  "anaconda-cloud": {},
  "kernelspec": {
   "display_name": "Python [Root]",
   "language": "python",
   "name": "Python [Root]"
  },
  "language_info": {
   "codemirror_mode": {
    "name": "ipython",
    "version": 3
   },
   "file_extension": ".py",
   "mimetype": "text/x-python",
   "name": "python",
   "nbconvert_exporter": "python",
   "pygments_lexer": "ipython3",
   "version": "3.5.2"
  }
 },
 "nbformat": 4,
 "nbformat_minor": 0
}

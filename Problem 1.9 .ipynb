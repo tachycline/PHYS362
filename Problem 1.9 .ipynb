{
 "cells": [
  {
   "cell_type": "markdown",
   "metadata": {
    "collapsed": true
   },
   "source": [
    "# Problem 1.9 \n",
    "\n",
    "## Problem Statement \n",
    "\n",
    "A particle of mass $m$ is in the state $$\\Psi(x,t) = A e^{-a[(mx^2/\\hbar)+it]},$$\n",
    "\n",
    "where $A$ and $a$ are positive real constants.\n",
    "\n",
    "* Find $A$\n",
    "* For what potential energy function $V(x)$ does $\\Psi$ satisfy the Schr\\\"odinger equation?\n",
    "* Calculate expectation values of $x$, $x^2$, $p$, $p^2$.\n",
    "* Verify that products are consistent with the uncertainty principle.\n"
   ]
  },
  {
   "cell_type": "code",
   "execution_count": 13,
   "metadata": {
    "collapsed": false,
    "scrolled": false
   },
   "outputs": [
    {
     "data": {
      "image/png": "[encoded data removed]",
      "text/latex": [
       "$$A e^{- a \\left(\\frac{m x^{2}}{\\hbar} + i t\\right)}$$"
      ],
      "text/plain": [
       "      ⎛   2      ⎞\n",
       "      ⎜m⋅x       ⎟\n",
       "   -a⋅⎜──── + ⅈ⋅t⎟\n",
       "      ⎝ ℏ        ⎠\n",
       "A⋅ℯ               "
      ]
     },
     "execution_count": 13,
     "metadata": {},
     "output_type": "execute_result"
    }
   ],
   "source": [
    "import sympy as sp\n",
    "from sympy.physics.quantum.constants import hbar\n",
    "\n",
    "sp.init_printing()\n",
    "\n",
    "A, a, m = sp.symbols (\"A a m\", real = True, positive = True)\n",
    "x, t = sp.symbols (\"x t\", real = True)\n",
    "\n",
    "Psi = A*sp.exp(-a*((m*x**2/hbar)+sp.I*t))\n",
    "Psi"
   ]
  },
  {
   "cell_type": "code",
   "execution_count": 19,
   "metadata": {
    "collapsed": false
   },
   "outputs": [
    {
     "data": {
      "image/png": "[encoded data removed]",
      "text/latex": [
       "$$\\left\\{- \\frac{\\sqrt[4]{2} \\sqrt[4]{a} \\sqrt[4]{m}}{\\sqrt[4]{\\hbar} \\sqrt[4]{\\pi}}, \\frac{\\sqrt[4]{2} \\sqrt[4]{a} \\sqrt[4]{m}}{\\sqrt[4]{\\hbar} \\sqrt[4]{\\pi}}\\right\\}$$"
      ],
      "text/plain": [
       "⎧ 4 ___ 4 ___ 4 ___   4 ___ 4 ___ 4 ___⎫\n",
       "⎪-╲╱ 2 ⋅╲╱ a ⋅╲╱ m    ╲╱ 2 ⋅╲╱ a ⋅╲╱ m ⎪\n",
       "⎨───────────────────, ─────────────────⎬\n",
       "⎪    4 ___ 4 ___         4 ___ 4 ___   ⎪\n",
       "⎩    ╲╱ ℏ ⋅╲╱ π          ╲╱ ℏ ⋅╲╱ π    ⎭"
      ]
     },
     "execution_count": 19,
     "metadata": {},
     "output_type": "execute_result"
    }
   ],
   "source": [
    "#Psi squared \n",
    "Psisq = Psi*sp.conjugate(Psi)\n",
    "\n",
    "#set normalization condition\n",
    "normalization_condition  = sp.Eq(1, sp.integrate(Psisq, (x, -sp.oo, sp.oo)))\n",
    "\n",
    "#solve for A\n",
    "values= sp.solveset (normalization_condition, A)\n",
    "values"
   ]
  },
  {
   "cell_type": "code",
   "execution_count": 20,
   "metadata": {
    "collapsed": false
   },
   "outputs": [
    {
     "data": {
      "image/png": "[encoded data removed]",
      "text/latex": [
       "$$\\frac{\\sqrt[4]{2} \\sqrt[4]{a} \\sqrt[4]{m}}{\\sqrt[4]{\\hbar} \\sqrt[4]{\\pi}} e^{- a \\left(\\frac{m x^{2}}{\\hbar} + i t\\right)}$$"
      ],
      "text/plain": [
       "                      ⎛   2      ⎞\n",
       "                      ⎜m⋅x       ⎟\n",
       "                   -a⋅⎜──── + ⅈ⋅t⎟\n",
       "4 ___ 4 ___ 4 ___     ⎝ ℏ        ⎠\n",
       "╲╱ 2 ⋅╲╱ a ⋅╲╱ m ⋅ℯ               \n",
       "──────────────────────────────────\n",
       "           4 ___ 4 ___            \n",
       "           ╲╱ ℏ ⋅╲╱ π             "
      ]
     },
     "execution_count": 20,
     "metadata": {},
     "output_type": "execute_result"
    }
   ],
   "source": [
    "Psi = Psi.subs(A, next(iter(values)))\n",
    "Psi"
   ]
  },
  {
   "cell_type": "markdown",
   "metadata": {},
   "source": [
    "## Part b solving for V(x) \n"
   ]
  },
  {
   "cell_type": "code",
   "execution_count": 22,
   "metadata": {
    "collapsed": false
   },
   "outputs": [
    {
     "data": {
      "image/png": "[encoded data removed]",
      "text/latex": [
       "$$- \\frac{\\sqrt[4]{2} i a^{\\frac{5}{4}} \\sqrt[4]{m}}{\\sqrt[4]{\\hbar} \\sqrt[4]{\\pi}} e^{- a \\left(\\frac{m x^{2}}{\\hbar} + i t\\right)}$$"
      ],
      "text/plain": [
       "                        ⎛   2      ⎞ \n",
       "                        ⎜m⋅x       ⎟ \n",
       "                     -a⋅⎜──── + ⅈ⋅t⎟ \n",
       " 4 ___    5/4 4 ___     ⎝ ℏ        ⎠ \n",
       "-╲╱ 2 ⋅ⅈ⋅a   ⋅╲╱ m ⋅ℯ                \n",
       "─────────────────────────────────────\n",
       "             4 ___ 4 ___             \n",
       "             ╲╱ ℏ ⋅╲╱ π              "
      ]
     },
     "execution_count": 22,
     "metadata": {},
     "output_type": "execute_result"
    }
   ],
   "source": [
    "DerPsi = sp.diff(Psi, t)\n",
    "DerPsi"
   ]
  },
  {
   "cell_type": "code",
   "execution_count": 25,
   "metadata": {
    "collapsed": false
   },
   "outputs": [
    {
     "data": {
      "image/png": "[encoded data removed]",
      "text/latex": [
       "$$\\frac{2 \\sqrt[4]{2} a^{\\frac{5}{4}} m^{\\frac{5}{4}}}{\\hbar^{\\frac{5}{4}} \\sqrt[4]{\\pi}} \\left(\\frac{2 a}{\\hbar} m x^{2} - 1\\right) e^{- a \\left(\\frac{m x^{2}}{\\hbar} + i t\\right)}$$"
      ],
      "text/plain": [
       "                                     ⎛   2      ⎞\n",
       "                                     ⎜m⋅x       ⎟\n",
       "                  ⎛       2    ⎞  -a⋅⎜──── + ⅈ⋅t⎟\n",
       "  4 ___  5/4  5/4 ⎜2⋅a⋅m⋅x     ⎟     ⎝ ℏ        ⎠\n",
       "2⋅╲╱ 2 ⋅a   ⋅m   ⋅⎜──────── - 1⎟⋅ℯ               \n",
       "                  ⎝   ℏ        ⎠                 \n",
       "─────────────────────────────────────────────────\n",
       "                     5/4 4 ___                   \n",
       "                    ℏ   ⋅╲╱ π                    "
      ]
     },
     "execution_count": 25,
     "metadata": {},
     "output_type": "execute_result"
    }
   ],
   "source": [
    "SderPsi = sp.diff(Psi, x, 2)\n",
    "SderPsi"
   ]
  },
  {
   "cell_type": "code",
   "execution_count": 31,
   "metadata": {
    "collapsed": false
   },
   "outputs": [
    {
     "data": {
      "image/png": "[encoded data removed]",
      "text/latex": [
       "$$\\frac{\\sqrt[4]{2} a^{\\frac{5}{4}}}{\\sqrt[4]{\\pi}} \\hbar^{\\frac{3}{4}} \\sqrt[4]{m} e^{- a \\left(\\frac{m x^{2}}{\\hbar} + i t\\right)} = \\frac{\\sqrt[4]{2} V \\sqrt[4]{a} \\sqrt[4]{m}}{\\sqrt[4]{\\hbar} \\sqrt[4]{\\pi}} e^{- a \\left(\\frac{m x^{2}}{\\hbar} + i t\\right)} - \\frac{\\sqrt[4]{2} a^{\\frac{5}{4}}}{\\sqrt[4]{\\pi}} \\hbar^{\\frac{3}{4}} \\sqrt[4]{m} \\left(\\frac{2 a}{\\hbar} m x^{2} - 1\\right) e^{- a \\left(\\frac{m x^{2}}{\\hbar} + i t\\right)}$$"
      ],
      "text/plain": [
       "                                                                              \n",
       "                          ⎛   2      ⎞                           ⎛   2      ⎞ \n",
       "                          ⎜m⋅x       ⎟                           ⎜m⋅x       ⎟ \n",
       "                       -a⋅⎜──── + ⅈ⋅t⎟                        -a⋅⎜──── + ⅈ⋅t⎟ \n",
       "4 ___  3/4  5/4 4 ___     ⎝ ℏ        ⎠   4 ___   4 ___ 4 ___     ⎝ ℏ        ⎠ \n",
       "╲╱ 2 ⋅ℏ   ⋅a   ⋅╲╱ m ⋅ℯ                  ╲╱ 2 ⋅V⋅╲╱ a ⋅╲╱ m ⋅ℯ                \n",
       "────────────────────────────────────── = ──────────────────────────────────── \n",
       "                4 ___                                4 ___ 4 ___              \n",
       "                ╲╱ π                                 ╲╱ ℏ ⋅╲╱ π               \n",
       "\n",
       "                                           ⎛   2      ⎞\n",
       "                                           ⎜m⋅x       ⎟\n",
       "                        ⎛       2    ⎞  -a⋅⎜──── + ⅈ⋅t⎟\n",
       "  4 ___  3/4  5/4 4 ___ ⎜2⋅a⋅m⋅x     ⎟     ⎝ ℏ        ⎠\n",
       "  ╲╱ 2 ⋅ℏ   ⋅a   ⋅╲╱ m ⋅⎜──────── - 1⎟⋅ℯ               \n",
       "                        ⎝   ℏ        ⎠                 \n",
       "- ─────────────────────────────────────────────────────\n",
       "                          4 ___                        \n",
       "                          ╲╱ π                         "
      ]
     },
     "execution_count": 31,
     "metadata": {},
     "output_type": "execute_result"
    }
   ],
   "source": [
    "V = sp.symbols(\"V\", real=True)\n",
    "ShE = sp.Eq(sp.I*hbar*DerPsi, -hbar**2/(2*m)*SderPsi + V*Psi)\n",
    "ShE"
   ]
  },
  {
   "cell_type": "code",
   "execution_count": 32,
   "metadata": {
    "collapsed": false
   },
   "outputs": [
    {
     "data": {
      "image/png": "[encoded data removed]",
      "text/latex": [
       "$$\\left\\{a \\left(2 a m x^{2} - \\hbar\\right) + \\hbar a\\right\\}$$"
      ],
      "text/plain": [
       "⎧  ⎛       2    ⎞      ⎫\n",
       "⎨a⋅⎝2⋅a⋅m⋅x  - ℏ⎠ + ℏ⋅a⎬\n",
       "⎩                      ⎭"
      ]
     },
     "execution_count": 32,
     "metadata": {},
     "output_type": "execute_result"
    }
   ],
   "source": [
    "Vx = sp.solveset(ShE, V)\n",
    "Vx"
   ]
  },
  {
   "cell_type": "code",
   "execution_count": 33,
   "metadata": {
    "collapsed": false
   },
   "outputs": [
    {
     "data": {
      "image/png": "[encoded data removed]",
      "text/latex": [
       "$$V = 2 a^{2} m x^{2}$$"
      ],
      "text/plain": [
       "       2    2\n",
       "V = 2⋅a ⋅m⋅x "
      ]
     },
     "execution_count": 33,
     "metadata": {},
     "output_type": "execute_result"
    }
   ],
   "source": [
    "sp.Eq(V, next(iter(Vx)).simplify())"
   ]
  },
  {
   "cell_type": "markdown",
   "metadata": {},
   "source": [
    "## Part c, determining the expectation values. "
   ]
  },
  {
   "cell_type": "code",
   "execution_count": 42,
   "metadata": {
    "collapsed": false
   },
   "outputs": [],
   "source": [
    "ExpX = sp.integrate(sp.conjugate(Psi)*x*Psi, (x, -sp.oo, sp.oo))\n",
    "ExpXsq = sp.integrate(sp.conjugate(Psi)*x**2*Psi, (x, -sp.oo, sp.oo))\n",
    "\n",
    "ExpP = -hbar*sp.I*sp.integrate(sp.conjugate(Psi)*sp.diff(Psi, x), (x, -sp.oo, sp.oo))\n",
    "ExpPsq = -hbar**2*sp.integrate(sp.conjugate(Psi)*sp.diff(Psi, x, 2), (x, -sp.oo, sp.oo))"
   ]
  },
  {
   "cell_type": "code",
   "execution_count": 36,
   "metadata": {
    "collapsed": false
   },
   "outputs": [
    {
     "data": {
      "image/png": "[encoded data removed]",
      "text/latex": [
       "$$0$$"
      ],
      "text/plain": [
       "0"
      ]
     },
     "execution_count": 36,
     "metadata": {},
     "output_type": "execute_result"
    }
   ],
   "source": [
    "ExpX"
   ]
  },
  {
   "cell_type": "code",
   "execution_count": 37,
   "metadata": {
    "collapsed": false
   },
   "outputs": [
    {
     "data": {
      "image/png": "[encoded data removed]",
      "text/latex": [
       "$$\\frac{\\hbar}{4 a m}$$"
      ],
      "text/plain": [
       "  ℏ  \n",
       "─────\n",
       "4⋅a⋅m"
      ]
     },
     "execution_count": 37,
     "metadata": {},
     "output_type": "execute_result"
    }
   ],
   "source": [
    "ExpXsq"
   ]
  },
  {
   "cell_type": "code",
   "execution_count": 38,
   "metadata": {
    "collapsed": false
   },
   "outputs": [
    {
     "data": {
      "image/png": "[encoded data removed]",
      "text/latex": [
       "$$0$$"
      ],
      "text/plain": [
       "0"
      ]
     },
     "execution_count": 38,
     "metadata": {},
     "output_type": "execute_result"
    }
   ],
   "source": [
    "ExpP"
   ]
  },
  {
   "cell_type": "code",
   "execution_count": 43,
   "metadata": {
    "collapsed": false
   },
   "outputs": [
    {
     "data": {
      "image/png": "[encoded data removed]",
      "text/latex": [
       "$$\\hbar a m$$"
      ],
      "text/plain": [
       "ℏ⋅a⋅m"
      ]
     },
     "execution_count": 43,
     "metadata": {},
     "output_type": "execute_result"
    }
   ],
   "source": [
    "ExpPsq"
   ]
  },
  {
   "cell_type": "markdown",
   "metadata": {},
   "source": [
    "## Part d, varifying the uncertainty principal "
   ]
  },
  {
   "cell_type": "code",
   "execution_count": 48,
   "metadata": {
    "collapsed": true
   },
   "outputs": [],
   "source": [
    "SigmaX = sp.sqrt(ExpXsq - ExpX**2)\n",
    "SigmaP = sp.sqrt(ExpPsq - ExpP**2)\n"
   ]
  },
  {
   "cell_type": "code",
   "execution_count": 49,
   "metadata": {
    "collapsed": false
   },
   "outputs": [
    {
     "data": {
      "image/png": "[encoded data removed]",
      "text/latex": [
       "$$\\frac{\\sqrt{\\hbar}}{2 \\sqrt{a} \\sqrt{m}}$$"
      ],
      "text/plain": [
       "   √ℏ  \n",
       "───────\n",
       "2⋅√a⋅√m"
      ]
     },
     "execution_count": 49,
     "metadata": {},
     "output_type": "execute_result"
    }
   ],
   "source": [
    "SigmaX"
   ]
  },
  {
   "cell_type": "code",
   "execution_count": 50,
   "metadata": {
    "collapsed": false
   },
   "outputs": [
    {
     "data": {
      "image/png": "[encoded data removed]",
      "text/latex": [
       "$$\\sqrt{\\hbar} \\sqrt{a} \\sqrt{m}$$"
      ],
      "text/plain": [
       "√ℏ⋅√a⋅√m"
      ]
     },
     "execution_count": 50,
     "metadata": {},
     "output_type": "execute_result"
    }
   ],
   "source": [
    "SigmaP"
   ]
  },
  {
   "cell_type": "code",
   "execution_count": 51,
   "metadata": {
    "collapsed": false
   },
   "outputs": [
    {
     "data": {
      "image/png": "[encoded data removed]",
      "text/latex": [
       "$$\\frac{\\hbar}{2}$$"
      ],
      "text/plain": [
       "ℏ\n",
       "─\n",
       "2"
      ]
     },
     "execution_count": 51,
     "metadata": {},
     "output_type": "execute_result"
    }
   ],
   "source": [
    "SigmaX*SigmaP"
   ]
  }
 ],
 "metadata": {
  "anaconda-cloud": {
   "environment": null,
   "summary": "trying to figure this out",
   "url": "https://anaconda.org/brittanyhassman/untitled"
  },
  "kernelspec": {
   "display_name": "Python [Root]",
   "language": "python",
   "name": "Python [Root]"
  },
  "language_info": {
   "codemirror_mode": {
    "name": "ipython",
    "version": 3
   },
   "file_extension": ".py",
   "mimetype": "text/x-python",
   "name": "python",
   "nbconvert_exporter": "python",
   "pygments_lexer": "ipython3",
   "version": "3.5.2"
  }
 },
 "nbformat": 4,
 "nbformat_minor": 0
}

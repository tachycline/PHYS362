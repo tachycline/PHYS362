{
 "cells": [
  {
   "cell_type": "markdown",
   "metadata": {},
   "source": [
    "# Problem 1.9\n",
    "\n",
    "\n",
    "## Problem statement\n",
    "\n",
    "A particle of mass $m$ is in the state $$\\Psi(x,t) = A e^{-a[(mx^2/\\hbar)+it]},$$\n",
    "\n",
    "\n",
    "where $A$ and $a$ are positive real constants.\n",
    "\n",
    "* Find $A$\n",
    "* For what potential energy function $V(x)$ does $\\Psi$ satisfy the Schr\\\"odinger equation?\n",
    "* Calculate expectation values of $x$, $x^2$, $p$, $p^2$.\n",
    "* Verify that products are consistent with the uncertainty principle.\n",
    "\n",
    "----\n",
    "\n",
    "## Solution"
   ]
  },
  {
   "cell_type": "markdown",
   "metadata": {
    "collapsed": true
   },
   "source": [
    "### Normalizing\n",
    "\n",
    "This is carried out just like in problem 1.5."
   ]
  },
  {
   "cell_type": "code",
   "execution_count": 1,
   "metadata": {
    "collapsed": false
   },
   "outputs": [
    {
     "data": {
      "image/png": "[encoded data removed]",
      "text/latex": [
       "$$A e^{- a \\left(\\frac{m x^{2}}{\\hbar} + i t\\right)}$$"
      ],
      "text/plain": [
       "      ⎛   2      ⎞\n",
       "      ⎜m⋅x       ⎟\n",
       "   -a⋅⎜──── + ⅈ⋅t⎟\n",
       "      ⎝ ℏ        ⎠\n",
       "A⋅ℯ               "
      ]
     },
     "execution_count": 1,
     "metadata": {},
     "output_type": "execute_result"
    }
   ],
   "source": [
    "import sympy as sp\n",
    "from sympy.physics.quantum.constants import hbar\n",
    "\n",
    "sp.init_printing()\n",
    "\n",
    "A, a, m = sp.symbols(\"A a m\", real=True, positive=True)\n",
    "x,t = sp.symbols(\"x t\", real=True)\n",
    "\n",
    "\n",
    "Psi = A*sp.exp(-a*((m*x**2/hbar)+sp.I*t))\n",
    "Psi"
   ]
  },
  {
   "cell_type": "code",
   "execution_count": 2,
   "metadata": {
    "collapsed": false
   },
   "outputs": [
    {
     "data": {
      "image/png": "[encoded data removed]",
      "text/latex": [
       "$$\\left\\{- \\frac{\\sqrt[4]{2} \\sqrt[4]{a} \\sqrt[4]{m}}{\\sqrt[4]{\\hbar} \\sqrt[4]{\\pi}}, \\frac{\\sqrt[4]{2} \\sqrt[4]{a} \\sqrt[4]{m}}{\\sqrt[4]{\\hbar} \\sqrt[4]{\\pi}}\\right\\}$$"
      ],
      "text/plain": [
       "⎧ 4 ___ 4 ___ 4 ___   4 ___ 4 ___ 4 ___⎫\n",
       "⎪-╲╱ 2 ⋅╲╱ a ⋅╲╱ m    ╲╱ 2 ⋅╲╱ a ⋅╲╱ m ⎪\n",
       "⎨───────────────────, ─────────────────⎬\n",
       "⎪    4 ___ 4 ___         4 ___ 4 ___   ⎪\n",
       "⎩    ╲╱ ℏ ⋅╲╱ π          ╲╱ ℏ ⋅╲╱ π    ⎭"
      ]
     },
     "execution_count": 2,
     "metadata": {},
     "output_type": "execute_result"
    }
   ],
   "source": [
    "normvals = sp.solveset(sp.Eq(1,sp.integrate(Psi * sp.conjugate(Psi), (x, -sp.oo, sp.oo))),A)\n",
    "normvals"
   ]
  },
  {
   "cell_type": "code",
   "execution_count": 3,
   "metadata": {
    "collapsed": false
   },
   "outputs": [
    {
     "data": {
      "image/png": "[encoded data removed]",
      "text/latex": [
       "$$\\frac{\\sqrt[4]{2} \\sqrt[4]{a} \\sqrt[4]{m}}{\\sqrt[4]{\\hbar} \\sqrt[4]{\\pi}} e^{- a \\left(\\frac{m x^{2}}{\\hbar} + i t\\right)}$$"
      ],
      "text/plain": [
       "                      ⎛   2      ⎞\n",
       "                      ⎜m⋅x       ⎟\n",
       "                   -a⋅⎜──── + ⅈ⋅t⎟\n",
       "4 ___ 4 ___ 4 ___     ⎝ ℏ        ⎠\n",
       "╲╱ 2 ⋅╲╱ a ⋅╲╱ m ⋅ℯ               \n",
       "──────────────────────────────────\n",
       "           4 ___ 4 ___            \n",
       "           ╲╱ ℏ ⋅╲╱ π             "
      ]
     },
     "execution_count": 3,
     "metadata": {},
     "output_type": "execute_result"
    }
   ],
   "source": [
    "Psi = Psi.subs(A, next(iter(normvals)))\n",
    "Psi"
   ]
  },
  {
   "cell_type": "markdown",
   "metadata": {},
   "source": [
    "### Finding $V(x)$\n",
    "\n",
    "I mentioned in class that I wasn't sure if you could tackle this yet, but the reason is computational, rather than mathematical. The mathematical process is that we substitute $\\Psi$ into Schr\\\"odinger's equation, and solve for $V$. Since there aren't any derivatives of $V$, we're solving an algebraic equation rather than a differential equation, and `sympy.solveset` can do the work for us.\n",
    "\n",
    "The piece we haven't covered is how to take derivatives using `sympy`, which we need to do to get the Schr\\\"odinger equation before we can solve it.  Recall that the Schr\\\"odinger equation is $$ i\\hbar {\\partial \\Psi\\over\\partial t} = -{\\hbar^2\\over 2 m}{\\partial^2\\Psi\\over\\partial x^2} + V\\Psi.$$\n",
    "\n",
    "Later on, we will see how to define an operator that takes the derivatives for us, but for now, we'll do them explicitly. We use `sympy.diff` to calculate differentials."
   ]
  },
  {
   "cell_type": "code",
   "execution_count": 4,
   "metadata": {
    "collapsed": false
   },
   "outputs": [
    {
     "data": {
      "image/png": "[encoded data removed]",
      "text/latex": [
       "$$- \\frac{\\sqrt[4]{2} i a^{\\frac{5}{4}} \\sqrt[4]{m}}{\\sqrt[4]{\\hbar} \\sqrt[4]{\\pi}} e^{- a \\left(\\frac{m x^{2}}{\\hbar} + i t\\right)}$$"
      ],
      "text/plain": [
       "                        ⎛   2      ⎞ \n",
       "                        ⎜m⋅x       ⎟ \n",
       "                     -a⋅⎜──── + ⅈ⋅t⎟ \n",
       " 4 ___    5/4 4 ___     ⎝ ℏ        ⎠ \n",
       "-╲╱ 2 ⋅ⅈ⋅a   ⋅╲╱ m ⋅ℯ                \n",
       "─────────────────────────────────────\n",
       "             4 ___ 4 ___             \n",
       "             ╲╱ ℏ ⋅╲╱ π              "
      ]
     },
     "execution_count": 4,
     "metadata": {},
     "output_type": "execute_result"
    }
   ],
   "source": [
    "dPsidt = sp.diff(Psi, t)\n",
    "dPsidt"
   ]
  },
  {
   "cell_type": "markdown",
   "metadata": {},
   "source": [
    "To get the second derivative, we just need to pass in another argument."
   ]
  },
  {
   "cell_type": "code",
   "execution_count": 5,
   "metadata": {
    "collapsed": false
   },
   "outputs": [
    {
     "data": {
      "image/png": "[encoded data removed]",
      "text/latex": [
       "$$\\frac{2 \\sqrt[4]{2} a^{\\frac{5}{4}} m^{\\frac{5}{4}}}{\\hbar^{\\frac{5}{4}} \\sqrt[4]{\\pi}} \\left(\\frac{2 a}{\\hbar} m x^{2} - 1\\right) e^{- a \\left(\\frac{m x^{2}}{\\hbar} + i t\\right)}$$"
      ],
      "text/plain": [
       "                                     ⎛   2      ⎞\n",
       "                                     ⎜m⋅x       ⎟\n",
       "                  ⎛       2    ⎞  -a⋅⎜──── + ⅈ⋅t⎟\n",
       "  4 ___  5/4  5/4 ⎜2⋅a⋅m⋅x     ⎟     ⎝ ℏ        ⎠\n",
       "2⋅╲╱ 2 ⋅a   ⋅m   ⋅⎜──────── - 1⎟⋅ℯ               \n",
       "                  ⎝   ℏ        ⎠                 \n",
       "─────────────────────────────────────────────────\n",
       "                     5/4 4 ___                   \n",
       "                    ℏ   ⋅╲╱ π                    "
      ]
     },
     "execution_count": 5,
     "metadata": {},
     "output_type": "execute_result"
    }
   ],
   "source": [
    "dsqPsidxsq = sp.diff(Psi, x, 2)\n",
    "dsqPsidxsq"
   ]
  },
  {
   "cell_type": "markdown",
   "metadata": {},
   "source": [
    "Now we build our equation and solve."
   ]
  },
  {
   "cell_type": "code",
   "execution_count": 6,
   "metadata": {
    "collapsed": false
   },
   "outputs": [
    {
     "data": {
      "image/png": "[encoded data removed]",
      "text/latex": [
       "$$\\frac{\\sqrt[4]{2} a^{\\frac{5}{4}}}{\\sqrt[4]{\\pi}} \\hbar^{\\frac{3}{4}} \\sqrt[4]{m} e^{- a \\left(\\frac{m x^{2}}{\\hbar} + i t\\right)} = \\frac{\\sqrt[4]{2} V \\sqrt[4]{a} \\sqrt[4]{m}}{\\sqrt[4]{\\hbar} \\sqrt[4]{\\pi}} e^{- a \\left(\\frac{m x^{2}}{\\hbar} + i t\\right)} - \\frac{\\sqrt[4]{2} a^{\\frac{5}{4}}}{\\sqrt[4]{\\pi}} \\hbar^{\\frac{3}{4}} \\sqrt[4]{m} \\left(\\frac{2 a}{\\hbar} m x^{2} - 1\\right) e^{- a \\left(\\frac{m x^{2}}{\\hbar} + i t\\right)}$$"
      ],
      "text/plain": [
       "                                                                              \n",
       "                          ⎛   2      ⎞                           ⎛   2      ⎞ \n",
       "                          ⎜m⋅x       ⎟                           ⎜m⋅x       ⎟ \n",
       "                       -a⋅⎜──── + ⅈ⋅t⎟                        -a⋅⎜──── + ⅈ⋅t⎟ \n",
       "4 ___  3/4  5/4 4 ___     ⎝ ℏ        ⎠   4 ___   4 ___ 4 ___     ⎝ ℏ        ⎠ \n",
       "╲╱ 2 ⋅ℏ   ⋅a   ⋅╲╱ m ⋅ℯ                  ╲╱ 2 ⋅V⋅╲╱ a ⋅╲╱ m ⋅ℯ                \n",
       "────────────────────────────────────── = ──────────────────────────────────── \n",
       "                4 ___                                4 ___ 4 ___              \n",
       "                ╲╱ π                                 ╲╱ ℏ ⋅╲╱ π               \n",
       "\n",
       "                                           ⎛   2      ⎞\n",
       "                                           ⎜m⋅x       ⎟\n",
       "                        ⎛       2    ⎞  -a⋅⎜──── + ⅈ⋅t⎟\n",
       "  4 ___  3/4  5/4 4 ___ ⎜2⋅a⋅m⋅x     ⎟     ⎝ ℏ        ⎠\n",
       "  ╲╱ 2 ⋅ℏ   ⋅a   ⋅╲╱ m ⋅⎜──────── - 1⎟⋅ℯ               \n",
       "                        ⎝   ℏ        ⎠                 \n",
       "- ─────────────────────────────────────────────────────\n",
       "                          4 ___                        \n",
       "                          ╲╱ π                         "
      ]
     },
     "execution_count": 6,
     "metadata": {},
     "output_type": "execute_result"
    }
   ],
   "source": [
    "V = sp.symbols(\"V\", real=True)\n",
    "schro = sp.Eq(sp.I*hbar*dPsidt, -hbar**2/(2*m)*dsqPsidxsq + V*Psi)\n",
    "schro"
   ]
  },
  {
   "cell_type": "markdown",
   "metadata": {},
   "source": [
    "This looks a lot messier than it actually is (there's all kinds of mass cancellation), but it would still be a little annoying to do by hand."
   ]
  },
  {
   "cell_type": "code",
   "execution_count": 7,
   "metadata": {
    "collapsed": false
   },
   "outputs": [
    {
     "data": {
      "image/png": "[encoded data removed]",
      "text/latex": [
       "$$\\left\\{a \\left(2 a m x^{2} - \\hbar\\right) + \\hbar a\\right\\}$$"
      ],
      "text/plain": [
       "⎧  ⎛       2    ⎞      ⎫\n",
       "⎨a⋅⎝2⋅a⋅m⋅x  - ℏ⎠ + ℏ⋅a⎬\n",
       "⎩                      ⎭"
      ]
     },
     "execution_count": 7,
     "metadata": {},
     "output_type": "execute_result"
    }
   ],
   "source": [
    "sp.solveset(schro, V)"
   ]
  },
  {
   "cell_type": "markdown",
   "metadata": {},
   "source": [
    "That can be simplified just a touch (to get rid of the $\\pm\\hbar a$)."
   ]
  },
  {
   "cell_type": "code",
   "execution_count": 8,
   "metadata": {
    "collapsed": false
   },
   "outputs": [
    {
     "data": {
      "image/png": "[encoded data removed]",
      "text/latex": [
       "$$V = 2 a^{2} m x^{2}$$"
      ],
      "text/plain": [
       "       2    2\n",
       "V = 2⋅a ⋅m⋅x "
      ]
     },
     "execution_count": 8,
     "metadata": {},
     "output_type": "execute_result"
    }
   ],
   "source": [
    "sp.Eq(V, next(iter(sp.solveset(schro, V))).simplify())"
   ]
  },
  {
   "cell_type": "markdown",
   "metadata": {},
   "source": [
    "### Expectation Values\n",
    "\n",
    "We've done expectation values for $x$ and $x^2$ in problem 1.5, but now we additionally want expectation values for $p$ and $p^2$. To correctly comptute these, we'll need to take derivatives, since $$p = {\\hbar\\over i} {\\partial\\over \\partial x}.$$ "
   ]
  },
  {
   "cell_type": "code",
   "execution_count": 9,
   "metadata": {
    "collapsed": true
   },
   "outputs": [],
   "source": [
    "expectx = sp.integrate(sp.conjugate(Psi)*x*Psi, (x, -sp.oo, sp.oo))\n",
    "expectxsq = sp.integrate(sp.conjugate(Psi)*x**2*Psi, (x, -sp.oo, sp.oo))\n",
    "\n",
    "expectp = -hbar*sp.I*sp.integrate(sp.conjugate(Psi)*sp.diff(Psi, x), (x, -sp.oo, sp.oo))\n",
    "expectpsq = -hbar**2*sp.integrate(sp.conjugate(Psi)*sp.diff(Psi, x, 2), (x, -sp.oo, sp.oo))"
   ]
  },
  {
   "cell_type": "code",
   "execution_count": 10,
   "metadata": {
    "collapsed": false
   },
   "outputs": [
    {
     "data": {
      "image/png": "[encoded data removed]",
      "text/latex": [
       "$$0$$"
      ],
      "text/plain": [
       "0"
      ]
     },
     "execution_count": 10,
     "metadata": {},
     "output_type": "execute_result"
    }
   ],
   "source": [
    "expectx"
   ]
  },
  {
   "cell_type": "code",
   "execution_count": 11,
   "metadata": {
    "collapsed": false
   },
   "outputs": [
    {
     "data": {
      "image/png": "[encoded data removed]",
      "text/latex": [
       "$$\\frac{\\hbar}{4 a m}$$"
      ],
      "text/plain": [
       "  ℏ  \n",
       "─────\n",
       "4⋅a⋅m"
      ]
     },
     "execution_count": 11,
     "metadata": {},
     "output_type": "execute_result"
    }
   ],
   "source": [
    "expectxsq"
   ]
  },
  {
   "cell_type": "code",
   "execution_count": 12,
   "metadata": {
    "collapsed": false
   },
   "outputs": [
    {
     "data": {
      "image/png": "[encoded data removed]",
      "text/latex": [
       "$$0$$"
      ],
      "text/plain": [
       "0"
      ]
     },
     "execution_count": 12,
     "metadata": {},
     "output_type": "execute_result"
    }
   ],
   "source": [
    "expectp"
   ]
  },
  {
   "cell_type": "code",
   "execution_count": 13,
   "metadata": {
    "collapsed": false
   },
   "outputs": [
    {
     "data": {
      "image/png": "[encoded data removed]",
      "text/latex": [
       "$$\\hbar a m$$"
      ],
      "text/plain": [
       "ℏ⋅a⋅m"
      ]
     },
     "execution_count": 13,
     "metadata": {},
     "output_type": "execute_result"
    }
   ],
   "source": [
    "expectpsq"
   ]
  },
  {
   "cell_type": "markdown",
   "metadata": {},
   "source": [
    "### The Uncertainty Principle\n",
    "\n",
    "Variances are calculated as before."
   ]
  },
  {
   "cell_type": "code",
   "execution_count": 14,
   "metadata": {
    "collapsed": false
   },
   "outputs": [
    {
     "data": {
      "image/png": "[encoded data removed]",
      "text/latex": [
       "$$\\frac{\\sqrt{\\hbar}}{2 \\sqrt{a} \\sqrt{m}}$$"
      ],
      "text/plain": [
       "   √ℏ  \n",
       "───────\n",
       "2⋅√a⋅√m"
      ]
     },
     "execution_count": 14,
     "metadata": {},
     "output_type": "execute_result"
    }
   ],
   "source": [
    "sigmax = sp.sqrt(expectxsq - expectx**2)\n",
    "sigmap = sp.sqrt(expectpsq - expectp**2)\n",
    "\n",
    "sigmax"
   ]
  },
  {
   "cell_type": "code",
   "execution_count": 15,
   "metadata": {
    "collapsed": false
   },
   "outputs": [
    {
     "data": {
      "image/png": "[encoded data removed]",
      "text/latex": [
       "$$\\sqrt{\\hbar} \\sqrt{a} \\sqrt{m}$$"
      ],
      "text/plain": [
       "√ℏ⋅√a⋅√m"
      ]
     },
     "execution_count": 15,
     "metadata": {},
     "output_type": "execute_result"
    }
   ],
   "source": [
    "sigmap"
   ]
  },
  {
   "cell_type": "markdown",
   "metadata": {},
   "source": [
    "Now the product."
   ]
  },
  {
   "cell_type": "code",
   "execution_count": 16,
   "metadata": {
    "collapsed": false
   },
   "outputs": [
    {
     "data": {
      "image/png": "[encoded data removed]",
      "text/latex": [
       "$$\\frac{\\hbar}{2}$$"
      ],
      "text/plain": [
       "ℏ\n",
       "─\n",
       "2"
      ]
     },
     "execution_count": 16,
     "metadata": {},
     "output_type": "execute_result"
    }
   ],
   "source": [
    "sigmax*sigmap"
   ]
  },
  {
   "cell_type": "markdown",
   "metadata": {},
   "source": [
    "**AMAZING!!!** The uncertainty principle is validated (with the equality instead of the inequality)."
   ]
  },
  {
   "cell_type": "markdown",
   "metadata": {},
   "source": [
    "----\n",
    "\n",
    "## Portfolio references\n",
    "* Problem 1.5\n",
    "\n",
    "## Index terms\n",
    "* Finding potential\n",
    "* Normalization\n",
    "* Expectation values\n",
    "* Uncertainty principle\n",
    "* sympy substitution\n",
    "* sympy solving\n",
    "\n",
    "\n",
    "## Book references\n",
    "* Schr\\\"odinger equation, p. 1; equation 1.1\n",
    "\n",
    "## External references"
   ]
  }
 ],
 "metadata": {
  "anaconda-cloud": {},
  "kernelspec": {
   "display_name": "Python [Root]",
   "language": "python",
   "name": "Python [Root]"
  },
  "language_info": {
   "codemirror_mode": {
    "name": "ipython",
    "version": 3
   },
   "file_extension": ".py",
   "mimetype": "text/x-python",
   "name": "python",
   "nbconvert_exporter": "python",
   "pygments_lexer": "ipython3",
   "version": "3.5.2"
  }
 },
 "nbformat": 4,
 "nbformat_minor": 0
}

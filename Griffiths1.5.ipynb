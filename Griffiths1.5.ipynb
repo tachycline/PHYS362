{
 "cells": [
  {
   "cell_type": "markdown",
   "metadata": {},
   "source": [
    "# Problem 1.5\n",
    "\n",
    "## Problem statement\n",
    "Consider the wavefunction $$\\Psi(x,t) = Ae^{-\\lambda|x|}e^{i\\omega t},$$ with $A$, $\\lambda$, and $\\omega$ positive real constants.\n",
    "\n",
    "1. Normalize $\\Psi$.\n",
    "2. Find $\\langle x\\rangle$ and $\\langle x^2\\rangle$\n",
    "3. Find $\\sigma_x$. Also sketch $\\Psi^2$ as a function of $x$, mark $\\langle x \\rangle + \\sigma$ and $\\langle x \\rangle - \\sigma$ to illustrate the \"spread\".  What is the probability of finding the particle inside this range?\n",
    "\n",
    "----\n",
    "## Solution\n",
    "\n",
    "This problem is very similar to 1.3, but here we're given $\\Psi$ instead of $\\Psi^2$. Since $\\Psi$ is complex, we need to take the complex conjugate to get $|\\Psi^2|$ (which is what we integrate to do the normalization.)"
   ]
  },
  {
   "cell_type": "code",
   "execution_count": 2,
   "metadata": {
    "collapsed": false
   },
   "outputs": [],
   "source": [
    "import sympy as sp\n",
    "\n",
    "# make output look nice\n",
    "sp.init_printing()\n",
    "\n",
    "# set up our symbols\n",
    "lam, omega, A = sp.symbols('lambda omega A', positive=True, real=True)\n",
    "x, t = sp.symbols('x t', real=True)\n",
    "\n",
    "# define Psi...\n",
    "Psi = A*sp.exp(-lam*sp.Abs(x))*sp.exp(sp.I*omega*t)"
   ]
  },
  {
   "cell_type": "code",
   "execution_count": 2,
   "metadata": {
    "collapsed": false
   },
   "outputs": [
    {
     "data": {
      "image/png": "[encoded data removed]",
      "text/latex": [
       "$$\\left\\{- \\sqrt{\\lambda}, \\sqrt{\\lambda}\\right\\}$$"
      ],
      "text/plain": [
       "{-√λ, √λ}"
      ]
     },
     "execution_count": 2,
     "metadata": {},
     "output_type": "execute_result"
    }
   ],
   "source": [
    "#...and |\\Psi|^2\n",
    "Psisq = Psi*sp.conjugate(Psi)\n",
    "\n",
    "# our normalization condition is that the integral is equal to one\n",
    "normalization_condition = sp.Eq(1, sp.integrate(Psisq, (x, -sp.oo, sp.oo)))\n",
    "\n",
    "# and we can solve it for the normalization constant A.\n",
    "sp.solveset(normalization_condition, A)"
   ]
  },
  {
   "cell_type": "markdown",
   "metadata": {},
   "source": [
    "Note that we have two options here, one positive and one negative. In fact, any complex phase would work, but we specified that $A$ is real, so we only get the two options. It's customary to take the positive branch, but it doesn't really matter. We work the same magic that we did in problem 1.3 to apply the normalization. This particular method doesn't guarantee either the positive or the negative branch, but like I said, it doesn't really matter."
   ]
  },
  {
   "cell_type": "code",
   "execution_count": 3,
   "metadata": {
    "collapsed": false
   },
   "outputs": [
    {
     "data": {
      "image/png": "[encoded data removed]",
      "text/latex": [
       "$$\\sqrt{\\lambda} e^{- \\lambda \\left|{x}\\right|} e^{i \\omega t}$$"
      ],
      "text/plain": [
       "    -λ⋅│x│  ⅈ⋅ω⋅t\n",
       "√λ⋅ℯ      ⋅ℯ     "
      ]
     },
     "execution_count": 3,
     "metadata": {},
     "output_type": "execute_result"
    }
   ],
   "source": [
    "Psi = Psi.subs(A, next(iter(sp.solveset(normalization_condition, A))))\n",
    "\n",
    "Psi"
   ]
  },
  {
   "cell_type": "markdown",
   "metadata": {},
   "source": [
    "### Expectation values and $\\sigma_x$\n",
    "\n",
    "With $\\Psi$ normalized, we're prepared to compute expectation values and use them to calculate $\\sigma_x$. They're computed in exactly the same way as they were in problem 1.3."
   ]
  },
  {
   "cell_type": "code",
   "execution_count": 4,
   "metadata": {
    "collapsed": false
   },
   "outputs": [],
   "source": [
    "expectx = sp.integrate(sp.conjugate(Psi)*x*Psi, (x, -sp.oo, sp.oo))\n",
    "expectxsq = sp.integrate(sp.conjugate(Psi)*x**2*Psi, (x, -sp.oo, sp.oo))"
   ]
  },
  {
   "cell_type": "code",
   "execution_count": 5,
   "metadata": {
    "collapsed": false
   },
   "outputs": [
    {
     "data": {
      "image/png": "[encoded data removed]",
      "text/latex": [
       "$$0$$"
      ],
      "text/plain": [
       "0"
      ]
     },
     "execution_count": 5,
     "metadata": {},
     "output_type": "execute_result"
    }
   ],
   "source": [
    "expectx"
   ]
  },
  {
   "cell_type": "code",
   "execution_count": 6,
   "metadata": {
    "collapsed": false
   },
   "outputs": [
    {
     "data": {
      "image/png": "[encoded data removed]",
      "text/latex": [
       "$$\\frac{1}{2 \\lambda^{2}}$$"
      ],
      "text/plain": [
       " 1  \n",
       "────\n",
       "   2\n",
       "2⋅λ "
      ]
     },
     "execution_count": 6,
     "metadata": {},
     "output_type": "execute_result"
    }
   ],
   "source": [
    "expectxsq"
   ]
  },
  {
   "cell_type": "code",
   "execution_count": 7,
   "metadata": {
    "collapsed": false
   },
   "outputs": [
    {
     "data": {
      "image/png": "[encoded data removed]",
      "text/latex": [
       "$$\\frac{\\sqrt{2}}{2 \\lambda}$$"
      ],
      "text/plain": [
       " √2\n",
       "───\n",
       "2⋅λ"
      ]
     },
     "execution_count": 7,
     "metadata": {},
     "output_type": "execute_result"
    }
   ],
   "source": [
    "sigma = sp.sqrt(expectxsq - expectx**2)\n",
    "sigma"
   ]
  },
  {
   "cell_type": "markdown",
   "metadata": {},
   "source": [
    "### Plotting\n",
    "\n",
    "The problem asks for a sketch, so as before we have to choose a value for $\\lambda$. It's fine to use $\\lambda=1$. The wrinkle with this plot is we need to add the extra annotations at $\\langle x \\rangle \\pm \\sigma_x$. I'll go a step further and shade the area under the curve between the requested limits.  First, we substitute our chosen value for $\\lambda$ in to both $|\\Psi^2|$ and $\\sigma_x$."
   ]
  },
  {
   "cell_type": "code",
   "execution_count": 8,
   "metadata": {
    "collapsed": false
   },
   "outputs": [
    {
     "data": {
      "image/png": "[encoded data removed]",
      "text/latex": [
       "$$e^{- 2 \\left|{x}\\right|}$$"
      ],
      "text/plain": [
       " -2⋅│x│\n",
       "ℯ      "
      ]
     },
     "execution_count": 8,
     "metadata": {},
     "output_type": "execute_result"
    }
   ],
   "source": [
    "Psisq = (Psi*sp.conjugate(Psi)).subs(lam, 1)\n",
    "\n",
    "Psisq"
   ]
  },
  {
   "cell_type": "code",
   "execution_count": 9,
   "metadata": {
    "collapsed": false
   },
   "outputs": [
    {
     "data": {
      "image/png": "[encoded data removed]",
      "text/latex": [
       "$$\\frac{\\sqrt{2}}{2}$$"
      ],
      "text/plain": [
       "√2\n",
       "──\n",
       "2 "
      ]
     },
     "execution_count": 9,
     "metadata": {},
     "output_type": "execute_result"
    }
   ],
   "source": [
    "sigma_x = sigma.subs(lam, 1)\n",
    "sigma_x"
   ]
  },
  {
   "cell_type": "markdown",
   "metadata": {},
   "source": [
    "Next, we use `lambdify` to turn our mathematical expression into a python function, and plot."
   ]
  },
  {
   "cell_type": "code",
   "execution_count": 10,
   "metadata": {
    "collapsed": false
   },
   "outputs": [],
   "source": [
    "function_to_plot = sp.lambdify(x, Psisq, \"numpy\")"
   ]
  },
  {
   "cell_type": "code",
   "execution_count": 11,
   "metadata": {
    "collapsed": false
   },
   "outputs": [
    {
     "data": {
      "image/png": "[encoded data removed]",
      "text/latex": [
       "$$\\left [ \\right ]$$"
      ],
      "text/plain": [
       "[]"
      ]
     },
     "execution_count": 11,
     "metadata": {},
     "output_type": "execute_result"
    },
    {
     "data": {
      "image/png": "[encoded data removed]",
      "text/plain": [
       "<matplotlib.figure.Figure at 0x10cdc1940>"
      ]
     },
     "metadata": {},
     "output_type": "display_data"
    }
   ],
   "source": [
    "import numpy as np\n",
    "import matplotlib.pyplot as plt\n",
    "\n",
    "%matplotlib inline\n",
    "\n",
    "domain = np.arange(-2, 2, 0.001)\n",
    "plt.plot(domain, function_to_plot(domain))\n",
    "plt.title(r\"Sketch of $|\\Psi^2|(x)$\")\n",
    "plt.xlabel(\"x\")\n",
    "plt.ylabel(\"Probability density\")\n",
    "\n",
    "# since it's a sketch, numbers on the axes aren't meaningful\n",
    "ax = plt.gca()\n",
    "ax.set_xticklabels([])\n",
    "ax.set_yticklabels([])"
   ]
  },
  {
   "cell_type": "markdown",
   "metadata": {},
   "source": [
    "That's the plot, but now we need to add the annotations."
   ]
  },
  {
   "cell_type": "code",
   "execution_count": 12,
   "metadata": {
    "collapsed": false
   },
   "outputs": [
    {
     "data": {
      "image/png": "[encoded data removed]",
      "text/plain": [
       "<matplotlib.figure.Figure at 0x113d68eb8>"
      ]
     },
     "metadata": {},
     "output_type": "display_data"
    }
   ],
   "source": [
    "# the basic plot\n",
    "plt.plot(domain, function_to_plot(domain))\n",
    "plt.title(r\"Sketch of $|\\Psi^2|(x)$\")\n",
    "plt.xlabel(\"x\")\n",
    "plt.ylabel(\"Probability density\")\n",
    "\n",
    "# since it's a sketch, numbers on the axes aren't meaningful\n",
    "ax = plt.gca()\n",
    "ax.set_xticklabels([])\n",
    "ax.set_yticklabels([])\n",
    "\n",
    "# add vertical lines for <x>+sigma, <x>-sigma\n",
    "minus = (expectx - sigma_x).evalf()\n",
    "plt.plot([minus, minus], [0, 0.4],\"r\")\n",
    "\n",
    "plus = (expectx + sigma_x).evalf()\n",
    "plt.plot([plus, plus], [0, 0.4], \"r\")\n",
    "\n",
    "# add text labels for <x>+sigma, <x>-sigma\n",
    "minus_text = r\"$\\langle x \\rangle - \\sigma_x$\"\n",
    "plt.text(minus, 0.41, minus_text, horizontalalignment='center', color=\"r\")\n",
    "\n",
    "plus_text = r\"$\\langle x \\rangle + \\sigma_x$\"\n",
    "txt = plt.text(plus, 0.41, plus_text, horizontalalignment='center', color=\"r\")\n",
    "\n"
   ]
  },
  {
   "cell_type": "markdown",
   "metadata": {},
   "source": [
    "If we want to pretty it up with a fill, that requires some additional work.  There are two matplotlib functions, `fill`, and `fill_between`, which do similar things. It turns out that `fill_between` is the one we want here; if we use `fill`, it doesn't fill all the way down to the x-axis. Also, if you're relatively inexperienced with python, line 27 is worth some attention. I use a *list comprehension* to create a list of true/false values, and then turn it into a *numpy array* for use with `fill_between`. Strictly speaking, that latter step isn't necessary, but it's something I like to do anyway."
   ]
  },
  {
   "cell_type": "code",
   "execution_count": 13,
   "metadata": {
    "collapsed": false
   },
   "outputs": [
    {
     "data": {
      "image/png": "[encoded data removed]",
      "text/plain": [
       "<matplotlib.figure.Figure at 0x113da8828>"
      ]
     },
     "metadata": {},
     "output_type": "display_data"
    }
   ],
   "source": [
    "# the basic plot\n",
    "plt.plot(domain, function_to_plot(domain))\n",
    "plt.title(r\"Sketch of $|\\Psi^2|(x)$\")\n",
    "plt.xlabel(\"x\")\n",
    "plt.ylabel(\"Probability density\")\n",
    "\n",
    "# since it's a sketch, numbers on the axes aren't meaningful\n",
    "ax = plt.gca()\n",
    "ax.set_xticklabels([])\n",
    "ax.set_yticklabels([])\n",
    "\n",
    "# add vertical lines for <x>+sigma, <x>-sigma\n",
    "minus = (expectx - sigma_x).evalf()\n",
    "plt.plot([minus, minus], [0, 0.4],\"r\")\n",
    "\n",
    "plus = (expectx + sigma_x).evalf()\n",
    "plt.plot([plus, plus], [0, 0.4], \"r\")\n",
    "\n",
    "# add text labels for <x>+sigma, <x>-sigma\n",
    "minus_text = r\"$\\langle x \\rangle - \\sigma_x$\"\n",
    "plt.text(minus, 0.41, minus_text, horizontalalignment='center', color=\"r\")\n",
    "\n",
    "plus_text = r\"$\\langle x \\rangle + \\sigma_x$\"\n",
    "txt = plt.text(plus, 0.41, plus_text, horizontalalignment='center', color=\"r\")\n",
    "\n",
    "# the fill. Semicolon suppresses output\n",
    "fill_region = np.array([x > minus and x < plus for x in domain])\n",
    "plt.fill_between(domain, function_to_plot(domain), color=\"r\", alpha=0.3, where=fill_region);"
   ]
  },
  {
   "cell_type": "markdown",
   "metadata": {},
   "source": [
    "### Probability\n",
    "\n",
    "The probability of finding the particle between $\\langle x \\rangle - \\sigma_x$ and $\\langle x \\rangle + \\sigma_x$ is just the area of the shaded region, so to calculate it, we integrate $$\\int_{\\langle x \\rangle - \\sigma_x}^{\\langle x \\rangle + \\sigma_x} |\\Psi^2| dx.$$\n",
    "\n"
   ]
  },
  {
   "cell_type": "code",
   "execution_count": 14,
   "metadata": {
    "collapsed": false
   },
   "outputs": [
    {
     "data": {
      "image/png": "[encoded data removed]",
      "text/latex": [
       "$$\\lambda \\int_{- \\frac{\\sqrt{2}}{2 \\lambda}}^{\\frac{\\sqrt{2}}{2 \\lambda}} e^{- 2 \\lambda \\left|{x}\\right|}\\, dx$$"
      ],
      "text/plain": [
       "   √2              \n",
       "  ───              \n",
       "  2⋅λ              \n",
       "   ⌠               \n",
       "   ⎮    -2⋅λ⋅│x│   \n",
       "λ⋅ ⎮   ℯ         dx\n",
       "   ⌡               \n",
       "  -√2              \n",
       "  ────             \n",
       "  2⋅λ              "
      ]
     },
     "execution_count": 14,
     "metadata": {},
     "output_type": "execute_result"
    }
   ],
   "source": [
    "sp.integrate(Psi*sp.conjugate(Psi), (x, expectx-sigma, expectx+sigma))"
   ]
  },
  {
   "cell_type": "markdown",
   "metadata": {},
   "source": [
    "It turns out that, because of the absolute value, sympy doesn't know how to do this integral. Let's offer some help. We can get rid of the absolute value by breaking the integral in two at $x=0$ and being explicit about the sign of $x$. Since there's symmetry, We can do just the positive side and multiply it by two."
   ]
  },
  {
   "cell_type": "code",
   "execution_count": 15,
   "metadata": {
    "collapsed": false
   },
   "outputs": [
    {
     "data": {
      "image/png": "[encoded data removed]",
      "text/latex": [
       "$$- \\frac{1}{e^{\\sqrt{2}}} + 1$$"
      ],
      "text/plain": [
       "   -√2    \n",
       "- ℯ    + 1"
      ]
     },
     "execution_count": 15,
     "metadata": {},
     "output_type": "execute_result"
    }
   ],
   "source": [
    "# abs(x) = x if x>0\n",
    "pos_side = lam*sp.exp(-2*lam*x)\n",
    "\n",
    "# The negative side is just like the positive, so multiply by 2\n",
    "2*sp.integrate(pos_side, (x, 0, sigma))"
   ]
  },
  {
   "cell_type": "markdown",
   "metadata": {},
   "source": [
    "Notice that since the limits of integration depend on $\\lambda$, the end result does not. That's nice, because it allows us to say something about probability without worrying about choosing a value for $\\lambda$.\n",
    "\n",
    "We can turn this into a number, too."
   ]
  },
  {
   "cell_type": "code",
   "execution_count": 16,
   "metadata": {
    "collapsed": false
   },
   "outputs": [
    {
     "data": {
      "image/png": "[encoded data removed]",
      "text/latex": [
       "$$0.756883265565786$$"
      ],
      "text/plain": [
       "0.756883265565786"
      ]
     },
     "execution_count": 16,
     "metadata": {},
     "output_type": "execute_result"
    }
   ],
   "source": [
    "(2*sp.integrate(pos_side, (x, 0, sigma))).evalf()"
   ]
  },
  {
   "cell_type": "markdown",
   "metadata": {},
   "source": [
    "So, there's a 76% probability of finding the particle within $\\sigma$ of the central peak, *independent of our choice of $\\lambda$*."
   ]
  },
  {
   "cell_type": "markdown",
   "metadata": {},
   "source": [
    "----\n",
    "## Portfolio references\n",
    "* Problem 1.3\n",
    "\n",
    "## Index terms\n",
    "* Wavefunction\n",
    "* Normalization\n",
    "* Plotting\n",
    "* Probability\n",
    "\n",
    "## Book references\n",
    "\n",
    "## External references\n",
    "* [Matplotlib thumbnail gallery](http://matplotlib.org/gallery.html) for some ideas on what kinds of things you can plot, and how.\n",
    "* To figure out that the `abs` function in `sympy` is actually `Abs`, I looked at the [reference documentation for the Functions module](http://docs.sympy.org/latest/modules/functions/index.html)"
   ]
  }
 ],
 "metadata": {
  "anaconda-cloud": {},
  "kernelspec": {
   "display_name": "Python [Root]",
   "language": "python",
   "name": "Python [Root]"
  },
  "language_info": {
   "codemirror_mode": {
    "name": "ipython",
    "version": 3
   },
   "file_extension": ".py",
   "mimetype": "text/x-python",
   "name": "python",
   "nbconvert_exporter": "python",
   "pygments_lexer": "ipython3",
   "version": "3.5.2"
  }
 },
 "nbformat": 4,
 "nbformat_minor": 0
}

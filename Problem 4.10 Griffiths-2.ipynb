{
 "cells": [
  {
   "cell_type": "markdown",
   "metadata": {},
   "source": [
    "# Problem (4.10)\n",
    "\n",
    "## Problem statement\n",
    "\n",
    "Work out the radial wave functions $R_{30}$, $R_{31}$ $R_{32}$, using the recursion formula. Don't Bother to normalize them. \n",
    "\n",
    "----\n",
    "\n",
    "## Solution"
   ]
  },
  {
   "cell_type": "markdown",
   "metadata": {},
   "source": [
    "The recursion formula states\n",
    "\n",
    "$$ C_{j+1} = \\frac{2(j+l+1-n)}{(j+1)(j+2l+2)} c_j $$\n",
    "\n",
    "Where $R_{nl} = \\frac{1}{r} \\rho^{l+1}e^{-\\rho}v(\\rho)$, $\\rho = r/an$, $v(\\rho) = \\sum_{j=0}^{\\infty}c_j\\rho^j$"
   ]
  },
  {
   "cell_type": "code",
   "execution_count": 16,
   "metadata": {
    "collapsed": true
   },
   "outputs": [],
   "source": [
    "import sympy as sp\n",
    "sp.init_printing()\n",
    "\n",
    "\n",
    "def R(n, l):\n",
    "    \n",
    "    n = n\n",
    "    l = l\n",
    "    \n",
    "    j = 0\n",
    "    \n",
    "    c0, a, r = sp.symbols('c_o a r')\n",
    "    constants = [c0]\n",
    "    c1 = c0\n",
    "    \n",
    "    while c1 !=0:\n",
    "        c1 = 2*(j+l+1-n)/((j+1)*(j+2*l+2))*c1\n",
    "        constants.append(c1)\n",
    "        j = j+1\n",
    "    \n",
    "    rho = r/(a*n)\n",
    "    \n",
    "    vrho = 0\n",
    "    v = []\n",
    "    for i in range(0,len(constants)-1):\n",
    "        v.append(rho**i)\n",
    "        vrho = vrho + v[i]*constants[i]\n",
    "        \n",
    "    R = (1/r) * rho**(l+1) * sp.exp(-rho) * vrho\n",
    "    \n",
    "    return R\n",
    "    "
   ]
  },
  {
   "cell_type": "code",
   "execution_count": 17,
   "metadata": {
    "collapsed": false
   },
   "outputs": [
    {
     "data": {
      "image/png": "[encoded data removed]",
      "text/latex": [
       "$$\\frac{e^{- \\frac{r}{3 a}}}{3 a} \\left(c_{o} - \\frac{0.666666666666667 c_{o}}{a} r + \\frac{0.0740740740740741 c_{o}}{a^{2}} r^{2}\\right)$$"
      ],
      "text/plain": [
       "                                                          -r \n",
       "⎛                                                     2⎞  ───\n",
       "⎜     0.666666666666667⋅cₒ⋅r   0.0740740740740741⋅cₒ⋅r ⎟  3⋅a\n",
       "⎜cₒ - ────────────────────── + ────────────────────────⎟⋅ℯ   \n",
       "⎜               a                          2           ⎟     \n",
       "⎝                                         a            ⎠     \n",
       "─────────────────────────────────────────────────────────────\n",
       "                             3⋅a                             "
      ]
     },
     "execution_count": 17,
     "metadata": {},
     "output_type": "execute_result"
    }
   ],
   "source": [
    "R(3, 0)"
   ]
  },
  {
   "cell_type": "code",
   "execution_count": 18,
   "metadata": {
    "collapsed": false
   },
   "outputs": [
    {
     "data": {
      "image/png": "[encoded data removed]",
      "text/latex": [
       "$$\\frac{r e^{- \\frac{r}{3 a}}}{9 a^{2}} \\left(c_{o} - \\frac{0.166666666666667 c_{o}}{a} r\\right)$$"
      ],
      "text/plain": [
       "                                 -r \n",
       "                                 ───\n",
       "  ⎛     0.166666666666667⋅cₒ⋅r⎞  3⋅a\n",
       "r⋅⎜cₒ - ──────────────────────⎟⋅ℯ   \n",
       "  ⎝               a           ⎠     \n",
       "────────────────────────────────────\n",
       "                   2                \n",
       "                9⋅a                 "
      ]
     },
     "execution_count": 18,
     "metadata": {},
     "output_type": "execute_result"
    }
   ],
   "source": [
    "R(3, 1)"
   ]
  },
  {
   "cell_type": "code",
   "execution_count": 19,
   "metadata": {
    "collapsed": false
   },
   "outputs": [
    {
     "data": {
      "image/png": "[encoded data removed]",
      "text/latex": [
       "$$\\frac{c_{o} r^{2}}{27 a^{3}} e^{- \\frac{r}{3 a}}$$"
      ],
      "text/plain": [
       "       -r \n",
       "       ───\n",
       "    2  3⋅a\n",
       "cₒ⋅r ⋅ℯ   \n",
       "──────────\n",
       "      3   \n",
       "  27⋅a    "
      ]
     },
     "execution_count": 19,
     "metadata": {},
     "output_type": "execute_result"
    }
   ],
   "source": [
    "R(3,2)"
   ]
  },
  {
   "cell_type": "code",
   "execution_count": null,
   "metadata": {
    "collapsed": true
   },
   "outputs": [],
   "source": []
  },
  {
   "cell_type": "markdown",
   "metadata": {
    "collapsed": true
   },
   "source": [
    "----\n",
    "\n",
    "## Portfolio references\n",
    "* \n",
    "## Index terms\n",
    "* Hydrogen Atom\n",
    "* Radial Wave Functions\n",
    "## Book references\n",
    "*\n",
    "## External references"
   ]
  },
  {
   "cell_type": "code",
   "execution_count": null,
   "metadata": {
    "collapsed": true
   },
   "outputs": [],
   "source": []
  },
  {
   "cell_type": "code",
   "execution_count": null,
   "metadata": {
    "collapsed": true
   },
   "outputs": [],
   "source": []
  },
  {
   "cell_type": "code",
   "execution_count": null,
   "metadata": {
    "collapsed": true
   },
   "outputs": [],
   "source": []
  }
 ],
 "metadata": {
  "anaconda-cloud": {},
  "kernelspec": {
   "display_name": "Python [Root]",
   "language": "python",
   "name": "Python [Root]"
  },
  "language_info": {
   "codemirror_mode": {
    "name": "ipython",
    "version": 3
   },
   "file_extension": ".py",
   "mimetype": "text/x-python",
   "name": "python",
   "nbconvert_exporter": "python",
   "pygments_lexer": "ipython3",
   "version": "3.5.2"
  }
 },
 "nbformat": 4,
 "nbformat_minor": 0
}

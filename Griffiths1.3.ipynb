{
 "cells": [
  {
   "cell_type": "markdown",
   "metadata": {},
   "source": [
    "# Problem 1.3\n",
    "\n",
    "## Problem statement\n",
    "\n",
    "Consider the **gaussian** distribution\n",
    "$$ \\rho(x) = A e^{-\\lambda(x-a)^2}, $$\n",
    "where $A$, $a$, and $\\lambda$ are positive real constants.\n",
    "\n",
    "1. use equation 1.16 to determine $A$.\n",
    "2. Find $\\langle x\\rangle$, $\\langle x^2\\rangle$, and $\\sigma$.\n",
    "3. Sketch the graph of $\\rho(x)$.\n",
    "\n",
    "----\n",
    "\n",
    "## Solution\n",
    "\n",
    "Given values for $a$ and $\\lambda$, we could pretty easily solve this numerically (and I'll add that at the end for the sake of completeness), but numerical solutions don't provide the same kind of insight that analytical ones do, so we're going the analytical route this time. Also, this is a problem that wouldn't be that hard to do by hand (you have to look up the integrals, but that's not a big deal) so it's a reasonable case for getting familiar with `sympy`'s quirks.\n",
    "\n",
    "The first thing we need to do is let `sympy` know what we're using as mathematical symbols, so that it can distinguish between them and normal python variables. (`lambda` has a special use in creating anonymous functions, and I don't want to clobber that, so I'm using `lam` instead.)"
   ]
  },
  {
   "cell_type": "code",
   "execution_count": 1,
   "metadata": {
    "collapsed": true
   },
   "outputs": [],
   "source": [
    "from sympy import symbols, exp\n",
    "\n",
    "A, a, lam = symbols('A a lambda', real=True, positive=True)\n",
    "x = symbols('x')\n",
    "\n",
    "rho = A*exp(-lam*(x-a)**2)"
   ]
  },
  {
   "cell_type": "code",
   "execution_count": 2,
   "metadata": {
    "collapsed": false
   },
   "outputs": [
    {
     "data": {
      "text/plain": [
       "A*exp(-lambda*(-a + x)**2)"
      ]
     },
     "execution_count": 2,
     "metadata": {},
     "output_type": "execute_result"
    }
   ],
   "source": [
    "rho"
   ]
  },
  {
   "cell_type": "markdown",
   "metadata": {},
   "source": [
    "A couple of notes here. First, since the problem specifies that $\\lambda$, $A$, and $a$ are real and positive, I went ahead and told `sympy` about that when I declared them as symbols. Second, I didn't declare $\\rho$ as a symbol, but I don't need to since I have assigned to it an expression consisting of symbols.\n",
    "\n",
    "Lastly, while this works, I'd like to make it more readable (i.e., look more like what I recognize as math), so I'm going to use the pretty-printing feature."
   ]
  },
  {
   "cell_type": "code",
   "execution_count": 3,
   "metadata": {
    "collapsed": true
   },
   "outputs": [],
   "source": [
    "import sympy as sp\n",
    "sp.init_printing()"
   ]
  },
  {
   "cell_type": "code",
   "execution_count": 4,
   "metadata": {
    "collapsed": false
   },
   "outputs": [
    {
     "data": {
      "image/png": "[encoded data removed]",
      "text/latex": [
       "$$A e^{- \\lambda \\left(- a + x\\right)^{2}}$$"
      ],
      "text/plain": [
       "              2\n",
       "   -λ⋅(-a + x) \n",
       "A⋅ℯ            "
      ]
     },
     "execution_count": 4,
     "metadata": {},
     "output_type": "execute_result"
    }
   ],
   "source": [
    "rho"
   ]
  },
  {
   "cell_type": "markdown",
   "metadata": {},
   "source": [
    "Much better. Now, we want to use equation 1.16, $$1 = \\int_{-\\infty}^{+\\infty}\\rho(x) dx,$$ to get $A$. We can take the integral using `sympy` and take the reciprocal by hand:"
   ]
  },
  {
   "cell_type": "code",
   "execution_count": 5,
   "metadata": {
    "collapsed": false
   },
   "outputs": [
    {
     "data": {
      "image/png": "[encoded data removed]",
      "text/latex": [
       "$$\\frac{\\sqrt{\\pi} A}{\\sqrt{\\lambda}}$$"
      ],
      "text/plain": [
       "√π⋅A\n",
       "────\n",
       " √λ "
      ]
     },
     "execution_count": 5,
     "metadata": {},
     "output_type": "execute_result"
    }
   ],
   "source": [
    "from sympy import integrate, oo\n",
    "\n",
    "integrate(rho, (x, -oo, oo))"
   ]
  },
  {
   "cell_type": "markdown",
   "metadata": {},
   "source": [
    "so $$A=\\sqrt{\\lambda\\over\\pi},$$\n",
    "but this seems awkward. We'd really like `sympy` to do all of the work for us.  We can do this using the `sympy` function `solveset`. However, it's important to know that we **can't** use the `=` symbol to denote algebraic equality. We must instead use the `sympy` function `Eq`. (This is to make `sympy` play well with the rest of python.) "
   ]
  },
  {
   "cell_type": "code",
   "execution_count": 6,
   "metadata": {
    "collapsed": false
   },
   "outputs": [
    {
     "data": {
      "image/png": "[encoded data removed]",
      "text/latex": [
       "$$\\left\\{\\frac{\\sqrt{\\lambda}}{\\sqrt{\\pi}}\\right\\}$$"
      ],
      "text/plain": [
       "⎧√λ⎫\n",
       "⎨──⎬\n",
       "⎩√π⎭"
      ]
     },
     "execution_count": 6,
     "metadata": {},
     "output_type": "execute_result"
    }
   ],
   "source": [
    "from sympy import Eq, solveset\n",
    "\n",
    "solveset(Eq(1, integrate(rho, (x, -oo, oo))), A)"
   ]
  },
  {
   "cell_type": "markdown",
   "metadata": {},
   "source": [
    "Okay, now we're equipped to get the expectation values for part (b). We do need, though, to modify $\\rho(x)$ so that it includes the value we've found for $A$.\n",
    "\n",
    "Once we do that, we use the definitions on page 10 for our expectation values."
   ]
  },
  {
   "cell_type": "code",
   "execution_count": 7,
   "metadata": {
    "collapsed": false
   },
   "outputs": [],
   "source": [
    "# set rho equal to what it was, but substitute in the first element of the set of solutions to equation 1.19 for A\n",
    "rho = rho.subs(A, next(iter(solveset(Eq(1, integrate(rho, (x, -oo, oo))), A))))\n",
    "\n",
    "expectx = integrate(x*rho, (x, -oo, oo))\n",
    "expectxsq = integrate(x**2*rho, (x, -oo, oo))"
   ]
  },
  {
   "cell_type": "code",
   "execution_count": 8,
   "metadata": {
    "collapsed": false
   },
   "outputs": [
    {
     "data": {
      "image/png": "[encoded data removed]",
      "text/latex": [
       "$$a$$"
      ],
      "text/plain": [
       "a"
      ]
     },
     "execution_count": 8,
     "metadata": {},
     "output_type": "execute_result"
    }
   ],
   "source": [
    "expectx"
   ]
  },
  {
   "cell_type": "code",
   "execution_count": 9,
   "metadata": {
    "collapsed": false
   },
   "outputs": [
    {
     "data": {
      "image/png": "[encoded data removed]",
      "text/latex": [
       "$$a^{2} + \\frac{1}{2 \\lambda}$$"
      ],
      "text/plain": [
       " 2    1 \n",
       "a  + ───\n",
       "     2⋅λ"
      ]
     },
     "execution_count": 9,
     "metadata": {},
     "output_type": "execute_result"
    }
   ],
   "source": [
    "expectxsq"
   ]
  },
  {
   "cell_type": "markdown",
   "metadata": {},
   "source": [
    "Remember that the definition in equation 1.19 is $\\sigma^2$, and we want $\\sigma$."
   ]
  },
  {
   "cell_type": "code",
   "execution_count": 10,
   "metadata": {
    "collapsed": true
   },
   "outputs": [],
   "source": [
    "from sympy import sqrt\n",
    "sigma = sqrt(expectxsq - expectx**2)"
   ]
  },
  {
   "cell_type": "code",
   "execution_count": 11,
   "metadata": {
    "collapsed": false
   },
   "outputs": [
    {
     "data": {
      "image/png": "[encoded data removed]",
      "text/latex": [
       "$$\\frac{\\sqrt{2}}{2 \\sqrt{\\lambda}}$$"
      ],
      "text/plain": [
       " √2 \n",
       "────\n",
       "2⋅√λ"
      ]
     },
     "execution_count": 11,
     "metadata": {},
     "output_type": "execute_result"
    }
   ],
   "source": [
    "sigma"
   ]
  },
  {
   "cell_type": "markdown",
   "metadata": {},
   "source": [
    "### Plotting\n",
    "\n",
    "Plotting and sketching are two different things (with different aims), but we can use a couple of techniques to sketch by plotting.  The biggest difference is that you can sketch without choosing values for unknown constants, but that doesn't work for plotting. We need to choose values for $\\lambda$ and $a$, and then see if we can generalize from the plots.\n",
    "\n",
    "We'll start with $\\lambda = 1$ and $a=0$.\n",
    "\n",
    "To actually carry this out, I substitute values for $\\lambda$ and $a$ into my expression for $\\rho$ using `rho.subs`, and then use `lambdify` to turn it into a python function that can be used to generate a plot."
   ]
  },
  {
   "cell_type": "code",
   "execution_count": 31,
   "metadata": {
    "collapsed": false
   },
   "outputs": [],
   "source": [
    "from sympy import lambdify\n",
    "\n",
    "function_to_plot = lambdify(x, rho.subs({lam: 1, a:0}), \"numpy\")"
   ]
  },
  {
   "cell_type": "markdown",
   "metadata": {},
   "source": [
    "I need to set up plotting in this notebook, and then choose a domain and plot."
   ]
  },
  {
   "cell_type": "code",
   "execution_count": 32,
   "metadata": {
    "collapsed": false
   },
   "outputs": [
    {
     "data": {
      "text/plain": [
       "[<matplotlib.lines.Line2D at 0x10d7c5908>]"
      ]
     },
     "execution_count": 32,
     "metadata": {},
     "output_type": "execute_result"
    },
    {
     "data": {
      "image/png": "[encoded data removed]",
      "text/plain": [
       "<matplotlib.figure.Figure at 0x10d243588>"
      ]
     },
     "metadata": {},
     "output_type": "display_data"
    }
   ],
   "source": [
    "import numpy as np\n",
    "import matplotlib.pyplot as plt\n",
    "\n",
    "%matplotlib inline\n",
    "\n",
    "domain = np.arange(-5, 5, 0.001)\n",
    "plt.plot(domain, function_to_plot(domain))"
   ]
  },
  {
   "cell_type": "markdown",
   "metadata": {},
   "source": [
    "Okay, what happens if we vary $\\lambda$? Let's choose some extreme values (10, 0.1) and plot."
   ]
  },
  {
   "cell_type": "code",
   "execution_count": 35,
   "metadata": {
    "collapsed": false
   },
   "outputs": [
    {
     "data": {
      "text/plain": [
       "[<matplotlib.lines.Line2D at 0x1147d04e0>]"
      ]
     },
     "execution_count": 35,
     "metadata": {},
     "output_type": "execute_result"
    },
    {
     "data": {
      "image/png": "[encoded data removed]",
      "text/plain": [
       "<matplotlib.figure.Figure at 0x10d33f780>"
      ]
     },
     "metadata": {},
     "output_type": "display_data"
    }
   ],
   "source": [
    "function_to_plot = lambdify(x, rho.subs({lam: 10, a:0}), \"numpy\")\n",
    "plt.plot(domain, function_to_plot(domain))"
   ]
  },
  {
   "cell_type": "code",
   "execution_count": 36,
   "metadata": {
    "collapsed": false
   },
   "outputs": [
    {
     "data": {
      "text/plain": [
       "[<matplotlib.lines.Line2D at 0x1140e6828>]"
      ]
     },
     "execution_count": 36,
     "metadata": {},
     "output_type": "execute_result"
    },
    {
     "data": {
      "image/png": "[encoded data removed]",
      "text/plain": [
       "<matplotlib.figure.Figure at 0x1147ebc88>"
      ]
     },
     "metadata": {},
     "output_type": "display_data"
    }
   ],
   "source": [
    "function_to_plot = lambdify(x, rho.subs({lam: 0.1, a:0}), \"numpy\")\n",
    "plt.plot(domain, function_to_plot(domain))"
   ]
  },
  {
   "cell_type": "markdown",
   "metadata": {},
   "source": [
    "So, $\\lambda$ affects the width in an inverse way.  Let's take a look at $a$."
   ]
  },
  {
   "cell_type": "code",
   "execution_count": 37,
   "metadata": {
    "collapsed": false
   },
   "outputs": [
    {
     "data": {
      "text/plain": [
       "[<matplotlib.lines.Line2D at 0x114b34588>]"
      ]
     },
     "execution_count": 37,
     "metadata": {},
     "output_type": "execute_result"
    },
    {
     "data": {
      "image/png": "[encoded data removed]",
      "text/plain": [
       "<matplotlib.figure.Figure at 0x114a11d30>"
      ]
     },
     "metadata": {},
     "output_type": "display_data"
    }
   ],
   "source": [
    "function_to_plot = lambdify(x, rho.subs({lam: 10, a:-2}), \"numpy\")\n",
    "plt.plot(domain, function_to_plot(domain))"
   ]
  },
  {
   "cell_type": "code",
   "execution_count": 38,
   "metadata": {
    "collapsed": false
   },
   "outputs": [
    {
     "data": {
      "text/plain": [
       "[<matplotlib.lines.Line2D at 0x10cde1748>]"
      ]
     },
     "execution_count": 38,
     "metadata": {},
     "output_type": "execute_result"
    },
    {
     "data": {
      "image/png": "[encoded data removed]",
      "text/plain": [
       "<matplotlib.figure.Figure at 0x114a35550>"
      ]
     },
     "metadata": {},
     "output_type": "display_data"
    }
   ],
   "source": [
    "function_to_plot = lambdify(x, rho.subs({lam: 10, a:2}), \"numpy\")\n",
    "plt.plot(domain, function_to_plot(domain))"
   ]
  },
  {
   "cell_type": "markdown",
   "metadata": {},
   "source": [
    "It's pretty clear that $a$ localizes the peak."
   ]
  },
  {
   "cell_type": "markdown",
   "metadata": {},
   "source": [
    "As an aside, if I want my plots to look more like sketches, I can apply the `xkcd` style (based on the webcomic of the same name)."
   ]
  },
  {
   "cell_type": "code",
   "execution_count": 39,
   "metadata": {
    "collapsed": false
   },
   "outputs": [
    {
     "data": {
      "image/png": "[encoded data removed]",
      "text/plain": [
       "<matplotlib.figure.Figure at 0x10d75e1d0>"
      ]
     },
     "metadata": {},
     "output_type": "display_data"
    }
   ],
   "source": [
    "function_to_plot = lambdify(x, rho.subs({lam: 1, a:0}), \"numpy\")\n",
    "with plt.xkcd():\n",
    "    plt.plot(domain, function_to_plot(domain))"
   ]
  },
  {
   "cell_type": "markdown",
   "metadata": {},
   "source": [
    "## Aside: Numerical solutions\n",
    "\n",
    "I mentioned above that, given values for the constants, numerical solutions aren't that hard to compute. I'll illustrate that by computing the expectation value of x for $a=1$, $\\lambda=1$. This is a two step process. First, you have to write a function that calculates the integrand (in this case, $x\\rho(x)$. Then, you feed that function to the numeric integrator.\n",
    "\n",
    "First, the function (written more for clarity than efficiency):"
   ]
  },
  {
   "cell_type": "code",
   "execution_count": 40,
   "metadata": {
    "collapsed": true
   },
   "outputs": [],
   "source": [
    "def integrand(x):\n",
    "    \"\"\"Integrand to find the expectation value of x for a gaussian distribution with lambda=1, a=1\"\"\"\n",
    "    lam = 1.0\n",
    "    a = 1.0\n",
    "    A = np.sqrt(lam/np.pi)\n",
    "    \n",
    "    return x*A*np.exp(-lam*(x-a)**2)"
   ]
  },
  {
   "cell_type": "markdown",
   "metadata": {},
   "source": [
    "Now, integrate it. We use the `scipy.integrate.quad` function (which stands for *quadrature*, another term for integration). This computes a definite integral, but will accept negative or positive infinity as limits."
   ]
  },
  {
   "cell_type": "code",
   "execution_count": 42,
   "metadata": {
    "collapsed": false
   },
   "outputs": [
    {
     "data": {
      "image/png": "[encoded data removed]",
      "text/latex": [
       "$$\\left ( 0.9999999999999998, \\quad 4.0968521985254706e-11\\right )$$"
      ],
      "text/plain": [
       "(0.9999999999999998, 4.0968521985254706e-11)"
      ]
     },
     "execution_count": 42,
     "metadata": {},
     "output_type": "execute_result"
    }
   ],
   "source": [
    "from scipy.integrate import quad\n",
    "\n",
    "quad(integrand, -np.inf, np.inf)"
   ]
  },
  {
   "cell_type": "markdown",
   "metadata": {},
   "source": [
    "That's about as close to the analytic value as we could hope to get, but it's nowhere near as satisfying as taking the symbolic approach like we did above. Also, you'd have to do quite a few examples of $a$ and $\\lambda$ before you could say with any confidence that $\\langle x \\rangle = a$."
   ]
  },
  {
   "cell_type": "markdown",
   "metadata": {},
   "source": [
    "----\n",
    "\n",
    "## Portfolio references\n",
    "\n",
    "## Index terms\n",
    "* Gaussian\n",
    "* Normalization\n",
    "* Expectation value\n",
    "* sympy\n",
    "* plotting\n",
    "* lambdify\n",
    "* numerical integration\n",
    "\n",
    "## Book references\n",
    "\n",
    "* Equations 1.16--1.19, p. 10\n",
    "\n",
    "## External references\n",
    "* [Sympy tutorial](http://docs.sympy.org/latest/tutorial/index.html)\n",
    "* [Extracting one element from a solveset](http://stackoverflow.com/questions/38418205/get-a-value-from-solution-set-returned-as-finiteset-by-sympy)"
   ]
  },
  {
   "cell_type": "code",
   "execution_count": null,
   "metadata": {
    "collapsed": true
   },
   "outputs": [],
   "source": []
  }
 ],
 "metadata": {
  "anaconda-cloud": {},
  "kernelspec": {
   "display_name": "Python [conda env:PHYS362]",
   "language": "python",
   "name": "conda-env-PHYS362-py"
  },
  "language_info": {
   "codemirror_mode": {
    "name": "ipython",
    "version": 3
   },
   "file_extension": ".py",
   "mimetype": "text/x-python",
   "name": "python",
   "nbconvert_exporter": "python",
   "pygments_lexer": "ipython3",
   "version": "3.5.2"
  }
 },
 "nbformat": 4,
 "nbformat_minor": 0
}

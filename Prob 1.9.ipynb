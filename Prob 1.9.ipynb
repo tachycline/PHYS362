{
 "cells": [
  
  {
   "cell_type": "markdown",
   "metadata": {},
   "source": [
    "1. find $A$.\n",
    "2. for what potential $V(x)$ does $\\psi$ satisfy the Schrodinger equation?\n",
    "3. Calculate expectation values for $x$, $x^2$, $p$, and $p^2$.\n",
    "4. Find $\\sigma x$ and $\\sigma p$. Is their product consistent with the uncertainty principle?"
   ]
  },
  {
   "cell_type": "markdown",
   "metadata": {},
   "source": [
    "Solution:"
   ]
  },
  {
   "cell_type": "code",
   "execution_count": 1,
   "metadata": {
    "collapsed": false
   },
   "outputs": [
    {
     "data": {
      "text/plain": [
       "A*exp(-a*(m*x**2/hbar + I*t))"
      ]
     },
     "execution_count": 1,
     "metadata": {},
     "output_type": "execute_result"
    }
   ],
   "source": [
    "import sympy as sp\n",
    "from sympy.physics.quantum.constants import hbar\n",
    "\n",
    "A, a, m, V = sp.symbols('A a m, V', real=True, positive=True)\n",
    "x, t = sp.symbols('x t', real=True)\n",
    "psi = A*sp.exp(-a*(m*x**2/hbar+sp.I*t))\n",
    "\n",
    "psi\n",
    "\n",
    "##here I have simply brought my equation and all of the variables and constants into existence and assigned the equation to the variable name psi.\n",
    "\n",
    "##I came back and limited x and t to real, which fixed my previous issue with xbar and tbar"
   ]
  },
  {
   "cell_type": "code",
   "execution_count": 2,
   "metadata": {
    "collapsed": false
   },
   "outputs": [
    {
     "data": {
      "image/png": "[encoded data removed]",
      "text/latex": [
       "$$A e^{- a \\left(\\frac{m x^{2}}{\\hbar} + i t\\right)}$$"
      ],
      "text/plain": [
       "      ⎛   2      ⎞\n",
       "      ⎜m⋅x       ⎟\n",
       "   -a⋅⎜──── + ⅈ⋅t⎟\n",
       "      ⎝ ℏ        ⎠\n",
       "A⋅ℯ               "
      ]
     },
     "execution_count": 2,
     "metadata": {},
     "output_type": "execute_result"
    }
   ],
   "source": [
    "import sympy as sp\n",
    "sp.init_printing()\n",
    "psi\n",
    "\n",
    "##now I have created a pretty version of the equation that is mathematically legible."
   ]
  },
  {
   "cell_type": "code",
   "execution_count": 3,
   "metadata": {
    "collapsed": false
   },
   "outputs": [
    {
     "data": {
      "image/png": "[encoded data removed]",
      "text/latex": [
       "$$A^{2} e^{- a \\left(\\frac{m x^{2}}{\\hbar} - i t\\right)} e^{- a \\left(\\frac{m x^{2}}{\\hbar} + i t\\right)}$$"
      ],
      "text/plain": [
       "       ⎛   2      ⎞     ⎛   2      ⎞\n",
       "       ⎜m⋅x       ⎟     ⎜m⋅x       ⎟\n",
       "    -a⋅⎜──── - ⅈ⋅t⎟  -a⋅⎜──── + ⅈ⋅t⎟\n",
       " 2     ⎝ ℏ        ⎠     ⎝ ℏ        ⎠\n",
       "A ⋅ℯ               ⋅ℯ               "
      ]
     },
     "execution_count": 3,
     "metadata": {},
     "output_type": "execute_result"
    }
   ],
   "source": [
    "psisq = psi*sp.conjugate(psi)\n",
    "sp.simplify(psisq)\n",
    "psisq\n",
    "\n"
   ]
  },
  {
   "cell_type": "code",
   "execution_count": 4,
   "metadata": {
    "collapsed": false
   },
   "outputs": [
    {
     "data": {
      "image/png": "[encoded data removed]",
      "text/latex": [
       "$$A^{2} e^{- \\frac{2 a}{\\hbar} m x^{2}}$$"
      ],
      "text/plain": [
       "            2 \n",
       "    -2⋅a⋅m⋅x  \n",
       "    ──────────\n",
       " 2      ℏ     \n",
       "A ⋅ℯ          "
      ]
     },
     "execution_count": 4,
     "metadata": {},
     "output_type": "execute_result"
    }
   ],
   "source": [
    "psisq = A**2*sp.exp(-2*a*(m*x**2/hbar))\n",
    "psisq\n",
    "\n",
    "##for some odd reason, python has created ibar in the complex conjugate, so in order to bipass this, i redefine psisq my way\n",
    "##as it isnt a complicated simplification."
   ]
  },
  {
   "cell_type": "code",
   "execution_count": 5,
   "metadata": {
    "collapsed": false
   },
   "outputs": [
    {
     "data": {
      "image/png": "[encoded data removed]",
      "text/latex": [
       "$$\\left\\{- \\frac{\\sqrt[4]{2} \\sqrt[4]{a} \\sqrt[4]{m}}{\\sqrt[4]{\\hbar} \\sqrt[4]{\\pi}}, \\frac{\\sqrt[4]{2} \\sqrt[4]{a} \\sqrt[4]{m}}{\\sqrt[4]{\\hbar} \\sqrt[4]{\\pi}}\\right\\}$$"
      ],
      "text/plain": [
       "⎧ 4 ___ 4 ___ 4 ___   4 ___ 4 ___ 4 ___⎫\n",
       "⎪-╲╱ 2 ⋅╲╱ a ⋅╲╱ m    ╲╱ 2 ⋅╲╱ a ⋅╲╱ m ⎪\n",
       "⎨───────────────────, ─────────────────⎬\n",
       "⎪    4 ___ 4 ___         4 ___ 4 ___   ⎪\n",
       "⎩    ╲╱ ℏ ⋅╲╱ π          ╲╱ ℏ ⋅╲╱ π    ⎭"
      ]
     },
     "execution_count": 5,
     "metadata": {},
     "output_type": "execute_result"
    }
   ],
   "source": [
    "norm = sp.Eq(1, sp.integrate(psisq, (x, -sp.oo, sp.oo)))\n",
    "sp.solveset(norm, A)\n",
    "\n",
    "##this is the actual solution to 1). It's odd that it gives both positive and negative solutions when I specified A as positive\n",
    "##and real, but it uses the positive A when i substitute into the equation later, so I'm not worried about it."
   ]
  },
  {
   "cell_type": "code",
   "execution_count": 6,
   "metadata": {
    "collapsed": false
   },
   "outputs": [
    {
     "data": {
      "image/png": "[encoded data removed]",
      "text/latex": [
       "$$\\frac{\\sqrt[4]{2} \\sqrt[4]{a} \\sqrt[4]{m}}{\\sqrt[4]{\\hbar} \\sqrt[4]{\\pi}} e^{- a \\left(\\frac{m x^{2}}{\\hbar} + i t\\right)}$$"
      ],
      "text/plain": [
       "                      ⎛   2      ⎞\n",
       "                      ⎜m⋅x       ⎟\n",
       "                   -a⋅⎜──── + ⅈ⋅t⎟\n",
       "4 ___ 4 ___ 4 ___     ⎝ ℏ        ⎠\n",
       "╲╱ 2 ⋅╲╱ a ⋅╲╱ m ⋅ℯ               \n",
       "──────────────────────────────────\n",
       "           4 ___ 4 ___            \n",
       "           ╲╱ ℏ ⋅╲╱ π             "
      ]
     },
     "execution_count": 6,
     "metadata": {},
     "output_type": "execute_result"
    }
   ],
   "source": [
    "psi=psi.subs(A, next(iter(sp.solveset(norm, A))))\n",
    "psi\n",
    "\n",
    "##here i just replace A with our calculated normalization constant"
   ]
  },
  {
   "cell_type": "code",
   "execution_count": 7,
   "metadata": {
    "collapsed": false
   },
   "outputs": [
    {
     "data": {
      "image/png": "[encoded data removed]",
      "text/latex": [
       "$$\\left\\{a \\left(2 a m x^{2} - \\hbar\\right) + \\frac{a}{\\hbar}\\right\\}$$"
      ],
      "text/plain": [
       "⎧  ⎛       2    ⎞   a⎫\n",
       "⎨a⋅⎝2⋅a⋅m⋅x  - ℏ⎠ + ─⎬\n",
       "⎩                   ℏ⎭"
      ]
     },
     "execution_count": 7,
     "metadata": {},
     "output_type": "execute_result"
    }
   ],
   "source": [
    "SchEq = sp.Eq(sp.I*sp.diff(psi, t)/hbar, -hbar**2*sp.diff(psi, x, 2)/(2*m)+V*psi)\n",
    "sp.solveset(SchEq, V)\n",
    "\n",
    "##There we have our solution for 2). I just gave jupyter the Schrodinger Equation and told it to solve for V"
   ]
  },
  {
   "cell_type": "code",
   "execution_count": 8,
   "metadata": {
    "collapsed": false
   },
   "outputs": [
    {
     "data": {
      "image/png": "[encoded data removed]",
      "text/latex": [
       "$$0$$"
      ],
      "text/plain": [
       "0"
      ]
     },
     "execution_count": 8,
     "metadata": {},
     "output_type": "execute_result"
    }
   ],
   "source": [
    "expx = sp.integrate(x*psisq, (x, -sp.oo, sp.oo))\n",
    "expx"
   ]
  },
  {
   "cell_type": "code",
   "execution_count": 9,
   "metadata": {
    "collapsed": false
   },
   "outputs": [
    {
     "data": {
      "image/png": "[encoded data removed]",
      "text/latex": [
       "$$\\frac{\\sqrt{2} \\hbar^{\\frac{3}{2}} \\sqrt{\\pi} A^{2}}{8 a^{\\frac{3}{2}} m^{\\frac{3}{2}}}$$"
      ],
      "text/plain": [
       "    3/2     2\n",
       "√2⋅ℏ   ⋅√π⋅A \n",
       "─────────────\n",
       "    3/2  3/2 \n",
       " 8⋅a   ⋅m    "
      ]
     },
     "execution_count": 9,
     "metadata": {},
     "output_type": "execute_result"
    }
   ],
   "source": [
    "expxsq = sp.integrate(x**2*psisq, (x, -sp.oo, sp.oo))\n",
    "expxsq"
   ]
  },
  {
   "cell_type": "code",
   "execution_count": 10,
   "metadata": {
    "collapsed": false
   },
   "outputs": [
    {
     "data": {
      "image/png": "[encoded data removed]",
      "text/latex": [
       "$$0$$"
      ],
      "text/plain": [
       "0"
      ]
     },
     "execution_count": 10,
     "metadata": {},
     "output_type": "execute_result"
    }
   ],
   "source": [
    "dpsidt = sp.conjugate(psi)*sp.diff(psi, x)*hbar/sp.I\n",
    "expp = sp.integrate(sp.conjugate(psi)*sp.diff(psi, x)*hbar/sp.I, (x, -sp.oo, sp.oo))\n",
    "expp"
   ]
  },
  {
   "cell_type": "code",
   "execution_count": 11,
   "metadata": {
    "collapsed": false
   },
   "outputs": [
    {
     "data": {
      "image/png": "[encoded data removed]",
      "text/latex": [
       "$$0$$"
      ],
      "text/plain": [
       "0"
      ]
     },
     "execution_count": 11,
     "metadata": {},
     "output_type": "execute_result"
    }
   ],
   "source": [
    "exppsq = m*sp.diff(sp.integrate(x**2*psisq, (x, -sp.oo, sp.oo)), t)\n",
    "exppsq"
   ]
  },
  {
   "cell_type": "code",
   "execution_count": 12,
   "metadata": {
    "collapsed": false
   },
   "outputs": [
    {
     "data": {
      "image/png": "[encoded data removed]",
      "text/latex": [
       "$$\\frac{2^{\\frac{3}{4}} \\hbar^{\\frac{3}{4}} \\sqrt[4]{\\pi} A}{4 a^{\\frac{3}{4}} m^{\\frac{3}{4}}}$$"
      ],
      "text/plain": [
       "4 ___     3/4 4 ___  \n",
       "╲╱ 2 ⋅√2⋅ℏ   ⋅╲╱ π ⋅A\n",
       "─────────────────────\n",
       "        3/4  3/4     \n",
       "     4⋅a   ⋅m        "
      ]
     },
     "execution_count": 12,
     "metadata": {},
     "output_type": "execute_result"
    }
   ],
   "source": [
    "sigx = sp.sqrt(expxsq-expx**2)\n",
    "sigx"
   ]
  },
  {
   "cell_type": "code",
   "execution_count": 13,
   "metadata": {
    "collapsed": false
   },
   "outputs": [
    {
     "data": {
      "image/png": "[encoded data removed]",
      "text/latex": [
       "$$0$$"
      ],
      "text/plain": [
       "0"
      ]
     },
     "execution_count": 13,
     "metadata": {},
     "output_type": "execute_result"
    }
   ],
   "source": [
    "sigp = sp.sqrt(exppsq-expp**2)\n",
    "sigp"
   ]
  },
  {
   "cell_type": "markdown",
   "metadata": {},
   "source": [
    "Apparantly this doesn't obey the uncertainty principle, because $\\sigma p*\\sigma x = 0$\n",
    "Unless of course, exppsq is not equal to 0, which is where I'd guess my error lies."
   ]
  },
  {
   "cell_type": "markdown",
   "metadata": {},
   "source": [
    "Portfolio References:\n",
    "1. Problem 1.5, for coding syntax\n",
    "\n",
    "Index references:\n",
    "1. Wavefunction\n",
    "2. Schrodingers Equation\n",
    "3. Normalization\n",
    "4. Expected x\n",
    "5. Expected p\n",
    "6. Uncertainty principle\n",
    "\n",
    "Book references:\n",
    "1. Calculating expected p (chapter 1)\n",
    "2. calculating expected x (chapter 1)\n",
    "\n"
   ]
  }
 ],
 "metadata": {
  "anaconda-cloud": {},
  "kernelspec": {
   "display_name": "Python [physics362]",
   "language": "python",
   "name": "Python [physics362]"
  },
  "language_info": {
   "codemirror_mode": {
    "name": "ipython",
    "version": 3
   },
   "file_extension": ".py",
   "mimetype": "text/x-python",
   "name": "python",
   "nbconvert_exporter": "python",
   "pygments_lexer": "ipython3",
   "version": "3.5.2"
  }
 },
 "nbformat": 4,
 "nbformat_minor": 0
}

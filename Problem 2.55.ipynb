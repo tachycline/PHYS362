{
 "cells": [
  {
   "cell_type": "markdown",
   "metadata": {},
   "source": [
    "# Problem (2.54)\n",
    "\n",
    "## Problem statement\n",
    "\n",
    "Find the first three excited state energies (to five significant digits) for the harmonic osillator, by wagging the dog (Problem 2.54). For the first and third excited state you will need to set $\\psi(0) = 0$ and $\\psi'(0) = 1$\n",
    "\n",
    "----\n",
    "\n",
    "## Solution"
   ]
  },
  {
   "cell_type": "markdown",
   "metadata": {},
   "source": [
    "The Schrodinger Equation for the HO is given by equation 2.72\n",
    "\n",
    "$$ \\frac{d^2 \\psi}{d \\xi^2} = (\\xi^2 - K) \\psi $$"
   ]
  },
  {
   "cell_type": "code",
   "execution_count": 3,
   "metadata": {
    "collapsed": true
   },
   "outputs": [],
   "source": [
    "import numpy as np\n",
    "from scipy.integrate import odeint"
   ]
  },
  {
   "cell_type": "markdown",
   "metadata": {},
   "source": [
    "Lets do the first excited state, $\\psi_1$, first"
   ]
  },
  {
   "cell_type": "code",
   "execution_count": 19,
   "metadata": {
    "collapsed": true
   },
   "outputs": [],
   "source": [
    "xi = np.linspace(0, 10, 400)\n",
    "\n",
    "def func(y, xi, K):\n",
    "\n",
    "    psi, psiprime = y\n",
    "    \n",
    "    psidoubleprime = (xi**2 - K)*psi\n",
    "    \n",
    "    return psiprime, psidoubleprime"
   ]
  },
  {
   "cell_type": "code",
   "execution_count": 20,
   "metadata": {
    "collapsed": false
   },
   "outputs": [],
   "source": [
    "y0 = (0.0, 1.0)\n",
    "\n",
    "result = odeint(func, y0, xi, args=(3.001,)) #we can cheat a little since we know the energies, here is a high estimate for K"
   ]
  },
  {
   "cell_type": "code",
   "execution_count": 21,
   "metadata": {
    "collapsed": true
   },
   "outputs": [],
   "source": [
    "from matplotlib import pyplot as plt"
   ]
  },
  {
   "cell_type": "code",
   "execution_count": 22,
   "metadata": {
    "collapsed": true
   },
   "outputs": [],
   "source": [
    "%matplotlib inline"
   ]
  },
  {
   "cell_type": "code",
   "execution_count": 23,
   "metadata": {
    "collapsed": false
   },
   "outputs": [
    {
     "data": {
      "text/plain": [
       "(400, 2)"
      ]
     },
     "execution_count": 23,
     "metadata": {},
     "output_type": "execute_result"
    }
   ],
   "source": [
    "result.shape"
   ]
  },
  {
   "cell_type": "code",
   "execution_count": 24,
   "metadata": {
    "collapsed": true
   },
   "outputs": [],
   "source": [
    "psi = result[:,0]"
   ]
  },
  {
   "cell_type": "code",
   "execution_count": 25,
   "metadata": {
    "collapsed": true
   },
   "outputs": [],
   "source": [
    "psiprime = result[:,1]"
   ]
  },
  {
   "cell_type": "code",
   "execution_count": 26,
   "metadata": {
    "collapsed": false
   },
   "outputs": [
    {
     "data": {
      "text/plain": [
       "[<matplotlib.lines.Line2D at 0x77964a8>]"
      ]
     },
     "execution_count": 26,
     "metadata": {},
     "output_type": "execute_result"
    },
    {
     "data": {
      "image/png": "[encoded data removed]",
      "text/plain": [
       "<matplotlib.figure.Figure at 0x77963c8>"
      ]
     },
     "metadata": {},
     "output_type": "display_data"
    }
   ],
   "source": [
    "plt.plot(xi, psi)\n",
    "plt.xlim(0,10)\n",
    "plt.ylim(-5,5)\n",
    "plt.plot(xi,np.zeros_like(xi))"
   ]
  },
  {
   "cell_type": "markdown",
   "metadata": {},
   "source": [
    "Our energy is too high, lets try a lower one"
   ]
  },
  {
   "cell_type": "code",
   "execution_count": 27,
   "metadata": {
    "collapsed": false
   },
   "outputs": [
    {
     "data": {
      "text/plain": [
       "[<matplotlib.lines.Line2D at 0x7e76c50>]"
      ]
     },
     "execution_count": 27,
     "metadata": {},
     "output_type": "execute_result"
    },
    {
     "data": {
      "image/png": "[encoded data removed]",
      "text/plain": [
       "<matplotlib.figure.Figure at 0x7e76470>"
      ]
     },
     "metadata": {},
     "output_type": "display_data"
    }
   ],
   "source": [
    "result = odeint(func, y0, xi, args=(2.99,))\n",
    "psi = result[:,0]\n",
    "plt.plot(xi, psi)\n",
    "plt.xlim(0,10)\n",
    "plt.ylim(-5,5)\n",
    "plt.plot(xi,np.zeros_like(xi))"
   ]
  },
  {
   "cell_type": "markdown",
   "metadata": {},
   "source": [
    "Now our energy is too low. Lets see if we can use the automated method. "
   ]
  },
  {
   "cell_type": "code",
   "execution_count": 28,
   "metadata": {
    "collapsed": true
   },
   "outputs": [],
   "source": [
    "def bisect(func, E1, E2, even=True):\n",
    "    \"\"\"Given two ends of an energy interval, chop it in half.\"\"\"\n",
    "    \n",
    "    xi = np.linspace(0, 10, 400)\n",
    "    \n",
    "    if even:\n",
    "        y0 = (1.0, 0.0)\n",
    "    else:\n",
    "        y0 = (0.0, 1.0)\n",
    "        \n",
    "    # get initial signs\n",
    "    res1 = odeint(func, y0, xi, args=(E1,))\n",
    "    psi1 = res1[-1,0]\n",
    "    \n",
    "    res2 = odeint(func, y0, xi, args=(E2,))\n",
    "    psi2 = res2[-1,0]\n",
    "    \n",
    "    Ehalf = (E1+E2)/2\n",
    "    reshalf = odeint(func, y0, xi, args=(Ehalf,))\n",
    "    psihalf = reshalf[-1, 0]\n",
    "    \n",
    "    if np.sign(psihalf) == np.sign(psi1):\n",
    "        return (Ehalf, E2)\n",
    "    else:\n",
    "        return (E1, Ehalf)\n",
    "    \n",
    "\n",
    "def find_energy(func, E1, E2, even=True):\n",
    "    \n",
    "    while abs(E1-E2) > 1.0e-14:\n",
    "        E1, E2 = bisect(func, E1, E2, even)\n",
    "        \n",
    "    if even:\n",
    "        y0 = (1.0, 0.0)\n",
    "    else:\n",
    "        y0 = (0.0, 1.0)\n",
    "\n",
    "    x = np.linspace(0, 10, 400)\n",
    "    result = odeint(func, y0, xi, args=(E1, ))\n",
    "    psi = result[:,0]\n",
    "    plt.plot(xi, psi)\n",
    "    plt.ylim(-5, 5)\n",
    "    plt.xlim(0, 10)\n",
    "    \n",
    "    return E1"
   ]
  },
  {
   "cell_type": "code",
   "execution_count": 34,
   "metadata": {
    "collapsed": false
   },
   "outputs": [
    {
     "data": {
      "text/plain": [
       "2.9999999812094122"
      ]
     },
     "execution_count": 34,
     "metadata": {},
     "output_type": "execute_result"
    },
    {
     "data": {
      "image/png": "[encoded data removed]",
      "text/plain": [
       "<matplotlib.figure.Figure at 0x809e630>"
      ]
     },
     "metadata": {},
     "output_type": "display_data"
    }
   ],
   "source": [
    "find_energy(func, 2.99, 3.01, even=False)"
   ]
  },
  {
   "cell_type": "markdown",
   "metadata": {},
   "source": [
    "$K$ is approximately 3, which correspond to the $E_1 = \\frac{3\\hbar\\omega}{2}$"
   ]
  },
  {
   "cell_type": "markdown",
   "metadata": {},
   "source": [
    "Lets try for $\\psi_2$ now"
   ]
  },
  {
   "cell_type": "code",
   "execution_count": 35,
   "metadata": {
    "collapsed": false
   },
   "outputs": [
    {
     "data": {
      "text/plain": [
       "[<matplotlib.lines.Line2D at 0x80bbcf8>]"
      ]
     },
     "execution_count": 35,
     "metadata": {},
     "output_type": "execute_result"
    },
    {
     "data": {
      "image/png": "[encoded data removed]",
      "text/plain": [
       "<matplotlib.figure.Figure at 0x80bbd68>"
      ]
     },
     "metadata": {},
     "output_type": "display_data"
    }
   ],
   "source": [
    "y0 = (1.0, 0.0)  #this solution is even, see fig 2.7a\n",
    "\n",
    "result = odeint(func, y0, xi, args=(5.001,))\n",
    "psi = result[:,0]\n",
    "plt.plot(xi, psi)\n",
    "plt.xlim(0,10)\n",
    "plt.ylim(-5,5)\n",
    "plt.plot(xi,np.zeros_like(xi))"
   ]
  },
  {
   "cell_type": "markdown",
   "metadata": {},
   "source": [
    "Too much curvature near the crossing point so let's try a smaller K"
   ]
  },
  {
   "cell_type": "code",
   "execution_count": 36,
   "metadata": {
    "collapsed": false
   },
   "outputs": [
    {
     "data": {
      "text/plain": [
       "[<matplotlib.lines.Line2D at 0x9140048>]"
      ]
     },
     "execution_count": 36,
     "metadata": {},
     "output_type": "execute_result"
    },
    {
     "data": {
      "image/png": "[encoded data removed]",
      "text/plain": [
       "<matplotlib.figure.Figure at 0x9140128>"
      ]
     },
     "metadata": {},
     "output_type": "display_data"
    }
   ],
   "source": [
    "result = odeint(func, y0, xi, args=(4.999,))\n",
    "psi = result[:,0]\n",
    "plt.plot(xi, psi)\n",
    "plt.xlim(0,10)\n",
    "plt.ylim(-5,5)\n",
    "plt.plot(xi,np.zeros_like(xi))"
   ]
  },
  {
   "cell_type": "markdown",
   "metadata": {},
   "source": [
    "Not enough energy, now automate"
   ]
  },
  {
   "cell_type": "code",
   "execution_count": 37,
   "metadata": {
    "collapsed": false
   },
   "outputs": [
    {
     "data": {
      "text/plain": [
       "5.000000045327937"
      ]
     },
     "execution_count": 37,
     "metadata": {},
     "output_type": "execute_result"
    },
    {
     "data": {
      "image/png": "[encoded data removed]",
      "text/plain": [
       "<matplotlib.figure.Figure at 0x80d06d8>"
      ]
     },
     "metadata": {},
     "output_type": "display_data"
    }
   ],
   "source": [
    "find_energy(func, 4.999, 5.001)"
   ]
  },
  {
   "cell_type": "markdown",
   "metadata": {},
   "source": [
    "$K$ is approximately 5, which corresponds to $E_2 = \\frac{5\\hbar\\omega}{2}$"
   ]
  },
  {
   "cell_type": "markdown",
   "metadata": {},
   "source": [
    "Now let's do $\\psi_3$"
   ]
  },
  {
   "cell_type": "code",
   "execution_count": 41,
   "metadata": {
    "collapsed": false
   },
   "outputs": [
    {
     "data": {
      "text/plain": [
       "[<matplotlib.lines.Line2D at 0x79a2390>]"
      ]
     },
     "execution_count": 41,
     "metadata": {},
     "output_type": "execute_result"
    },
    {
     "data": {
      "image/png": "[encoded data removed]",
      "text/plain": [
       "<matplotlib.figure.Figure at 0x92700b8>"
      ]
     },
     "metadata": {},
     "output_type": "display_data"
    }
   ],
   "source": [
    "y0 = (0.0, -1.0)  #this solution is odd, see fig 2.7a\n",
    "\n",
    "result = odeint(func, y0, xi, args=(7.001,))\n",
    "psi = result[:,0]\n",
    "plt.plot(xi, psi)\n",
    "plt.xlim(0,10)\n",
    "plt.ylim(-5,5)\n",
    "plt.plot(xi,np.zeros_like(xi))"
   ]
  },
  {
   "cell_type": "markdown",
   "metadata": {},
   "source": [
    "Too high"
   ]
  },
  {
   "cell_type": "code",
   "execution_count": 42,
   "metadata": {
    "collapsed": false
   },
   "outputs": [
    {
     "data": {
      "text/plain": [
       "[<matplotlib.lines.Line2D at 0x80adeb8>]"
      ]
     },
     "execution_count": 42,
     "metadata": {},
     "output_type": "execute_result"
    },
    {
     "data": {
      "image/png": "[encoded data removed]",
      "text/plain": [
       "<matplotlib.figure.Figure at 0x9288dd8>"
      ]
     },
     "metadata": {},
     "output_type": "display_data"
    }
   ],
   "source": [
    "result = odeint(func, y0, xi, args=(6.999,))\n",
    "psi = result[:,0]\n",
    "plt.plot(xi, psi)\n",
    "plt.xlim(0,10)\n",
    "plt.ylim(-5,5)\n",
    "plt.plot(xi,np.zeros_like(xi))"
   ]
  },
  {
   "cell_type": "markdown",
   "metadata": {},
   "source": [
    "Too low, now automate"
   ]
  },
  {
   "cell_type": "code",
   "execution_count": 43,
   "metadata": {
    "collapsed": false
   },
   "outputs": [
    {
     "data": {
      "text/plain": [
       "6.999999990519012"
      ]
     },
     "execution_count": 43,
     "metadata": {},
     "output_type": "execute_result"
    },
    {
     "data": {
      "image/png": "[encoded data removed]",
      "text/plain": [
       "<matplotlib.figure.Figure at 0x91a1f28>"
      ]
     },
     "metadata": {},
     "output_type": "display_data"
    }
   ],
   "source": [
    "find_energy(func, 6.999, 7.001, even=False)"
   ]
  },
  {
   "cell_type": "markdown",
   "metadata": {},
   "source": [
    "$K$ is approximately 7, which corresponds to $E_3 = \\frac{7\\hbar\\omega}{2}$"
   ]
  },
  {
   "cell_type": "markdown",
   "metadata": {},
   "source": [
    "----\n",
    "\n",
    "## Portfolio references\n",
    "* Problem 2.55, 2.56\n",
    "## Index terms\n",
    "* Harmonic Oscillator\n",
    "* Shooting\n",
    "## Book references\n",
    "* eq 2.72, fig. 2.7a\n",
    "## External references\n",
    "* Shooting.ipynb"
   ]
  },
  {
   "cell_type": "code",
   "execution_count": null,
   "metadata": {
    "collapsed": true
   },
   "outputs": [],
   "source": []
  },
  {
   "cell_type": "code",
   "execution_count": null,
   "metadata": {
    "collapsed": true
   },
   "outputs": [],
   "source": []
  }
 ],
 "metadata": {
  "anaconda-cloud": {},
  "kernelspec": {
   "display_name": "Python [Root]",
   "language": "python",
   "name": "Python [Root]"
  },
  "language_info": {
   "codemirror_mode": {
    "name": "ipython",
    "version": 3
   },
   "file_extension": ".py",
   "mimetype": "text/x-python",
   "name": "python",
   "nbconvert_exporter": "python",
   "pygments_lexer": "ipython3",
   "version": "3.5.2"
  }
 },
 "nbformat": 4,
 "nbformat_minor": 0
}

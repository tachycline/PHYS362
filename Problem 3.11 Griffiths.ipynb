{
 "cells": [
  {
   "cell_type": "markdown",
   "metadata": {},
   "source": [
    "# Problem (3.11)\n",
    "\n",
    "## Problem statement\n",
    "\n",
    "Find the momentum space wave function, $\\Phi(p,t)$, for a particle in the ground state of the harmonic oscillator. What is the probability that a measurement of p on a particle in this state would yield a value outside the classical range (for the same energy)? \n",
    "\n",
    "----\n",
    "\n",
    "## Solution"
   ]
  },
  {
   "cell_type": "markdown",
   "metadata": {},
   "source": [
    "The momentum space wave function is found by taking the Fourier transform of our typical wavefunction $\\Psi(x,t)$\n",
    "\n",
    "$$ \\Phi(p,t) = \\frac{1}{\\sqrt{2\\pi\\hbar}} \\int_{-\\infty}^{\\infty} e^{-ipx/\\hbar} \\Psi(x,t) dx$$\n",
    "\n"
   ]
  },
  {
   "cell_type": "code",
   "execution_count": 16,
   "metadata": {
    "collapsed": false
   },
   "outputs": [],
   "source": [
    "import sympy as sp\n",
    "from sympy.physics.quantum.constants import hbar\n",
    "sp.init_printing()\n",
    "\n",
    "m, w = sp.symbols('m omega', real=True, positive=True)\n",
    "p, x, t = sp.symbols('p x t', real=True)\n"
   ]
  },
  {
   "cell_type": "code",
   "execution_count": 17,
   "metadata": {
    "collapsed": false
   },
   "outputs": [
    {
     "data": {
      "image/png": "[encoded data removed]",
      "text/latex": [
       "$$\\frac{1}{\\hbar^{0.25} \\pi^{0.25} m^{0.25} \\omega^{0.25}} e^{- \\frac{i t}{2} \\omega - \\frac{p^{2}}{2 \\hbar m \\omega}}$$"
      ],
      "text/plain": [
       "                                           2  \n",
       "                               ⅈ⋅ω⋅t      p   \n",
       "                             - ───── - ───────\n",
       " -0.25  -0.25  -0.25  -0.25      2     2⋅ℏ⋅m⋅ω\n",
       "ℏ     ⋅π     ⋅m     ⋅ω     ⋅ℯ                 "
      ]
     },
     "execution_count": 17,
     "metadata": {},
     "output_type": "execute_result"
    }
   ],
   "source": [
    "Psi_0 = (m*w/(sp.pi*hbar))**(1/4)*sp.exp(-m*w*x**2/(2*hbar))*sp.exp(-sp.I*(hbar*w/2)*t/hbar)\n",
    "integrand = (1/sp.sqrt(2*sp.pi*hbar))*sp.exp(-sp.I*p*x/hbar)*Psi_0\n",
    "Phi = sp.integrate(integrand, (x, -sp.oo, sp.oo))\n",
    "Phi.simplify()\n"
   ]
  },
  {
   "cell_type": "markdown",
   "metadata": {},
   "source": [
    "The classical range of p for this particle is $p = \\pm\\sqrt{m\\hbar\\omega}$ To find the probability of it being outside of this range we integrate the squared magnitude of our momentum space wave function and evalauate the area outside this p range. This is an even function so we can evaluate the integral above our upper p limit and multiply by 2. "
   ]
  },
  {
   "cell_type": "code",
   "execution_count": 20,
   "metadata": {
    "collapsed": false
   },
   "outputs": [
    {
     "data": {
      "image/png": "[encoded data removed]",
      "text/latex": [
       "$$\\frac{1}{\\pi^{0.5}} \\left(- \\sqrt{\\pi} \\operatorname{erf}{\\left (1 \\right )} + \\sqrt{\\pi}\\right)$$"
      ],
      "text/plain": [
       " -0.5                  \n",
       "π    ⋅(-√π⋅erf(1) + √π)"
      ]
     },
     "execution_count": 20,
     "metadata": {},
     "output_type": "execute_result"
    }
   ],
   "source": [
    "Phisq = sp.conjugate(Phi)*Phi\n",
    "Prob = 2*sp.integrate(Phisq, (p, sp.sqrt(m*w*hbar), sp.oo))\n",
    "Prob"
   ]
  },
  {
   "cell_type": "code",
   "execution_count": 21,
   "metadata": {
    "collapsed": false
   },
   "outputs": [
    {
     "data": {
      "image/png": "[encoded data removed]",
      "text/latex": [
       "$$0.157299207050285$$"
      ],
      "text/plain": [
       "0.157299207050285"
      ]
     },
     "execution_count": 21,
     "metadata": {},
     "output_type": "execute_result"
    }
   ],
   "source": [
    "Prob.n()"
   ]
  },
  {
   "cell_type": "markdown",
   "metadata": {},
   "source": [
    "This is the probability of the momentum of the particle being above $+\\sqrt{m\\hbar\\omega}$ and below $-\\sqrt{m\\hbar\\omega}$"
   ]
  },
  {
   "cell_type": "markdown",
   "metadata": {
    "collapsed": true
   },
   "source": [
    "----\n",
    "\n",
    "## Portfolio references\n",
    "* \n",
    "## Index terms\n",
    "* Momentum Space\n",
    "## Book references\n",
    "*\n",
    "## External references"
   ]
  },
  {
   "cell_type": "code",
   "execution_count": null,
   "metadata": {
    "collapsed": true
   },
   "outputs": [],
   "source": []
  },
  {
   "cell_type": "code",
   "execution_count": null,
   "metadata": {
    "collapsed": true
   },
   "outputs": [],
   "source": []
  },
  {
   "cell_type": "code",
   "execution_count": null,
   "metadata": {
    "collapsed": true
   },
   "outputs": [],
   "source": []
  }
 ],
 "metadata": {
  "anaconda-cloud": {},
  "kernelspec": {
   "display_name": "Python [Root]",
   "language": "python",
   "name": "Python [Root]"
  },
  "language_info": {
   "codemirror_mode": {
    "name": "ipython",
    "version": 3
   },
   "file_extension": ".py",
   "mimetype": "text/x-python",
   "name": "python",
   "nbconvert_exporter": "python",
   "pygments_lexer": "ipython3",
   "version": "3.5.2"
  }
 },
 "nbformat": 4,
 "nbformat_minor": 0
}

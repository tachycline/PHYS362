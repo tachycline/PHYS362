{
 "cells": [
  {
   "cell_type": "markdown",
   "metadata": {},
   "source": [
    "# Problem (2.4)\n",
    "\n",
    "## Problem statement\n",
    "\n",
    "1. calculate $\\langle x \\rangle$, $\\langle x^2 \\rangle$, $\\langle p \\rangle$, and $\\langle p^2 \\rangle$ for the states $\\psi_0$ (Equation 2.59) and $\\psi_1$ (Equation 2.62) by explicit integration. \n",
    "\n",
    "2. Check the uncertainty principle for these states\n",
    "\n",
    "3. Compute $\\langle T \\rangle$ (the average kinetic energy) and $\\langle V \\rangle$ (the average potential energy) for these states. (No new integration is allowed). Is their sum what you would expect?\n",
    "----\n",
    "\n",
    "## Solution"
   ]
  },
  {
   "cell_type": "markdown",
   "metadata": {},
   "source": [
    "Equation 2.59\n",
    "\n",
    "$$ \\psi_0(x) = \\left(\\frac{m\\omega}{\\pi\\hbar}\\right)^\\frac{1}{4} e^{\\frac{-m\\omega x^2}{2\\hbar}} $$\n",
    "\n",
    "Equation 2.62\n",
    "\n",
    "$$ \\psi_1(x) = \\left(\\frac{m\\omega}{\\pi\\hbar}\\right)^\\frac{1}{4} \\sqrt{\\frac{2m\\omega}{\\hbar}} x e^{\\frac{-m\\omega x^2}{2\\hbar}} $$"
   ]
  },
  {
   "cell_type": "code",
   "execution_count": 16,
   "metadata": {
    "collapsed": false
   },
   "outputs": [
    {
     "data": {
      "image/png": "[encoded data removed]",
      "text/latex": [
       "$$\\frac{m^{0.25} \\omega^{0.25}}{\\hbar^{0.25} \\pi^{0.25}} e^{- \\frac{m \\omega x^{2}}{2 \\hbar}}$$"
      ],
      "text/plain": [
       "                                 2 \n",
       "                           -m⋅ω⋅x  \n",
       "                           ────────\n",
       " -0.25  -0.25  0.25  0.25    2⋅ℏ   \n",
       "ℏ     ⋅π     ⋅m    ⋅ω    ⋅ℯ        "
      ]
     },
     "execution_count": 16,
     "metadata": {},
     "output_type": "execute_result"
    }
   ],
   "source": [
    "import sympy as sp\n",
    "from sympy.physics.quantum.constants import hbar\n",
    "sp.init_printing()\n",
    "\n",
    "m, w = sp.symbols('m omega', real=True, positive=True)\n",
    "x, t = sp.symbols('x t')\n",
    "\n",
    "#setup psi_0\n",
    "psi_0 = ((m*w)/(sp.pi*hbar))**(1/4)*sp.exp(-m*w*x**2/(2*hbar))\n",
    "psi_0"
   ]
  },
  {
   "cell_type": "code",
   "execution_count": 17,
   "metadata": {
    "collapsed": false
   },
   "outputs": [
    {
     "data": {
      "image/png": "[encoded data removed]",
      "text/latex": [
       "$$\\frac{\\sqrt{2} m^{0.75} \\omega^{0.75} x}{\\hbar^{0.75} \\pi^{0.25}} e^{- \\frac{m \\omega x^{2}}{2 \\hbar}}$$"
      ],
      "text/plain": [
       "                                      2 \n",
       "                                -m⋅ω⋅x  \n",
       "                                ────────\n",
       "    -0.75  -0.25  0.75  0.75      2⋅ℏ   \n",
       "√2⋅ℏ     ⋅π     ⋅m    ⋅ω    ⋅x⋅ℯ        "
      ]
     },
     "execution_count": 17,
     "metadata": {},
     "output_type": "execute_result"
    }
   ],
   "source": [
    "#setup psi_1\n",
    "psi_1 = ((m*w)/(sp.pi*hbar))**(1/4)*sp.sqrt(2*m*w/(hbar))*x*sp.exp(-m*w*x**2/(2*hbar))\n",
    "psi_1"
   ]
  },
  {
   "cell_type": "markdown",
   "metadata": {},
   "source": [
    "To get $\\langle x \\rangle$ and $\\langle x^2 \\rangle$ we use the following equation:\n",
    "\n",
    "$$ \\langle x \\rangle = \\int_{-\\infty}^{+\\infty}\\psi_n^* x \\psi_n dx $$\n",
    "\n",
    "with the appropriate operator sandwiched between $\\psi^*$ and $\\psi$"
   ]
  },
  {
   "cell_type": "code",
   "execution_count": 18,
   "metadata": {
    "collapsed": false
   },
   "outputs": [],
   "source": [
    "#conjugate psi_0 psi_1 and get the squared magnitudes\n",
    "\n",
    "psi_0sq = sp.conjugate(psi_0)*psi_0\n",
    "psi_1sq = sp.conjugate(psi_1)*psi_1\n",
    "\n",
    "#expectation values for x\n",
    "psi_0expectx = sp.integrate(x*psi_0sq, (x, -sp.oo, sp.oo))\n",
    "psi_1expectx = sp.integrate(x*psi_1sq, (x, -sp.oo, sp.oo))\n",
    "\n",
    "#expectation values for x^2\n",
    "psi_0expectx2 = sp.integrate(x**2*psi_0sq, (x, -sp.oo, sp.oo))\n",
    "psi_1expectx2 = sp.integrate(x**2*psi_1sq, (x, -sp.oo, sp.oo))"
   ]
  },
  {
   "cell_type": "code",
   "execution_count": 19,
   "metadata": {
    "collapsed": false
   },
   "outputs": [
    {
     "data": {
      "image/png": "[encoded data removed]",
      "text/latex": [
       "$$0$$"
      ],
      "text/plain": [
       "0"
      ]
     },
     "execution_count": 19,
     "metadata": {},
     "output_type": "execute_result"
    }
   ],
   "source": [
    "psi_0expectx #for psi_0"
   ]
  },
  {
   "cell_type": "code",
   "execution_count": 20,
   "metadata": {
    "collapsed": false
   },
   "outputs": [
    {
     "data": {
      "image/png": "[encoded data removed]",
      "text/latex": [
       "$$0$$"
      ],
      "text/plain": [
       "0"
      ]
     },
     "execution_count": 20,
     "metadata": {},
     "output_type": "execute_result"
    }
   ],
   "source": [
    "psi_1expectx #for psi_1"
   ]
  },
  {
   "cell_type": "code",
   "execution_count": 21,
   "metadata": {
    "collapsed": false
   },
   "outputs": [
    {
     "data": {
      "image/png": "[encoded data removed]",
      "text/latex": [
       "$$\\frac{\\hbar}{2 m \\omega}$$"
      ],
      "text/plain": [
       "  ℏ  \n",
       "─────\n",
       "2⋅m⋅ω"
      ]
     },
     "execution_count": 21,
     "metadata": {},
     "output_type": "execute_result"
    }
   ],
   "source": [
    "psi_0expectx2 #for psi_0"
   ]
  },
  {
   "cell_type": "code",
   "execution_count": 22,
   "metadata": {
    "collapsed": false
   },
   "outputs": [
    {
     "data": {
      "image/png": "[encoded data removed]",
      "text/latex": [
       "$$\\frac{3 \\hbar}{2 m \\omega}$$"
      ],
      "text/plain": [
       " 3⋅ℏ \n",
       "─────\n",
       "2⋅m⋅ω"
      ]
     },
     "execution_count": 22,
     "metadata": {},
     "output_type": "execute_result"
    }
   ],
   "source": [
    "psi_1expectx2 #for psi_1"
   ]
  },
  {
   "cell_type": "markdown",
   "metadata": {},
   "source": [
    "We can get $\\langle p \\rangle$ via this equation:\n",
    "\n",
    "$$ \\langle p \\rangle = m \\frac{d\\langle x \\rangle}{dt} $$"
   ]
  },
  {
   "cell_type": "code",
   "execution_count": 23,
   "metadata": {
    "collapsed": false
   },
   "outputs": [],
   "source": [
    "# p expectation values...\n",
    "psi_0expectp = m*sp.diff(psi_0expectx, t)\n",
    "psi_1expectp = m*sp.diff(psi_1expectx, t)"
   ]
  },
  {
   "cell_type": "code",
   "execution_count": 24,
   "metadata": {
    "collapsed": false
   },
   "outputs": [
    {
     "data": {
      "image/png": "[encoded data removed]",
      "text/latex": [
       "$$0$$"
      ],
      "text/plain": [
       "0"
      ]
     },
     "execution_count": 24,
     "metadata": {},
     "output_type": "execute_result"
    }
   ],
   "source": [
    "psi_0expectp #for psi_0"
   ]
  },
  {
   "cell_type": "code",
   "execution_count": 25,
   "metadata": {
    "collapsed": false
   },
   "outputs": [
    {
     "data": {
      "image/png": "[encoded data removed]",
      "text/latex": [
       "$$0$$"
      ],
      "text/plain": [
       "0"
      ]
     },
     "execution_count": 25,
     "metadata": {},
     "output_type": "execute_result"
    }
   ],
   "source": [
    "psi_1expectp #for psi_1"
   ]
  },
  {
   "cell_type": "markdown",
   "metadata": {},
   "source": [
    "We use the momentum operator to get $\\langle p \\rangle$\n",
    "\n",
    "$$ \\langle p^2 \\rangle = \\int_{-\\infty}^{+\\infty}\\psi_n^* (-\\hbar^2 \\frac{\\partial^2}{\\partial x^2}) \\psi_n dx,$$\n",
    "the middle piece is the momentum operator $\\frac{\\hbar}{i} \\frac{\\partial}{\\partial x}$ squared"
   ]
  },
  {
   "cell_type": "code",
   "execution_count": 26,
   "metadata": {
    "collapsed": true
   },
   "outputs": [],
   "source": [
    "#expectation values for p^2\n",
    "psi_0expectp2 = -hbar**2*sp.integrate(sp.conjugate(psi_0)*sp.diff(psi_0, x, 2), (x, -sp.oo, sp.oo))\n",
    "psi_1expectp2 = -hbar**2*sp.integrate(sp.conjugate(psi_1)*sp.diff(psi_1, x, 2), (x, -sp.oo, sp.oo))"
   ]
  },
  {
   "cell_type": "code",
   "execution_count": 27,
   "metadata": {
    "collapsed": false
   },
   "outputs": [
    {
     "data": {
      "image/png": "[encoded data removed]",
      "text/latex": [
       "$$\\frac{m^{1.0} \\omega^{1.0}}{2} \\hbar^{1.0}$$"
      ],
      "text/plain": [
       " 1.0  1.0  1.0\n",
       "ℏ   ⋅m   ⋅ω   \n",
       "──────────────\n",
       "      2       "
      ]
     },
     "execution_count": 27,
     "metadata": {},
     "output_type": "execute_result"
    }
   ],
   "source": [
    "psi_0expectp2 #for psi_0"
   ]
  },
  {
   "cell_type": "code",
   "execution_count": 28,
   "metadata": {
    "collapsed": false
   },
   "outputs": [
    {
     "data": {
      "image/png": "[encoded data removed]",
      "text/latex": [
       "$$\\frac{3 m^{1.0}}{2} \\hbar^{1.0} \\omega^{1.0}$$"
      ],
      "text/plain": [
       "   1.0  1.0  1.0\n",
       "3⋅ℏ   ⋅m   ⋅ω   \n",
       "────────────────\n",
       "       2        "
      ]
     },
     "execution_count": 28,
     "metadata": {},
     "output_type": "execute_result"
    }
   ],
   "source": [
    "psi_1expectp2 #for psi_1"
   ]
  },
  {
   "cell_type": "markdown",
   "metadata": {},
   "source": [
    "We need to check the uncertainty principle:\n",
    "\n",
    "$$ \\sigma_p \\sigma_x \\geq \\frac{\\hbar}{2}$$ where\n",
    "\n",
    "$$ \\sigma_p = \\sqrt{\\langle p^2 \\rangle - \\langle p \\rangle^2} $$\n",
    "\n",
    "$$ \\sigma_x = \\sqrt{\\langle x^2 \\rangle - \\langle x \\rangle^2} $$\n"
   ]
  },
  {
   "cell_type": "code",
   "execution_count": 30,
   "metadata": {
    "collapsed": true
   },
   "outputs": [],
   "source": [
    "#for psi_0\n",
    "psi_0sigma_p = sp.sqrt(psi_0expectp2 - psi_0expectp**2)\n",
    "psi_0sigma_x = sp.sqrt(psi_0expectx2 - psi_0expectx**2)\n",
    "#for psi_1\n",
    "psi_1sigma_p = sp.sqrt(psi_1expectp2 - psi_1expectp**2)\n",
    "psi_1sigma_x = sp.sqrt(psi_1expectx2 - psi_1expectx**2)"
   ]
  },
  {
   "cell_type": "code",
   "execution_count": 31,
   "metadata": {
    "collapsed": true
   },
   "outputs": [],
   "source": [
    "#for psi_0\n",
    "psi_osigmaprod = psi_0sigma_p*psi_0sigma_x\n",
    "\n",
    "#for psi_1\n",
    "psi_1sigmaprod = psi_1sigma_p*psi_1sigma_x"
   ]
  },
  {
   "cell_type": "code",
   "execution_count": 32,
   "metadata": {
    "collapsed": false
   },
   "outputs": [
    {
     "data": {
      "image/png": "[encoded data removed]",
      "text/latex": [
       "$$\\frac{\\hbar^{1.0}}{2}$$"
      ],
      "text/plain": [
       " 1.0\n",
       "ℏ   \n",
       "────\n",
       " 2  "
      ]
     },
     "execution_count": 32,
     "metadata": {},
     "output_type": "execute_result"
    }
   ],
   "source": [
    "psi_osigmaprod"
   ]
  },
  {
   "cell_type": "code",
   "execution_count": 33,
   "metadata": {
    "collapsed": false
   },
   "outputs": [
    {
     "data": {
      "image/png": "[encoded data removed]",
      "text/latex": [
       "$$\\frac{3 \\hbar^{1.0}}{2}$$"
      ],
      "text/plain": [
       "   1.0\n",
       "3⋅ℏ   \n",
       "──────\n",
       "  2   "
      ]
     },
     "execution_count": 33,
     "metadata": {},
     "output_type": "execute_result"
    }
   ],
   "source": [
    "psi_1sigmaprod"
   ]
  },
  {
   "cell_type": "markdown",
   "metadata": {},
   "source": [
    "The uncertainty principle is satisfied for $\\psi_0$ (just barely) and $\\psi_1$"
   ]
  },
  {
   "cell_type": "markdown",
   "metadata": {},
   "source": [
    "Since $T = \\frac{p^2}{2m}$ we can say that $\\langle T \\rangle = \\frac{\\langle p^2 \\rangle}{2m} $"
   ]
  },
  {
   "cell_type": "markdown",
   "metadata": {},
   "source": [
    "and since $V = \\frac{1}{2} k x^2$ where $k = \\omega^2 m$ we can say that  $\\langle V \\rangle = \\frac{1}{2}m \\omega^2 \\langle x ^2 \\rangle$"
   ]
  },
  {
   "cell_type": "code",
   "execution_count": 42,
   "metadata": {
    "collapsed": true
   },
   "outputs": [],
   "source": [
    "#expectation values of T\n",
    "\n",
    "psi_0expectT = (1/(2*m))*psi_0expectp2\n",
    "psi_1expectT = (1/(2*m))*psi_1expectp2"
   ]
  },
  {
   "cell_type": "code",
   "execution_count": 43,
   "metadata": {
    "collapsed": false
   },
   "outputs": [
    {
     "data": {
      "image/png": "[encoded data removed]",
      "text/latex": [
       "$$\\frac{\\hbar^{1.0} \\omega^{1.0}}{4}$$"
      ],
      "text/plain": [
       " 1.0  1.0\n",
       "ℏ   ⋅ω   \n",
       "─────────\n",
       "    4    "
      ]
     },
     "execution_count": 43,
     "metadata": {},
     "output_type": "execute_result"
    }
   ],
   "source": [
    "psi_0expectT"
   ]
  },
  {
   "cell_type": "code",
   "execution_count": 44,
   "metadata": {
    "collapsed": false
   },
   "outputs": [
    {
     "data": {
      "image/png": "[encoded data removed]",
      "text/latex": [
       "$$\\frac{3 \\omega^{1.0}}{4} \\hbar^{1.0}$$"
      ],
      "text/plain": [
       "   1.0  1.0\n",
       "3⋅ℏ   ⋅ω   \n",
       "───────────\n",
       "     4     "
      ]
     },
     "execution_count": 44,
     "metadata": {},
     "output_type": "execute_result"
    }
   ],
   "source": [
    "psi_1expectT"
   ]
  },
  {
   "cell_type": "code",
   "execution_count": 45,
   "metadata": {
    "collapsed": true
   },
   "outputs": [],
   "source": [
    "#expectation values of V\n",
    "psi_0expectV = (1/2)*m*w**2*psi_0expectx2\n",
    "psi_1expectV = (1/2)*m*w**2*psi_1expectx2"
   ]
  },
  {
   "cell_type": "code",
   "execution_count": 46,
   "metadata": {
    "collapsed": false
   },
   "outputs": [
    {
     "data": {
      "image/png": "[encoded data removed]",
      "text/latex": [
       "$$0.25 \\hbar \\omega$$"
      ],
      "text/plain": [
       "0.25⋅ℏ⋅ω"
      ]
     },
     "execution_count": 46,
     "metadata": {},
     "output_type": "execute_result"
    }
   ],
   "source": [
    "psi_0expectV"
   ]
  },
  {
   "cell_type": "code",
   "execution_count": 47,
   "metadata": {
    "collapsed": false
   },
   "outputs": [
    {
     "data": {
      "image/png": "[encoded data removed]",
      "text/latex": [
       "$$0.75 \\hbar \\omega$$"
      ],
      "text/plain": [
       "0.75⋅ℏ⋅ω"
      ]
     },
     "execution_count": 47,
     "metadata": {},
     "output_type": "execute_result"
    }
   ],
   "source": [
    "psi_1expectV"
   ]
  },
  {
   "cell_type": "markdown",
   "metadata": {},
   "source": [
    "We expect these values to sum to the expectation value of the total energy, $\\langle H \\rangle$.\n",
    "\n",
    "We can calculate $\\langle H \\rangle$ with:\n",
    "\n",
    "$$ \\langle H \\rangle = \\int_{-\\infty}^{+\\infty}\\psi_n^* (\\frac{-\\hbar^2}{2m} \\frac{\\partial^2}{\\partial x^2} + \\frac{1}{2}m \\omega^2 x^2) \\psi_n dx,$$\n",
    "the middle piece is the Hamiltonian operator $\\frac{-\\hbar^2}{2m} \\frac{\\partial^2}{\\partial x^2} + V(x)$ "
   ]
  },
  {
   "cell_type": "code",
   "execution_count": 49,
   "metadata": {
    "collapsed": false
   },
   "outputs": [],
   "source": [
    "psi_0Totalenergy =  sp.integrate(sp.conjugate(psi_0)*(((-hbar**2)/(2*m))*sp.diff(psi_0, x, 2) + (1/2)*m*w**2*x**2*psi_0), (x, -sp.oo, sp.oo))\n",
    "psi_1Totalenergy =  sp.integrate(sp.conjugate(psi_1)*(((-hbar**2)/(2*m))*sp.diff(psi_1, x, 2) + (1/2)*m*w**2*x**2*psi_1), (x, -sp.oo, sp.oo))"
   ]
  },
  {
   "cell_type": "code",
   "execution_count": 50,
   "metadata": {
    "collapsed": false
   },
   "outputs": [
    {
     "data": {
      "image/png": "[encoded data removed]",
      "text/latex": [
       "$$\\frac{\\hbar \\omega^{1.0}}{2}$$"
      ],
      "text/plain": [
       "   1.0\n",
       "ℏ⋅ω   \n",
       "──────\n",
       "  2   "
      ]
     },
     "execution_count": 50,
     "metadata": {},
     "output_type": "execute_result"
    }
   ],
   "source": [
    "psi_0Totalenergy"
   ]
  },
  {
   "cell_type": "code",
   "execution_count": 51,
   "metadata": {
    "collapsed": false
   },
   "outputs": [
    {
     "data": {
      "image/png": "[encoded data removed]",
      "text/latex": [
       "$$\\frac{3 \\omega^{1.0}}{2} \\hbar$$"
      ],
      "text/plain": [
       "     1.0\n",
       "3⋅ℏ⋅ω   \n",
       "────────\n",
       "   2    "
      ]
     },
     "execution_count": 51,
     "metadata": {},
     "output_type": "execute_result"
    }
   ],
   "source": [
    "psi_1Totalenergy"
   ]
  },
  {
   "cell_type": "markdown",
   "metadata": {},
   "source": [
    "Lastly we can compute the sums of our T and V expectation values for $\\psi_0$ and $\\psi_1$"
   ]
  },
  {
   "cell_type": "code",
   "execution_count": 52,
   "metadata": {
    "collapsed": true
   },
   "outputs": [],
   "source": [
    "psi_oSum = psi_0expectV + psi_0expectT\n",
    "psi_1Sum = psi_1expectV + psi_1expectT"
   ]
  },
  {
   "cell_type": "code",
   "execution_count": 56,
   "metadata": {
    "collapsed": false
   },
   "outputs": [
    {
     "data": {
      "image/png": "[encoded data removed]",
      "text/latex": [
       "$$\\frac{\\hbar \\omega}{4} + \\frac{\\hbar^{1.0} \\omega^{1.0}}{4}$$"
      ],
      "text/plain": [
       "       1.0  1.0\n",
       "ℏ⋅ω   ℏ   ⋅ω   \n",
       "─── + ─────────\n",
       " 4        4    "
      ]
     },
     "execution_count": 56,
     "metadata": {},
     "output_type": "execute_result"
    }
   ],
   "source": [
    "sp.simplify(psi_oSum)"
   ]
  },
  {
   "cell_type": "code",
   "execution_count": 57,
   "metadata": {
    "collapsed": false
   },
   "outputs": [
    {
     "data": {
      "image/png": "[encoded data removed]",
      "text/latex": [
       "$$0.75 \\hbar \\omega + 0.75 \\hbar^{1.0} \\omega^{1.0}$$"
      ],
      "text/plain": [
       "                 1.0  1.0\n",
       "0.75⋅ℏ⋅ω + 0.75⋅ℏ   ⋅ω   "
      ]
     },
     "execution_count": 57,
     "metadata": {},
     "output_type": "execute_result"
    }
   ],
   "source": [
    "sp.simplify(psi_1Sum)"
   ]
  },
  {
   "cell_type": "markdown",
   "metadata": {},
   "source": [
    "Clearly, we have agreement between then sums and the explicit integral. So we can conclude:\n",
    "\n",
    "$$ \\langle H \\rangle = \\langle T \\rangle + \\langle V \\rangle  = \\frac{\\langle p^2 \\rangle}{2m} + \\frac{1}{2}m \\omega^2 \\langle x^2 \\rangle$$"
   ]
  },
  {
   "cell_type": "markdown",
   "metadata": {
    "collapsed": true
   },
   "source": [
    "----\n",
    "\n",
    "## Portfolio references\n",
    "* Problem 1.3, 1.5, 1.9, 1.17, 2.4\n",
    "## Index terms\n",
    "* uncertainty principle\n",
    "* Schrodinger equation\n",
    "* expectation value\n",
    "* standard deviation\n",
    "* momentum operator\n",
    "* Hamiltonian operator\n",
    "* $\\langle T \\rangle$ $\\langle V \\rangle$ for the Harmonic Oscillator\n",
    "## Book references\n",
    "* eq 2.59 and 2.62 on pages 16 and 17, equation 2.35 on page 34\n",
    "## External references"
   ]
  },
  {
   "cell_type": "code",
   "execution_count": null,
   "metadata": {
    "collapsed": true
   },
   "outputs": [],
   "source": []
  },
  {
   "cell_type": "code",
   "execution_count": null,
   "metadata": {
    "collapsed": true
   },
   "outputs": [],
   "source": []
  },
  {
   "cell_type": "code",
   "execution_count": null,
   "metadata": {
    "collapsed": true
   },
   "outputs": [],
   "source": []
  }
 ],
 "metadata": {
  "anaconda-cloud": {},
  "kernelspec": {
   "display_name": "Python [Root]",
   "language": "python",
   "name": "Python [Root]"
  },
  "language_info": {
   "codemirror_mode": {
    "name": "ipython",
    "version": 3
   },
   "file_extension": ".py",
   "mimetype": "text/x-python",
   "name": "python",
   "nbconvert_exporter": "python",
   "pygments_lexer": "ipython3",
   "version": "3.5.2"
  }
 },
 "nbformat": 4,
 "nbformat_minor": 0
}

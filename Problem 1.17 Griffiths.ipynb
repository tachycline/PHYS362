{
 "cells": [
  {
   "cell_type": "markdown",
   "metadata": {},
   "source": [
    "# Problem (1.17)\n",
    "\n",
    "## Problem statement\n",
    "\n",
    "A particle is represented (at time $t = 0$) by the wave function\n",
    "\n",
    "$$\n",
    "\\Psi(x,0) = \\left\\{\n",
    "            \\begin{array}{11}\n",
    "                A(a^2-x^2) \\quad if -a \\leq x \\leq +a \\\\\n",
    "                0 \\quad otherwise\n",
    "            \\end{array}\n",
    "            \\right.\n",
    "$$\n",
    "1. Find $A$ \n",
    "2. What is the expectation value of $x$ (at time $t=0$)\n",
    "3. What is the expectation values of $p$ (at time $t = 0$)? (Note that you cannot get it from $md\\langle x \\rangle / dt.$ Why not?)\n",
    "4. Find the expectation value of $x^2$\n",
    "5. Find the expectation value of $p^2$\n",
    "6. Find the uncertainty in $x$ ($\\sigma_x$)\n",
    "7. Find the uncertianty in $p$ ($\\sigma_p$)\n",
    "8. Check that your results are consistent with the uncertainty principle\n",
    "\n",
    "----\n",
    "\n",
    "## Solution"
   ]
  },
  {
   "cell_type": "markdown",
   "metadata": {},
   "source": [
    "To get $A$, we integrate $\\lvert \\Psi \\rvert ^2$ over the non-zero interval $x = -a$ to $a$"
   ]
  },
  {
   "cell_type": "code",
   "execution_count": 1,
   "metadata": {
    "collapsed": false
   },
   "outputs": [
    {
     "data": {
      "image/png": "[encoded data removed]",
      "text/latex": [
       "$$A \\left(a^{2} - x^{2}\\right)$$"
      ],
      "text/plain": [
       "  ⎛ 2    2⎞\n",
       "A⋅⎝a  - x ⎠"
      ]
     },
     "execution_count": 1,
     "metadata": {},
     "output_type": "execute_result"
    }
   ],
   "source": [
    "import sympy as sp\n",
    "sp.init_printing()\n",
    "\n",
    "#define the symbols\n",
    "A, a , x = sp.symbols('A a x', real = True)\n",
    "#define psi over the non-zero interval\n",
    "psi = A*(a**2-x**2)\n",
    "psi"
   ]
  },
  {
   "cell_type": "code",
   "execution_count": 2,
   "metadata": {
    "collapsed": false
   },
   "outputs": [
    {
     "data": {
      "image/png": "[encoded data removed]",
      "text/latex": [
       "$$\\left\\{- \\frac{\\sqrt{15} \\sqrt{\\frac{1}{a^{5}}}}{4}, \\frac{\\sqrt{15} \\sqrt{\\frac{1}{a^{5}}}}{4}\\right\\}$$"
      ],
      "text/plain": [
       "⎧          ____            ____⎫\n",
       "⎪         ╱ 1             ╱ 1  ⎪\n",
       "⎪-√15⋅   ╱  ──    √15⋅   ╱  ── ⎪\n",
       "⎨       ╱    5          ╱    5 ⎬\n",
       "⎪     ╲╱    a         ╲╱    a  ⎪\n",
       "⎪───────────────, ─────────────⎪\n",
       "⎩       4               4      ⎭"
      ]
     },
     "execution_count": 2,
     "metadata": {},
     "output_type": "execute_result"
    }
   ],
   "source": [
    "#get the probability density by calculating psi*psi\n",
    "psisq = sp.conjugate(psi)*psi\n",
    "psisq\n",
    "#now integrate w/ respect to x from -a to a, set equal to 1 and solve for A\n",
    "sp.integrate(psisq, (x, -a, a))\n",
    "\n",
    "normalization_condition = sp.Eq(1, sp.integrate(psisq, (x, -a, a)))\n",
    "\n",
    "sp.solveset(normalization_condition, A)"
   ]
  },
  {
   "cell_type": "markdown",
   "metadata": {
    "collapsed": true
   },
   "source": [
    "Here are the values for $A$, part 1 is done"
   ]
  },
  {
   "cell_type": "code",
   "execution_count": 3,
   "metadata": {
    "collapsed": false
   },
   "outputs": [
    {
     "data": {
      "image/png": "[encoded data removed]",
      "text/latex": [
       "$$\\frac{\\sqrt{15} \\sqrt{\\frac{1}{a^{5}}}}{4} \\left(a^{2} - x^{2}\\right)$$"
      ],
      "text/plain": [
       "                   ____\n",
       "    ⎛ 2    2⎞     ╱ 1  \n",
       "√15⋅⎝a  - x ⎠⋅   ╱  ── \n",
       "                ╱    5 \n",
       "              ╲╱    a  \n",
       "───────────────────────\n",
       "           4           "
      ]
     },
     "execution_count": 3,
     "metadata": {},
     "output_type": "execute_result"
    }
   ],
   "source": [
    "#substitute our solution for A\n",
    "psi = psi.subs(A, next(iter(sp.solveset(normalization_condition, A))))\n",
    "#I want the positive one\n",
    "psi = -1*psi\n",
    "psi"
   ]
  },
  {
   "cell_type": "markdown",
   "metadata": {},
   "source": [
    "To get $\\langle x \\rangle$ use the following integral\n",
    "\n",
    "$$ \\int_{-a}^{+a}  \\Psi^* x \\Psi dx $$"
   ]
  },
  {
   "cell_type": "code",
   "execution_count": 4,
   "metadata": {
    "collapsed": false
   },
   "outputs": [
    {
     "data": {
      "image/png": "[encoded data removed]",
      "text/latex": [
       "$$0$$"
      ],
      "text/plain": [
       "0"
      ]
     },
     "execution_count": 4,
     "metadata": {},
     "output_type": "execute_result"
    }
   ],
   "source": [
    "#redefine psisq\n",
    "psisq = sp.conjugate(psi)*psi\n",
    "\n",
    "expectx = sp.integrate(x*psisq, (x, -a, a))\n",
    "expectx"
   ]
  },
  {
   "cell_type": "markdown",
   "metadata": {},
   "source": [
    "Here is $\\langle x \\rangle$ Part 2 is completed\n",
    "\n",
    "We can replace $x$ in the previous integral with the momentum operator, $\\frac{\\hbar}{i} \\frac{\\partial}{\\partial x}$\n"
   ]
  },
  {
   "cell_type": "code",
   "execution_count": 5,
   "metadata": {
    "collapsed": false
   },
   "outputs": [
    {
     "data": {
      "image/png": "[encoded data removed]",
      "text/latex": [
       "$$0$$"
      ],
      "text/plain": [
       "0"
      ]
     },
     "execution_count": 5,
     "metadata": {},
     "output_type": "execute_result"
    }
   ],
   "source": [
    "from sympy.physics.quantum.constants import hbar\n",
    "\n",
    "expectp = sp.integrate(sp.conjugate(psi)*(hbar/sp.I)*sp.diff(psi, x), (x, -a, a))\n",
    "expectp"
   ]
  },
  {
   "cell_type": "markdown",
   "metadata": {},
   "source": [
    "Here we have $\\langle p \\rangle$, we can not use $m \\frac{d \\langle x \\rangle}{dx}$ because we only have the wavefunction for one time"
   ]
  },
  {
   "cell_type": "code",
   "execution_count": 6,
   "metadata": {
    "collapsed": false
   },
   "outputs": [
    {
     "data": {
      "image/png": "[encoded data removed]",
      "text/latex": [
       "$$\\frac{a^{7} \\sqrt{\\frac{1}{a^{5}}}}{7} \\overline{\\sqrt{\\frac{1}{a^{5}}}}$$"
      ],
      "text/plain": [
       "             _________\n",
       "        ____      ____\n",
       " 7     ╱ 1       ╱ 1  \n",
       "a ⋅   ╱  ── ⋅   ╱  ── \n",
       "     ╱    5    ╱    5 \n",
       "   ╲╱    a   ╲╱    a  \n",
       "──────────────────────\n",
       "          7           "
      ]
     },
     "execution_count": 6,
     "metadata": {},
     "output_type": "execute_result"
    }
   ],
   "source": [
    "expectx2 = sp.integrate(x**2*psisq, (x, -a, a))\n",
    "expectx2"
   ]
  },
  {
   "cell_type": "markdown",
   "metadata": {},
   "source": [
    "Here is $\\langle x^2 \\rangle$"
   ]
  },
  {
   "cell_type": "markdown",
   "metadata": {},
   "source": [
    "to get $\\langle p^2 \\rangle$ we can repeat the process of for $\\langle p \\rangle$, but square the momentum operator inside the integral"
   ]
  },
  {
   "cell_type": "code",
   "execution_count": 7,
   "metadata": {
    "collapsed": false
   },
   "outputs": [
    {
     "data": {
      "image/png": "[encoded data removed]",
      "text/latex": [
       "$$\\frac{5 a^{3}}{2} \\hbar^{2} \\sqrt{\\frac{1}{a^{5}}} \\overline{\\sqrt{\\frac{1}{a^{5}}}}$$"
      ],
      "text/plain": [
       "                  _________\n",
       "             ____      ____\n",
       "   2  3     ╱ 1       ╱ 1  \n",
       "5⋅ℏ ⋅a ⋅   ╱  ── ⋅   ╱  ── \n",
       "          ╱    5    ╱    5 \n",
       "        ╲╱    a   ╲╱    a  \n",
       "───────────────────────────\n",
       "             2             "
      ]
     },
     "execution_count": 7,
     "metadata": {},
     "output_type": "execute_result"
    }
   ],
   "source": [
    "expectp2 = sp.integrate(sp.conjugate(psi)*(-(hbar**2))*sp.diff(psi, x ,2), (x, -a, a))\n",
    "expectp2"
   ]
  },
  {
   "cell_type": "markdown",
   "metadata": {},
   "source": [
    "Here we have $\\langle p^2 \\rangle$\n",
    "\n",
    "To get the uncertainty in x, we can use the following equation\n",
    "\n",
    "$$ \\sigma_x = \\sqrt{\\langle x^2 \\rangle - \\langle x \\rangle ^2} $$"
   ]
  },
  {
   "cell_type": "code",
   "execution_count": 8,
   "metadata": {
    "collapsed": false
   },
   "outputs": [
    {
     "data": {
      "image/png": "[encoded data removed]",
      "text/latex": [
       "$$\\frac{\\sqrt{7}}{7} \\sqrt{a^{7} \\sqrt{\\frac{1}{a^{5}}} \\overline{\\sqrt{\\frac{1}{a^{5}}}}}$$"
      ],
      "text/plain": [
       "          ________________________\n",
       "         ╱              _________ \n",
       "        ╱          ____      ____ \n",
       "       ╱    7     ╱ 1       ╱ 1   \n",
       "√7⋅   ╱    a ⋅   ╱  ── ⋅   ╱  ──  \n",
       "     ╱          ╱    5    ╱    5  \n",
       "   ╲╱         ╲╱    a   ╲╱    a   \n",
       "──────────────────────────────────\n",
       "                7                 "
      ]
     },
     "execution_count": 8,
     "metadata": {},
     "output_type": "execute_result"
    }
   ],
   "source": [
    "sigmax = sp.sqrt(expectx2 - (expectx)**2)\n",
    "sigmax"
   ]
  },
  {
   "cell_type": "markdown",
   "metadata": {},
   "source": [
    "Here is $\\sigma_x$\n",
    "\n",
    "Now we can do the same thing with the $p$ exectation values to get $\\sigma_p$"
   ]
  },
  {
   "cell_type": "code",
   "execution_count": 9,
   "metadata": {
    "collapsed": false
   },
   "outputs": [
    {
     "data": {
      "image/png": "[encoded data removed]",
      "text/latex": [
       "$$\\frac{\\sqrt{10} \\hbar}{2} \\sqrt{a^{3} \\sqrt{\\frac{1}{a^{5}}} \\overline{\\sqrt{\\frac{1}{a^{5}}}}}$$"
      ],
      "text/plain": [
       "             ________________________\n",
       "            ╱              _________ \n",
       "           ╱          ____      ____ \n",
       "          ╱    3     ╱ 1       ╱ 1   \n",
       "√10⋅ℏ⋅   ╱    a ⋅   ╱  ── ⋅   ╱  ──  \n",
       "        ╱          ╱    5    ╱    5  \n",
       "      ╲╱         ╲╱    a   ╲╱    a   \n",
       "─────────────────────────────────────\n",
       "                  2                  "
      ]
     },
     "execution_count": 9,
     "metadata": {},
     "output_type": "execute_result"
    }
   ],
   "source": [
    "sigmap = sp.sqrt(expectp2 - (expectp)**2)\n",
    "sigmap"
   ]
  },
  {
   "cell_type": "markdown",
   "metadata": {},
   "source": [
    "Here is $\\sigma_p$\n",
    "\n",
    "Lastly we can check our result with the uncertainty principle\n",
    "\n",
    "$$ \\sigma_x\\sigma_p \\geq \\frac{\\hbar}{2} $$"
   ]
  },
  {
   "cell_type": "code",
   "execution_count": 10,
   "metadata": {
    "collapsed": false
   },
   "outputs": [
    {
     "data": {
      "image/png": "[encoded data removed]",
      "text/latex": [
       "$$\\frac{\\sqrt{70} \\hbar}{14} \\sqrt{a^{3} \\sqrt{\\frac{1}{a^{5}}} \\overline{\\sqrt{\\frac{1}{a^{5}}}}} \\sqrt{a^{7} \\sqrt{\\frac{1}{a^{5}}} \\overline{\\sqrt{\\frac{1}{a^{5}}}}}$$"
      ],
      "text/plain": [
       "             ________________________        ________________________\n",
       "            ╱              _________        ╱              _________ \n",
       "           ╱          ____      ____       ╱          ____      ____ \n",
       "          ╱    3     ╱ 1       ╱ 1        ╱    7     ╱ 1       ╱ 1   \n",
       "√70⋅ℏ⋅   ╱    a ⋅   ╱  ── ⋅   ╱  ──  ⋅   ╱    a ⋅   ╱  ── ⋅   ╱  ──  \n",
       "        ╱          ╱    5    ╱    5     ╱          ╱    5    ╱    5  \n",
       "      ╲╱         ╲╱    a   ╲╱    a    ╲╱         ╲╱    a   ╲╱    a   \n",
       "─────────────────────────────────────────────────────────────────────\n",
       "                                  14                                 "
      ]
     },
     "execution_count": 10,
     "metadata": {},
     "output_type": "execute_result"
    }
   ],
   "source": [
    "sigmaprod = sigmax*sigmap\n",
    "sigmaprod"
   ]
  },
  {
   "cell_type": "markdown",
   "metadata": {},
   "source": [
    "The $a's$ cancel out, so the uncertainty principle is satisfied"
   ]
  },
  {
   "cell_type": "markdown",
   "metadata": {},
   "source": [
    "----\n",
    "\n",
    "## Portfolio references\n",
    "* Problem 1.3, 1.5, 1.9\n",
    "## Index terms\n",
    "* uncertainty principle\n",
    "* Schrodinger equation\n",
    "* expectation value\n",
    "* standard deviation\n",
    "* momentum operator\n",
    "## Book references\n",
    "* eq 1.33 and 1.35 on pages 16 and 17\n",
    "## External references"
   ]
  },
  {
   "cell_type": "code",
   "execution_count": null,
   "metadata": {
    "collapsed": true
   },
   "outputs": [],
   "source": []
  },
  {
   "cell_type": "code",
   "execution_count": null,
   "metadata": {
    "collapsed": true
   },
   "outputs": [],
   "source": []
  },
  {
   "cell_type": "code",
   "execution_count": null,
   "metadata": {
    "collapsed": true
   },
   "outputs": [],
   "source": []
  }
 ],
 "metadata": {
  "anaconda-cloud": {},
  "kernelspec": {
   "display_name": "Python [Root]",
   "language": "python",
   "name": "Python [Root]"
  },
  "language_info": {
   "codemirror_mode": {
    "name": "ipython",
    "version": 3
   },
   "file_extension": ".py",
   "mimetype": "text/x-python",
   "name": "python",
   "nbconvert_exporter": "python",
   "pygments_lexer": "ipython3",
   "version": "3.5.2"
  }
 },
 "nbformat": 4,
 "nbformat_minor": 0
}

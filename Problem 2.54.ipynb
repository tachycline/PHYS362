{
 "cells": [
  {
   "cell_type": "markdown",
   "metadata": {},
   "source": [
    "# Problem (2.54)\n",
    "\n",
    "## Problem statement\n",
    "\n",
    "Find the ground energy of the harmonic oscillator, to five significant digits, by the \"wag-the-dog\" method. That is, solve Equation 2.72 numerically, varying K until you get a wave function that goes to zero at large $\\xi$.\n",
    "\n",
    "----\n",
    "\n",
    "## Solution"
   ]
  },
  {
   "cell_type": "markdown",
   "metadata": {},
   "source": [
    "The Schrodinger Equation for the HO is given by equation 2.72\n",
    "\n",
    "$$ \\frac{d^2 \\psi}{d \\xi^2} = (\\xi^2 - K) \\psi $$"
   ]
  },
  {
   "cell_type": "code",
   "execution_count": 1,
   "metadata": {
    "collapsed": true
   },
   "outputs": [],
   "source": [
    "import numpy as np\n",
    "from scipy.integrate import odeint"
   ]
  },
  {
   "cell_type": "code",
   "execution_count": 2,
   "metadata": {
    "collapsed": true
   },
   "outputs": [],
   "source": [
    "xi = np.linspace(0, 10, 400)\n",
    "\n",
    "def func(y, xi, K):\n",
    "\n",
    "    psi, psiprime = y\n",
    "    \n",
    "    psidoubleprime = (xi**2 - K)*psi\n",
    "    \n",
    "    return psiprime, psidoubleprime"
   ]
  },
  {
   "cell_type": "code",
   "execution_count": 3,
   "metadata": {
    "collapsed": true
   },
   "outputs": [],
   "source": [
    "y0 = (1.0, 0.0) #according to Fig 2.7a, the ground state is even so psi0 = 1, psi'0 = 0\n",
    "\n",
    "result = odeint(func, y0, xi, args=(1.01,))"
   ]
  },
  {
   "cell_type": "code",
   "execution_count": 4,
   "metadata": {
    "collapsed": true
   },
   "outputs": [],
   "source": [
    "from matplotlib import pyplot as plt"
   ]
  },
  {
   "cell_type": "code",
   "execution_count": 5,
   "metadata": {
    "collapsed": true
   },
   "outputs": [],
   "source": [
    "%matplotlib inline"
   ]
  },
  {
   "cell_type": "code",
   "execution_count": 6,
   "metadata": {
    "collapsed": false
   },
   "outputs": [
    {
     "data": {
      "text/plain": [
       "(400, 2)"
      ]
     },
     "execution_count": 6,
     "metadata": {},
     "output_type": "execute_result"
    }
   ],
   "source": [
    "result.shape"
   ]
  },
  {
   "cell_type": "code",
   "execution_count": 7,
   "metadata": {
    "collapsed": true
   },
   "outputs": [],
   "source": [
    "psi = result[:,0]"
   ]
  },
  {
   "cell_type": "code",
   "execution_count": 8,
   "metadata": {
    "collapsed": true
   },
   "outputs": [],
   "source": [
    "psiprime = result[:,1]"
   ]
  },
  {
   "cell_type": "code",
   "execution_count": 28,
   "metadata": {
    "collapsed": false
   },
   "outputs": [
    {
     "data": {
      "text/plain": [
       "[<matplotlib.lines.Line2D at 0x92e4e10>]"
      ]
     },
     "execution_count": 28,
     "metadata": {},
     "output_type": "execute_result"
    },
    {
     "data": {
      "image/png": "[encoded data removed]",
      "text/plain": [
       "<matplotlib.figure.Figure at 0x92e4f28>"
      ]
     },
     "metadata": {},
     "output_type": "display_data"
    }
   ],
   "source": [
    "plt.plot(xi, psi)\n",
    "plt.xlim(0,10)\n",
    "plt.ylim(-5,5)\n",
    "plt.plot(xi,np.zeros_like(xi))"
   ]
  },
  {
   "cell_type": "markdown",
   "metadata": {},
   "source": [
    "Our energy is too high, lets try a lower one"
   ]
  },
  {
   "cell_type": "code",
   "execution_count": 29,
   "metadata": {
    "collapsed": false
   },
   "outputs": [
    {
     "data": {
      "text/plain": [
       "[<matplotlib.lines.Line2D at 0x92c6128>]"
      ]
     },
     "execution_count": 29,
     "metadata": {},
     "output_type": "execute_result"
    },
    {
     "data": {
      "image/png": "[encoded data removed]",
      "text/plain": [
       "<matplotlib.figure.Figure at 0x92c6400>"
      ]
     },
     "metadata": {},
     "output_type": "display_data"
    }
   ],
   "source": [
    "result = odeint(func, y0, xi, args=(0.99,))\n",
    "psi = result[:,0]\n",
    "plt.plot(xi, psi)\n",
    "plt.xlim(0,10)\n",
    "plt.ylim(-5,5)\n",
    "plt.plot(xi,np.zeros_like(xi))"
   ]
  },
  {
   "cell_type": "markdown",
   "metadata": {},
   "source": [
    "Now our energy is too low. Lets see if we can use the automated method. "
   ]
  },
  {
   "cell_type": "code",
   "execution_count": 15,
   "metadata": {
    "collapsed": true
   },
   "outputs": [],
   "source": [
    "def bisect(func, E1, E2, even=True):\n",
    "    \"\"\"Given two ends of an energy interval, chop it in half.\"\"\"\n",
    "    \n",
    "    xi = np.linspace(0, 10, 400)\n",
    "    \n",
    "    if even:\n",
    "        y0 = (1.0, 0.0)\n",
    "    else:\n",
    "        y0 = (0.0, 1.0)\n",
    "        \n",
    "    # get initial signs\n",
    "    res1 = odeint(func, y0, xi, args=(E1,))\n",
    "    psi1 = res1[-1,0]\n",
    "    \n",
    "    res2 = odeint(func, y0, xi, args=(E2,))\n",
    "    psi2 = res2[-1,0]\n",
    "    \n",
    "    Ehalf = (E1+E2)/2\n",
    "    reshalf = odeint(func, y0, xi, args=(Ehalf,))\n",
    "    psihalf = reshalf[-1, 0]\n",
    "    \n",
    "    if np.sign(psihalf) == np.sign(psi1):\n",
    "        return (Ehalf, E2)\n",
    "    else:\n",
    "        return (E1, Ehalf)\n",
    "    \n",
    "\n",
    "def find_energy(func, E1, E2, even=True):\n",
    "    \n",
    "    while abs(E1-E2) > 1.0e-14:\n",
    "        E1, E2 = bisect(func, E1, E2, even)\n",
    "        \n",
    "    if even:\n",
    "        y0 = (1.0, 0.0)\n",
    "    else:\n",
    "        y0 = (0.0, 1.0)\n",
    "\n",
    "    x = np.linspace(0, 10, 400)\n",
    "    result = odeint(func, y0, xi, args=(E1, ))\n",
    "    psi = result[:,0]\n",
    "    plt.plot(xi, psi)\n",
    "    plt.ylim(-5, 5)\n",
    "    plt.xlim(0, 10)\n",
    "    \n",
    "    return E1"
   ]
  },
  {
   "cell_type": "code",
   "execution_count": 26,
   "metadata": {
    "collapsed": false
   },
   "outputs": [
    {
     "data": {
      "text/plain": [
       "0.9999999596640283"
      ]
     },
     "execution_count": 26,
     "metadata": {},
     "output_type": "execute_result"
    },
    {
     "data": {
      "image/png": "[encoded data removed]",
      "text/plain": [
       "<matplotlib.figure.Figure at 0x926a438>"
      ]
     },
     "metadata": {},
     "output_type": "display_data"
    }
   ],
   "source": [
    "find_energy(func, 0.99, 1.01)"
   ]
  },
  {
   "cell_type": "markdown",
   "metadata": {},
   "source": [
    "Not perfect but we know $K = 1$ for the ground state energy so this is good. \n",
    "\n",
    "For the Harmonic Oscillator $E_n = \\hbar \\omega (n + 1/2) $ and $K = 2E/\\hbar\\omega $, so this problem confirms that $E_0 = \\hbar\\omega/2$"
   ]
  },
  {
   "cell_type": "markdown",
   "metadata": {},
   "source": [
    "----\n",
    "\n",
    "## Portfolio references\n",
    "* Problem 2.55, 2.56\n",
    "## Index terms\n",
    "* Harmonic Oscillator\n",
    "* Shooting\n",
    "## Book references\n",
    "* eq 2.72\n",
    "## External references\n",
    "* Shooting.ipynb"
   ]
  },
  {
   "cell_type": "code",
   "execution_count": null,
   "metadata": {
    "collapsed": true
   },
   "outputs": [],
   "source": []
  },
  {
   "cell_type": "code",
   "execution_count": null,
   "metadata": {
    "collapsed": true
   },
   "outputs": [],
   "source": []
  }
 ],
 "metadata": {
  "anaconda-cloud": {},
  "kernelspec": {
   "display_name": "Python [Root]",
   "language": "python",
   "name": "Python [Root]"
  },
  "language_info": {
   "codemirror_mode": {
    "name": "ipython",
    "version": 3
   },
   "file_extension": ".py",
   "mimetype": "text/x-python",
   "name": "python",
   "nbconvert_exporter": "python",
   "pygments_lexer": "ipython3",
   "version": "3.5.2"
  }
 },
 "nbformat": 4,
 "nbformat_minor": 0
}

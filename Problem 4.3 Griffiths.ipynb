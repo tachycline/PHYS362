{
 "cells": [
  {
   "cell_type": "markdown",
   "metadata": {},
   "source": [
    "# Problem (4.3)\n",
    "\n",
    "## Problem statement\n",
    "\n",
    "Use equations 4.27, 4.28, and 4.32, to construct $Y_0^0$ and $Y_2^1$. Check that they are normalized and orthogonal. \n",
    "\n",
    "----\n",
    "\n",
    "## Solution"
   ]
  },
  {
   "cell_type": "markdown",
   "metadata": {},
   "source": [
    "We start with by building the Legendre polynomial w/ equation 4.28, Rodrigues formula\n",
    "\n",
    "$$ P_l(\\cos\\theta) = \\frac{1}{2^ll!} (\\frac{d}{d \\cos\\theta})^l(\\cos^2\\theta - 1)^l $$\n"
   ]
  },
  {
   "cell_type": "code",
   "execution_count": 1,
   "metadata": {
    "collapsed": false
   },
   "outputs": [],
   "source": [
    "import sympy as sp\n",
    "from sympy.physics.quantum.constants import hbar\n",
    "sp.init_printing()\n",
    "\n",
    "o, phi= sp.symbols('theta phi', real=True)\n"
   ]
  },
  {
   "cell_type": "code",
   "execution_count": 2,
   "metadata": {
    "collapsed": false
   },
   "outputs": [
    {
     "data": {
      "image/png": "[encoded data removed]",
      "text/latex": [
       "$$1$$"
      ],
      "text/plain": [
       "1"
      ]
     },
     "execution_count": 2,
     "metadata": {},
     "output_type": "execute_result"
    }
   ],
   "source": [
    "#starting with Y_0^0\n",
    "\n",
    "l = 0\n",
    "\n",
    "P_0 = 1/(2**l*sp.factorial(l))*sp.diff((sp.cos(o)**2 - 1)**l, sp.cos(o), l)\n",
    "P_0 = P_0\n",
    "P_0"
   ]
  },
  {
   "cell_type": "markdown",
   "metadata": {},
   "source": [
    "Here we have $P_0(\\cos\\theta)$ now we can use equation 4.27 to get the associated Legendre function\n",
    "\n",
    "$$ P_l^m(\\cos\\theta) = (1 - \\cos\\theta^2)^{\\mid m \\mid/2} (\\frac{d}{d\\cos\\theta})^{\\mid m \\mid} P_l(\\cos\\theta) $$"
   ]
  },
  {
   "cell_type": "code",
   "execution_count": 3,
   "metadata": {
    "collapsed": false
   },
   "outputs": [
    {
     "data": {
      "image/png": "[encoded data removed]",
      "text/latex": [
       "$$1$$"
      ],
      "text/plain": [
       "1"
      ]
     },
     "execution_count": 3,
     "metadata": {},
     "output_type": "execute_result"
    }
   ],
   "source": [
    "# Getting P_0^0\n",
    "\n",
    "m = 0\n",
    "P_00 = (1 - sp.cos(o)**2)**(sp.Abs(m)/2)*sp.diff(P_0, sp.cos(o), sp.Abs(m))\n",
    "P_00 = P_00\n",
    "P_00\n"
   ]
  },
  {
   "cell_type": "markdown",
   "metadata": {},
   "source": [
    "Here is $P_0^0(\\cos\\theta)$ Now we use equation 4.32 to build $Y_0^0$\n",
    "\n",
    "$$ Y_l^m(\\theta, \\phi) = \\epsilon \\sqrt{ \\frac{2l+1}{4\\pi} \\frac{(l - \\mid m \\mid)!}{(l + \\mid m \\mid)!} } e^{im\\phi} P_l^m(\\cos\\theta) $$\n",
    "\n",
    "with $\\epsilon$ being $(-1)^m$ for $m\\geq0$ and $1$ for $m\\leq0$"
   ]
  },
  {
   "cell_type": "code",
   "execution_count": 4,
   "metadata": {
    "collapsed": false
   },
   "outputs": [
    {
     "data": {
      "image/png": "[encoded data removed]",
      "text/latex": [
       "$$\\frac{1}{2 \\sqrt{\\pi}}$$"
      ],
      "text/plain": [
       " 1  \n",
       "────\n",
       "2⋅√π"
      ]
     },
     "execution_count": 4,
     "metadata": {},
     "output_type": "execute_result"
    }
   ],
   "source": [
    "Y_00 = (-1)**m*sp.sqrt(((2*l+1)/(4*sp.pi))*(sp.factorial(l- sp.Abs(m)))/(sp.factorial(l + sp.Abs(m))))*sp.exp(sp.I*m*phi)*P_00\n",
    "Y_00 = Y_00\n",
    "Y_00"
   ]
  },
  {
   "cell_type": "markdown",
   "metadata": {},
   "source": [
    "Let's check the normalization"
   ]
  },
  {
   "cell_type": "code",
   "execution_count": 5,
   "metadata": {
    "collapsed": false
   },
   "outputs": [
    {
     "data": {
      "image/png": "[encoded data removed]",
      "text/latex": [
       "$$1$$"
      ],
      "text/plain": [
       "1"
      ]
     },
     "execution_count": 5,
     "metadata": {},
     "output_type": "execute_result"
    }
   ],
   "source": [
    "sp.integrate(sp.integrate(sp.conjugate(Y_00)*Y_00*sp.sin(o), (o, 0, sp.pi)), (phi, 0, 2*sp.pi))"
   ]
  },
  {
   "cell_type": "markdown",
   "metadata": {},
   "source": [
    "This is good, now let's build $Y_2^1$"
   ]
  },
  {
   "cell_type": "code",
   "execution_count": 6,
   "metadata": {
    "collapsed": false
   },
   "outputs": [
    {
     "data": {
      "image/png": "[encoded data removed]",
      "text/latex": [
       "$$\\frac{1}{2} \\left(3 \\cos^{2}{\\left (\\theta \\right )} - 1\\right)$$"
      ],
      "text/plain": [
       "     2       \n",
       "3⋅cos (θ) - 1\n",
       "─────────────\n",
       "      2      "
      ]
     },
     "execution_count": 6,
     "metadata": {},
     "output_type": "execute_result"
    }
   ],
   "source": [
    "l = 2\n",
    "P_2 = 1/(2**l*sp.factorial(l))*sp.diff((sp.cos(o)**2 - 1)**l, sp.cos(o), l)\n",
    "P_2 = P_2\n",
    "P_2"
   ]
  },
  {
   "cell_type": "code",
   "execution_count": 7,
   "metadata": {
    "collapsed": false
   },
   "outputs": [
    {
     "data": {
      "image/png": "[encoded data removed]",
      "text/latex": [
       "$$3 \\sqrt{- \\cos^{2}{\\left (\\theta \\right )} + 1} \\cos{\\left (\\theta \\right )}$$"
      ],
      "text/plain": [
       "     _______________       \n",
       "    ╱      2               \n",
       "3⋅╲╱  - cos (θ) + 1 ⋅cos(θ)"
      ]
     },
     "execution_count": 7,
     "metadata": {},
     "output_type": "execute_result"
    }
   ],
   "source": [
    "m = 1\n",
    "P_21 = (1 - sp.cos(o)**2)**(sp.Abs(m)/2)*sp.diff(P_2, sp.cos(o), sp.Abs(m))\n",
    "P_21 = P_21\n",
    "P_21"
   ]
  },
  {
   "cell_type": "code",
   "execution_count": 8,
   "metadata": {
    "collapsed": false
   },
   "outputs": [
    {
     "data": {
      "image/png": "[encoded data removed]",
      "text/latex": [
       "$$- \\frac{\\sqrt{30} e^{i \\phi}}{4 \\sqrt{\\pi}} \\cos{\\left (\\theta \\right )} \\left|{\\sin{\\left (\\theta \\right )}}\\right|$$"
      ],
      "text/plain": [
       "      ⅈ⋅φ                 \n",
       "-√30⋅ℯ   ⋅cos(θ)⋅│sin(θ)│ \n",
       "──────────────────────────\n",
       "           4⋅√π           "
      ]
     },
     "execution_count": 8,
     "metadata": {},
     "output_type": "execute_result"
    }
   ],
   "source": [
    "#building Y_2^1\n",
    "\n",
    "Y_21 = (-1)**m*sp.sqrt(((2*l+1)/(4*sp.pi))*(sp.factorial(l- sp.Abs(m)))/(sp.factorial(l + sp.Abs(m))))*sp.exp(sp.I*m*phi)*P_21\n",
    "Y_21 = Y_21\n",
    "sp.simplify(Y_21)"
   ]
  },
  {
   "cell_type": "code",
   "execution_count": 9,
   "metadata": {
    "collapsed": false
   },
   "outputs": [
    {
     "data": {
      "image/png": "[encoded data removed]",
      "text/latex": [
       "$$1$$"
      ],
      "text/plain": [
       "1"
      ]
     },
     "execution_count": 9,
     "metadata": {},
     "output_type": "execute_result"
    }
   ],
   "source": [
    "#checking normalization\n",
    "\n",
    "sp.integrate(sp.integrate(sp.conjugate(Y_21.simplify())*Y_21.simplify()*sp.sin(o), (o, 0, sp.pi)), (phi, 0, 2*sp.pi))"
   ]
  },
  {
   "cell_type": "code",
   "execution_count": 10,
   "metadata": {
    "collapsed": false
   },
   "outputs": [
    {
     "data": {
      "image/png": "[encoded data removed]",
      "text/latex": [
       "$$0$$"
      ],
      "text/plain": [
       "0"
      ]
     },
     "execution_count": 10,
     "metadata": {},
     "output_type": "execute_result"
    }
   ],
   "source": [
    "#checking orthogonality\n",
    "\n",
    "sp.integrate(sp.integrate(sp.conjugate(Y_21.simplify())*Y_00*sp.sin(o), (o, 0, sp.pi)), (phi, 0, 2*sp.pi))"
   ]
  },
  {
   "cell_type": "code",
   "execution_count": null,
   "metadata": {
    "collapsed": true
   },
   "outputs": [],
   "source": []
  },
  {
   "cell_type": "code",
   "execution_count": null,
   "metadata": {
    "collapsed": true
   },
   "outputs": [],
   "source": []
  },
  {
   "cell_type": "markdown",
   "metadata": {
    "collapsed": true
   },
   "source": [
    "----\n",
    "\n",
    "## Portfolio references\n",
    "* \n",
    "## Index terms\n",
    "* Spherical Harmonics\n",
    "* Legendre Polynomial\n",
    "* Associated Legendre Function\n",
    "## Book references\n",
    "*\n",
    "## External references"
   ]
  },
  {
   "cell_type": "code",
   "execution_count": null,
   "metadata": {
    "collapsed": true
   },
   "outputs": [],
   "source": []
  },
  {
   "cell_type": "code",
   "execution_count": null,
   "metadata": {
    "collapsed": true
   },
   "outputs": [],
   "source": []
  },
  {
   "cell_type": "code",
   "execution_count": null,
   "metadata": {
    "collapsed": true
   },
   "outputs": [],
   "source": []
  }
 ],
 "metadata": {
  "anaconda-cloud": {},
  "kernelspec": {
   "display_name": "Python [Root]",
   "language": "python",
   "name": "Python [Root]"
  },
  "language_info": {
   "codemirror_mode": {
    "name": "ipython",
    "version": 3
   },
   "file_extension": ".py",
   "mimetype": "text/x-python",
   "name": "python",
   "nbconvert_exporter": "python",
   "pygments_lexer": "ipython3",
   "version": "3.5.2"
  }
 },
 "nbformat": 4,
 "nbformat_minor": 0
}

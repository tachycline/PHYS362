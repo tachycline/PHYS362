{
 "cells": [
  {
   "cell_type": "markdown",
   "metadata": {},
   "source": [
    "# Problem 1.17\n",
    "\n",
    "## Problem Statement\n",
    "A particle is represented (at time t=0) by the wave function\n",
    "\n",
    "$$\\Psi(x,0) = \\left\\{ \\begin{array}{ll} A(a^2-x^2), &\\text{if} -a \\le x \\le +a,\\\\\n",
    "0, &\\text{otherwise} \\end{array} \\right. $$\n",
    "\n",
    "a) Determine the normalization constant $A$.  \n",
    "b) What is the expectation value of $x$ (at $t=0$)?  \n",
    "c) What is the expectation value of $p$ (at $t=0$)?  \n",
    "d) Find the expectation value of $x^2$.  \n",
    "e) Find the expectation value of $p^2$.  \n",
    "f) Find the uncertainty in $x$.  \n",
    "g) Find the uncertainty in $p$.  \n",
    "h) Check that your results are consistent with the uncertainty principle\n",
    "\n",
    "----\n",
    "\n",
    "## Solution\n",
    "\n",
    "### a) Determine the normalization constant $A$\n"
   ]
  },
  {
   "cell_type": "code",
   "execution_count": 2,
   "metadata": {
    "collapsed": false
   },
   "outputs": [
    {
     "data": {
      "image/png": "[encoded data removed]",
      "text/latex": [
       "$$- \\frac{\\sqrt{15}}{4 a^{\\frac{5}{2}}}$$"
      ],
      "text/plain": [
       "-√15  \n",
       "──────\n",
       "   5/2\n",
       "4⋅a   "
      ]
     },
     "execution_count": 2,
     "metadata": {},
     "output_type": "execute_result"
    }
   ],
   "source": [
    "import sympy as sp\n",
    "sp.init_printing()\n",
    "\n",
    "A, a = sp.symbols(\"A a\", real=True, positive=True)\n",
    "x = sp.symbols(\"x\", real=True)\n",
    "\n",
    "Psi = A*(a**2-x**2)\n",
    "\n",
    "Avalue = next(iter(sp.solveset(sp.Eq(1, sp.integrate(sp.conjugate(Psi)*Psi, (x, -a, a))), A)))\n",
    "Avalue"
   ]
  },
  {
   "cell_type": "markdown",
   "metadata": {},
   "source": [
    "### b) What is the expectation value of $x$ (at $t=0$)? "
   ]
  },
  {
   "cell_type": "code",
   "execution_count": 7,
   "metadata": {
    "collapsed": false
   },
   "outputs": [
    {
     "data": {
      "image/png": "[encoded data removed]",
      "text/latex": [
       "$$0$$"
      ],
      "text/plain": [
       "0"
      ]
     },
     "execution_count": 7,
     "metadata": {},
     "output_type": "execute_result"
    }
   ],
   "source": [
    "from sympy.physics.quantum.constants import hbar\n",
    "\n",
    "\n",
    "Psi = Psi.subs(A, Avalue)\n",
    "\n",
    "expectx = sp.integrate(Psi**2 * x, (x,-a,a))\n",
    "expectpsq = -hbar**2 * sp.integrate(Psi * sp.diff(Psi, x, 2), (x,-a,a))\n",
    "\n",
    "expectx"
   ]
  },
  {
   "cell_type": "markdown",
   "metadata": {},
   "source": [
    "\n",
    "### c) What is the expectation value of $p$ (at $t=0$)?  "
   ]
  },
  {
   "cell_type": "code",
   "execution_count": 12,
   "metadata": {
    "collapsed": false
   },
   "outputs": [
    {
     "data": {
      "image/png": "[encoded data removed]",
      "text/latex": [
       "$$0$$"
      ],
      "text/plain": [
       "0"
      ]
     },
     "execution_count": 12,
     "metadata": {},
     "output_type": "execute_result"
    }
   ],
   "source": [
    "expectp = hbar/sp.I * sp.integrate(Psi * sp.diff(Psi, x), (x,-a,a))\n",
    "expectp\n"
   ]
  },
  {
   "cell_type": "markdown",
   "metadata": {},
   "source": [
    "### d) Find the expectation value of $x^2$."
   ]
  },
  {
   "cell_type": "code",
   "execution_count": 8,
   "metadata": {
    "collapsed": false
   },
   "outputs": [
    {
     "data": {
      "image/png": "[encoded data removed]",
      "text/latex": [
       "$$\\frac{a^{2}}{7}$$"
      ],
      "text/plain": [
       " 2\n",
       "a \n",
       "──\n",
       "7 "
      ]
     },
     "execution_count": 8,
     "metadata": {},
     "output_type": "execute_result"
    }
   ],
   "source": [
    "expectxsq = sp.integrate(Psi**2 * x**2, (x,-a,a))\n",
    "expectxsq"
   ]
  },
  {
   "cell_type": "markdown",
   "metadata": {},
   "source": [
    "### e) Find the expectation value of $p^2$. "
   ]
  },
  {
   "cell_type": "code",
   "execution_count": 10,
   "metadata": {
    "collapsed": false
   },
   "outputs": [
    {
     "data": {
      "image/png": "[encoded data removed]",
      "text/latex": [
       "$$\\frac{5 \\hbar^{2}}{2 a^{2}}$$"
      ],
      "text/plain": [
       "   2\n",
       "5⋅ℏ \n",
       "────\n",
       "   2\n",
       "2⋅a "
      ]
     },
     "execution_count": 10,
     "metadata": {},
     "output_type": "execute_result"
    }
   ],
   "source": [
    "expectpsq"
   ]
  },
  {
   "cell_type": "markdown",
   "metadata": {},
   "source": [
    "### f) Find the uncertainty in $x$. "
   ]
  },
  {
   "cell_type": "code",
   "execution_count": 13,
   "metadata": {
    "collapsed": false
   },
   "outputs": [
    {
     "data": {
      "image/png": "[encoded data removed]",
      "text/latex": [
       "$$\\frac{\\sqrt{7} a}{7}$$"
      ],
      "text/plain": [
       "√7⋅a\n",
       "────\n",
       " 7  "
      ]
     },
     "execution_count": 13,
     "metadata": {},
     "output_type": "execute_result"
    }
   ],
   "source": [
    "sigmax = sp.sqrt(expectxsq-expectx**2)\n",
    "sigmax"
   ]
  },
  {
   "cell_type": "markdown",
   "metadata": {},
   "source": [
    "### g) Find the uncertainty in $p$."
   ]
  },
  {
   "cell_type": "code",
   "execution_count": 14,
   "metadata": {
    "collapsed": false
   },
   "outputs": [
    {
     "data": {
      "image/png": "[encoded data removed]",
      "text/latex": [
       "$$\\frac{\\sqrt{10} \\hbar}{2 a}$$"
      ],
      "text/plain": [
       "√10⋅ℏ\n",
       "─────\n",
       " 2⋅a "
      ]
     },
     "execution_count": 14,
     "metadata": {},
     "output_type": "execute_result"
    }
   ],
   "source": [
    "sigmap = sp.sqrt(expectpsq-expectp**2)\n",
    "sigmap"
   ]
  },
  {
   "cell_type": "markdown",
   "metadata": {},
   "source": [
    "### h) Check that your results are consistent with the uncertainty principle"
   ]
  },
  {
   "cell_type": "code",
   "execution_count": 15,
   "metadata": {
    "collapsed": false
   },
   "outputs": [
    {
     "data": {
      "image/png": "[encoded data removed]",
      "text/latex": [
       "$$\\frac{\\sqrt{70} \\hbar}{14}$$"
      ],
      "text/plain": [
       "√70⋅ℏ\n",
       "─────\n",
       "  14 "
      ]
     },
     "execution_count": 15,
     "metadata": {},
     "output_type": "execute_result"
    }
   ],
   "source": [
    "sigmax*sigmap"
   ]
  },
  {
   "cell_type": "code",
   "execution_count": null,
   "metadata": {
    "collapsed": true
   },
   "outputs": [],
   "source": []
  }
 ],
 "metadata": {
  "anaconda-cloud": {},
  "kernelspec": {
   "display_name": "Python [conda env:PHYS362]",
   "language": "python",
   "name": "conda-env-PHYS362-py"
  },
  "language_info": {
   "codemirror_mode": {
    "name": "ipython",
    "version": 3
   },
   "file_extension": ".py",
   "mimetype": "text/x-python",
   "name": "python",
   "nbconvert_exporter": "python",
   "pygments_lexer": "ipython3",
   "version": "3.5.2"
  }
 },
 "nbformat": 4,
 "nbformat_minor": 1
}

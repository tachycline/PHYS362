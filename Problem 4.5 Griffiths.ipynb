{
 "cells": [
  {
   "cell_type": "markdown",
   "metadata": {},
   "source": [
    "# Problem (4.5)\n",
    "\n",
    "## Problem statement\n",
    "\n",
    "Use euqtaion 4.32 to show to construct $Y_l^l(\\theta, \\phi)$ and $Y_3^2(\\theta, \\phi)$. Check that they satisfy the angular equation (4.18) for the appropriate values of $l$ and $m$\n",
    "\n",
    "----\n",
    "\n",
    "## Solution"
   ]
  },
  {
   "cell_type": "markdown",
   "metadata": {},
   "source": [
    "Let's start by looking at the angular equation\n",
    "\n",
    "$$\\sin\\theta\\frac{\\partial}{\\partial\\theta}(\\sin\\theta\\frac{\\partial Y}{\\partial\\theta}) + \\frac{\\partial^2Y}{\\partial\\phi^2} = -l(l+1)\\sin^2\\theta Y $$\n",
    "\n",
    "Now let's build $Y_3^2$"
   ]
  },
  {
   "cell_type": "code",
   "execution_count": 9,
   "metadata": {
    "collapsed": false
   },
   "outputs": [],
   "source": [
    "import sympy as sp\n",
    "sp.init_printing()\n",
    "\n",
    "theta, phi = sp.symbols('theta phi', real=True)\n",
    "\n",
    "def Y(l, m):\n",
    "    \n",
    "    theta, phi = sp.symbols('theta phi', real=True)\n",
    "    x = sp.cos(theta)\n",
    "    Pl = (1/((2**l)*sp.factorial(l)))*sp.diff((x**2-1)**l, x, l)\n",
    "    Plm = (1-x**2)**(sp.Abs(m)/2)*sp.diff(Pl, x, sp.Abs(m))\n",
    "    Ylm = (-1)**m*sp.sqrt(((2*l+1)/(4*sp.pi))*(sp.factorial(l- sp.Abs(m)))/(sp.factorial(l + sp.Abs(m))))*sp.exp(sp.I*m*phi)*Plm\n",
    "    return Ylm\n",
    "\n"
   ]
  },
  {
   "cell_type": "code",
   "execution_count": 19,
   "metadata": {
    "collapsed": false
   },
   "outputs": [
    {
     "data": {
      "image/png": "[encoded data removed]",
      "text/latex": [
       "$$\\frac{\\sqrt{210} e^{2 i \\phi}}{8 \\sqrt{\\pi}} \\sin^{2}{\\left (\\theta \\right )} \\cos{\\left (\\theta \\right )}$$"
      ],
      "text/plain": [
       "      2⋅ⅈ⋅φ    2          \n",
       "√210⋅ℯ     ⋅sin (θ)⋅cos(θ)\n",
       "──────────────────────────\n",
       "           8⋅√π           "
      ]
     },
     "execution_count": 19,
     "metadata": {},
     "output_type": "execute_result"
    }
   ],
   "source": [
    "Y_32 = sp.simplify(Y(3,2))\n",
    "Y_32"
   ]
  },
  {
   "cell_type": "code",
   "execution_count": 23,
   "metadata": {
    "collapsed": false
   },
   "outputs": [],
   "source": [
    "#check that Y_3^2 this works now\n",
    "\n",
    "LHS = sp.sin(theta)*sp.diff(sp.sin(theta)*sp.diff(Y_32, theta), theta) + sp.diff(Y_32, phi, 2)\n",
    "\n",
    "l = 3\n",
    "m = 2\n",
    "\n",
    "RHS = -l*(l+1)*sp.sin(theta)**2*Y_32"
   ]
  },
  {
   "cell_type": "code",
   "execution_count": 28,
   "metadata": {
    "collapsed": false
   },
   "outputs": [
    {
     "data": {
      "image/png": "[encoded data removed]",
      "text/latex": [
       "$$- \\frac{3 \\sqrt{210}}{2 \\sqrt{\\pi}} e^{2 i \\phi} \\sin^{4}{\\left (\\theta \\right )} \\cos{\\left (\\theta \\right )}$$"
      ],
      "text/plain": [
       "         2⋅ⅈ⋅φ    4           \n",
       "-3⋅√210⋅ℯ     ⋅sin (θ)⋅cos(θ) \n",
       "──────────────────────────────\n",
       "             2⋅√π             "
      ]
     },
     "execution_count": 28,
     "metadata": {},
     "output_type": "execute_result"
    }
   ],
   "source": [
    "sp.simplify(LHS)"
   ]
  },
  {
   "cell_type": "code",
   "execution_count": 25,
   "metadata": {
    "collapsed": false
   },
   "outputs": [
    {
     "data": {
      "image/png": "[encoded data removed]",
      "text/latex": [
       "$$- \\frac{3 \\sqrt{210}}{2 \\sqrt{\\pi}} e^{2 i \\phi} \\sin^{4}{\\left (\\theta \\right )} \\cos{\\left (\\theta \\right )}$$"
      ],
      "text/plain": [
       "         2⋅ⅈ⋅φ    4           \n",
       "-3⋅√210⋅ℯ     ⋅sin (θ)⋅cos(θ) \n",
       "──────────────────────────────\n",
       "             2⋅√π             "
      ]
     },
     "execution_count": 25,
     "metadata": {},
     "output_type": "execute_result"
    }
   ],
   "source": [
    "RHS"
   ]
  },
  {
   "cell_type": "markdown",
   "metadata": {},
   "source": [
    "Looks Good"
   ]
  },
  {
   "cell_type": "code",
   "execution_count": 29,
   "metadata": {
    "collapsed": true
   },
   "outputs": [],
   "source": [
    "def Y2(l,m):\n",
    "    \n",
    "    l, m = sp.symbols('l l', real=True, integer=True)\n",
    "    theta, phi = sp.symbols('theta phi', real=True)\n",
    "    x = sp.cos(theta)\n",
    "    Pl = (1/((2**l)*sp.factorial(l)))*sp.diff((x**2-1)**l, x, l)\n",
    "    Plm = (1-x**2)**(sp.Abs(m)/2)*sp.diff(Pl, x, sp.Abs(m))\n",
    "    Ylm = (-1)**m*sp.sqrt(((2*l+1)/(4*sp.pi))*(sp.factorial(l- sp.Abs(m)))/(sp.factorial(l + sp.Abs(m))))*sp.exp(sp.I*m*phi)*Plm\n",
    "    return Ylm\n",
    "    "
   ]
  },
  {
   "cell_type": "code",
   "execution_count": 33,
   "metadata": {
    "collapsed": false
   },
   "outputs": [
    {
     "data": {
      "image/png": "[encoded data removed]",
      "text/latex": [
       "$$0$$"
      ],
      "text/plain": [
       "0"
      ]
     },
     "execution_count": 33,
     "metadata": {},
     "output_type": "execute_result"
    }
   ],
   "source": [
    "Y2(l, l)"
   ]
  },
  {
   "cell_type": "markdown",
   "metadata": {
    "collapsed": true
   },
   "source": [
    "----\n",
    "\n",
    "## Portfolio references\n",
    "* \n",
    "## Index terms\n",
    "* Spherical Harmonics\n",
    "* Legendre Polynomial\n",
    "* Associated Legendre Function\n",
    "## Book references\n",
    "*\n",
    "## External references"
   ]
  },
  {
   "cell_type": "code",
   "execution_count": null,
   "metadata": {
    "collapsed": true
   },
   "outputs": [],
   "source": []
  },
  {
   "cell_type": "code",
   "execution_count": null,
   "metadata": {
    "collapsed": true
   },
   "outputs": [],
   "source": []
  },
  {
   "cell_type": "code",
   "execution_count": null,
   "metadata": {
    "collapsed": true
   },
   "outputs": [],
   "source": []
  }
 ],
 "metadata": {
  "anaconda-cloud": {},
  "kernelspec": {
   "display_name": "Python [Root]",
   "language": "python",
   "name": "Python [Root]"
  },
  "language_info": {
   "codemirror_mode": {
    "name": "ipython",
    "version": 3
   },
   "file_extension": ".py",
   "mimetype": "text/x-python",
   "name": "python",
   "nbconvert_exporter": "python",
   "pygments_lexer": "ipython3",
   "version": "3.5.2"
  }
 },
 "nbformat": 4,
 "nbformat_minor": 0
}

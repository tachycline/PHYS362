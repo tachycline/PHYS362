{
 "cells": [
  {
   "cell_type": "markdown",
   "metadata": {},
   "source": [
    "# Problem (4.11)\n",
    "\n",
    "## Problem statement\n",
    "\n",
    "1. Normalize $R_{20}$ and construct $\\psi_{200}$\n",
    "\n",
    "2. Normalize $R_{21}$ and construct $\\psi_{210}$, $\\psi_{211}$ and $\\psi_{21-1}$\n",
    "----\n",
    "\n",
    "## Solution"
   ]
  },
  {
   "cell_type": "markdown",
   "metadata": {},
   "source": [
    "The wavefunction is defined as\n",
    "\n",
    "$$ \\psi_{nlm} = R_{nl}(r)Y_l^m(\\theta, \\phi)$$\n",
    "\n",
    "Normalization Requires\n",
    "\n",
    "$$ 1 = \\int_{0}^{\\infty} {\\mid R \\mid}^2 r^2 dr $$"
   ]
  },
  {
   "cell_type": "markdown",
   "metadata": {},
   "source": [
    "starting with $R_{20}$"
   ]
  },
  {
   "cell_type": "code",
   "execution_count": 1,
   "metadata": {
    "collapsed": false
   },
   "outputs": [
    {
     "data": {
      "image/png": "[encoded data removed]",
      "text/latex": [
       "$$\\left\\{- \\frac{\\sqrt{2}}{\\sqrt{a}}, \\frac{\\sqrt{2}}{\\sqrt{a}}\\right\\}$$"
      ],
      "text/plain": [
       "⎧-√2   √2⎫\n",
       "⎨────, ──⎬\n",
       "⎩ √a   √a⎭"
      ]
     },
     "execution_count": 1,
     "metadata": {},
     "output_type": "execute_result"
    }
   ],
   "source": [
    "import sympy as sp\n",
    "sp.init_printing()\n",
    "\n",
    "theta, phi, r= sp.symbols('theta phi r', real=True)\n",
    "a = sp.symbols('a', real = True, positive=True)\n",
    "c0 = sp.symbols('c_o', real = True)\n",
    "\n",
    "R20 = (c0/(2*a))*(1 - (r/(2*a)))*sp.exp(-r/(2*a))\n",
    "\n",
    "normalization_condition = sp.Eq(1, sp.integrate(sp.conjugate(R20)*R20*r**2, (r, 0, sp.oo)))\n",
    "sp.solveset(normalization_condition, c0)"
   ]
  },
  {
   "cell_type": "code",
   "execution_count": 2,
   "metadata": {
    "collapsed": false
   },
   "outputs": [
    {
     "data": {
      "image/png": "[encoded data removed]",
      "text/latex": [
       "$$\\frac{\\sqrt{2} e^{- \\frac{r}{2 a}}}{2 a^{\\frac{3}{2}}} \\left(1 - \\frac{r}{2 a}\\right)$$"
      ],
      "text/plain": [
       "              -r \n",
       "              ───\n",
       "   ⎛     r ⎞  2⋅a\n",
       "√2⋅⎜1 - ───⎟⋅ℯ   \n",
       "   ⎝    2⋅a⎠     \n",
       "─────────────────\n",
       "         3/2     \n",
       "      2⋅a        "
      ]
     },
     "execution_count": 2,
     "metadata": {},
     "output_type": "execute_result"
    }
   ],
   "source": [
    "R20 = R20.subs(c0, next(iter(sp.solveset(normalization_condition, c0))))\n",
    "R20"
   ]
  },
  {
   "cell_type": "code",
   "execution_count": 3,
   "metadata": {
    "collapsed": false
   },
   "outputs": [
    {
     "data": {
      "image/png": "[encoded data removed]",
      "text/latex": [
       "$$\\frac{\\sqrt{2} e^{- \\frac{r}{2 a}}}{4 \\sqrt{\\pi} a^{\\frac{3}{2}}} \\left(1 - \\frac{r}{2 a}\\right)$$"
      ],
      "text/plain": [
       "              -r \n",
       "              ───\n",
       "   ⎛     r ⎞  2⋅a\n",
       "√2⋅⎜1 - ───⎟⋅ℯ   \n",
       "   ⎝    2⋅a⎠     \n",
       "─────────────────\n",
       "          3/2    \n",
       "    4⋅√π⋅a       "
      ]
     },
     "execution_count": 3,
     "metadata": {},
     "output_type": "execute_result"
    }
   ],
   "source": [
    "Y00 = sp.sqrt(1/(4*sp.pi))\n",
    "psi200 = R20*Y00\n",
    "psi200"
   ]
  },
  {
   "cell_type": "markdown",
   "metadata": {},
   "source": [
    "Now $R_{21}$"
   ]
  },
  {
   "cell_type": "code",
   "execution_count": 4,
   "metadata": {
    "collapsed": false
   },
   "outputs": [
    {
     "data": {
      "image/png": "[encoded data removed]",
      "text/latex": [
       "$$- \\frac{\\sqrt{6} r}{12 a^{\\frac{5}{2}}} e^{- \\frac{r}{2 a}}$$"
      ],
      "text/plain": [
       "       -r  \n",
       "       ─── \n",
       "       2⋅a \n",
       "-√6⋅r⋅ℯ    \n",
       "───────────\n",
       "      5/2  \n",
       "  12⋅a     "
      ]
     },
     "execution_count": 4,
     "metadata": {},
     "output_type": "execute_result"
    }
   ],
   "source": [
    "R21 = (c0/(4*a**2))*r*sp.exp(-r/(2*a))\n",
    "normalization_condition = sp.Eq(1, sp.integrate(sp.conjugate(R21)*R21*r**2, (r, 0, sp.oo)))\n",
    "R21 = R21.subs(c0, next(iter(sp.solveset(normalization_condition, c0))))\n",
    "R21"
   ]
  },
  {
   "cell_type": "code",
   "execution_count": 5,
   "metadata": {
    "collapsed": true
   },
   "outputs": [],
   "source": [
    "def Y(l, m):\n",
    "    \n",
    "    theta, phi = sp.symbols('theta phi', real=True)\n",
    "    x = sp.cos(theta)\n",
    "    Pl = (1/((2**l)*sp.factorial(l)))*sp.diff((x**2-1)**l, x, l)\n",
    "    Plm = (1-x**2)**(sp.Abs(m)/2)*sp.diff(Pl, x, sp.Abs(m))\n",
    "    if m >= 0:\n",
    "        Ylm = (-1)**m*sp.sqrt(((2*l+1)/(4*sp.pi))*(sp.factorial(l- sp.Abs(m)))/(sp.factorial(l + sp.Abs(m))))*sp.exp(sp.I*m*phi)*Plm\n",
    "    else:\n",
    "        Ylm = sp.sqrt(((2*l+1)/(4*sp.pi))*(sp.factorial(l- sp.Abs(m)))/(sp.factorial(l + sp.Abs(m))))*sp.exp(sp.I*m*phi)*Plm\n",
    "    return Ylm"
   ]
  },
  {
   "cell_type": "code",
   "execution_count": 6,
   "metadata": {
    "collapsed": false
   },
   "outputs": [],
   "source": [
    "Y10 = Y(1, 0)"
   ]
  },
  {
   "cell_type": "code",
   "execution_count": 7,
   "metadata": {
    "collapsed": false
   },
   "outputs": [
    {
     "data": {
      "image/png": "[encoded data removed]",
      "text/latex": [
       "$$- \\frac{\\sqrt{2} r \\cos{\\left (\\theta \\right )}}{8 \\sqrt{\\pi} a^{\\frac{5}{2}}} e^{- \\frac{r}{2 a}}$$"
      ],
      "text/plain": [
       "       -r         \n",
       "       ───        \n",
       "       2⋅a        \n",
       "-√2⋅r⋅ℯ   ⋅cos(θ) \n",
       "──────────────────\n",
       "          5/2     \n",
       "    8⋅√π⋅a        "
      ]
     },
     "execution_count": 7,
     "metadata": {},
     "output_type": "execute_result"
    }
   ],
   "source": [
    "psi210 = R21*Y10\n",
    "psi210"
   ]
  },
  {
   "cell_type": "code",
   "execution_count": 8,
   "metadata": {
    "collapsed": false
   },
   "outputs": [
    {
     "data": {
      "image/png": "[encoded data removed]",
      "text/latex": [
       "$$\\frac{r e^{i \\phi} e^{- \\frac{r}{2 a}}}{8 \\sqrt{\\pi} a^{\\frac{5}{2}}} \\sqrt{- \\cos^{2}{\\left (\\theta \\right )} + 1}$$"
      ],
      "text/plain": [
       "                           -r \n",
       "     _______________       ───\n",
       "    ╱      2          ⅈ⋅φ  2⋅a\n",
       "r⋅╲╱  - cos (θ) + 1 ⋅ℯ   ⋅ℯ   \n",
       "──────────────────────────────\n",
       "                5/2           \n",
       "          8⋅√π⋅a              "
      ]
     },
     "execution_count": 8,
     "metadata": {},
     "output_type": "execute_result"
    }
   ],
   "source": [
    "Y11 = Y(1,1)\n",
    "psi211 = R21*Y11\n",
    "psi211"
   ]
  },
  {
   "cell_type": "code",
   "execution_count": 9,
   "metadata": {
    "collapsed": false
   },
   "outputs": [
    {
     "data": {
      "image/png": "[encoded data removed]",
      "text/latex": [
       "$$\\frac{r e^{i \\phi} e^{- \\frac{r}{2 a}}}{8 \\sqrt{\\pi} a^{\\frac{5}{2}}} \\sqrt{- \\cos^{2}{\\left (\\theta \\right )} + 1}$$"
      ],
      "text/plain": [
       "                           -r \n",
       "     _______________       ───\n",
       "    ╱      2          ⅈ⋅φ  2⋅a\n",
       "r⋅╲╱  - cos (θ) + 1 ⋅ℯ   ⋅ℯ   \n",
       "──────────────────────────────\n",
       "                5/2           \n",
       "          8⋅√π⋅a              "
      ]
     },
     "execution_count": 9,
     "metadata": {},
     "output_type": "execute_result"
    }
   ],
   "source": [
    "Y1neg1 = Y(1,-1)\n",
    "psi21neg1 = R21*Y11\n",
    "psi21neg1"
   ]
  },
  {
   "cell_type": "markdown",
   "metadata": {
    "collapsed": true
   },
   "source": [
    "----\n",
    "\n",
    "## Portfolio references\n",
    "* \n",
    "## Index terms\n",
    "* Hydrogen Atom\n",
    "* Radial Wave Functions\n",
    "* normalization in spherical coordinates\n",
    "## Book references\n",
    "*\n",
    "## External references"
   ]
  },
  {
   "cell_type": "code",
   "execution_count": null,
   "metadata": {
    "collapsed": true
   },
   "outputs": [],
   "source": []
  },
  {
   "cell_type": "code",
   "execution_count": null,
   "metadata": {
    "collapsed": true
   },
   "outputs": [],
   "source": []
  },
  {
   "cell_type": "code",
   "execution_count": null,
   "metadata": {
    "collapsed": true
   },
   "outputs": [],
   "source": []
  }
 ],
 "metadata": {
  "anaconda-cloud": {},
  "kernelspec": {
   "display_name": "Python [Root]",
   "language": "python",
   "name": "Python [Root]"
  },
  "language_info": {
   "codemirror_mode": {
    "name": "ipython",
    "version": 3
   },
   "file_extension": ".py",
   "mimetype": "text/x-python",
   "name": "python",
   "nbconvert_exporter": "python",
   "pygments_lexer": "ipython3",
   "version": "3.5.2"
  }
 },
 "nbformat": 4,
 "nbformat_minor": 0
}

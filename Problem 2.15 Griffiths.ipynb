{
 "cells": [
  {
   "cell_type": "markdown",
   "metadata": {},
   "source": [
    "# Problem (2.15)\n",
    "\n",
    "## Problem statement\n",
    "\n",
    "In the ground state of the harmonic oscillator, what is the probability (correct to 3 significant digits) of finding the particle outside the classically allowed region? Hint: Classically, the energy of an oscillator is $E = (1/2)ka^2 = (1/2)m \\omega^2 a^2$ where a is the amplitude. So the classically allowed region of an oscillator of energy $E$ extends from $-\\sqrt{2E/m \\omega^2}$ to $+\\sqrt{2Em \\omega^2}$\n",
    "\n",
    "----\n",
    "\n",
    "## Solution"
   ]
  },
  {
   "cell_type": "markdown",
   "metadata": {},
   "source": [
    "The problem tells us the we are in the ground state, thus:\n",
    "\n",
    "$$ \\Psi(x,t) = \\psi_0 e^{-i E_o t/ \\hbar} $$\n",
    "\n",
    "The probability density then becomes:\n",
    "\n",
    "$$ \\lvert \\Psi(x,t)^2 \\rvert = \\psi_0^2 $$\n",
    "\n",
    "where\n",
    "\n",
    "$$ \\psi_0 = \\Big(\\frac{m\\omega}{\\pi\\hbar} \\Big )^{1/4} e^{\\frac{-m \\omega x^2}{2\\hbar}} $$\n",
    "\n",
    "The probability of finidng the particle outside of the classically allowed region is:\n",
    "\n",
    "$$ P = 2 \\int_{\\sqrt{2E/m \\omega^2}}^{\\infty} \\psi_0^2 dx $$"
   ]
  },
  {
   "cell_type": "code",
   "execution_count": 14,
   "metadata": {
    "collapsed": false
   },
   "outputs": [
    {
     "data": {
      "image/png": "[encoded data removed]",
      "text/latex": [
       "$$\\frac{m^{0.25} \\omega^{0.25}}{\\hbar^{0.25} \\pi^{0.25}} e^{- \\frac{m \\omega x^{2}}{2 \\hbar}}$$"
      ],
      "text/plain": [
       "                                 2 \n",
       "                           -m⋅ω⋅x  \n",
       "                           ────────\n",
       " -0.25  -0.25  0.25  0.25    2⋅ℏ   \n",
       "ℏ     ⋅π     ⋅m    ⋅ω    ⋅ℯ        "
      ]
     },
     "execution_count": 14,
     "metadata": {},
     "output_type": "execute_result"
    }
   ],
   "source": [
    "import sympy as sp\n",
    "from sympy.physics.quantum.constants import hbar\n",
    "sp.init_printing()\n",
    "\n",
    "m, w, E = sp.symbols('m omega E', real=True, positive=True)\n",
    "x = sp.symbols('x', real=True)\n",
    "\n",
    "#setup psi_0\n",
    "psi_0 = ((m*w)/(sp.pi*hbar))**(1/4)*sp.exp(-m*w*x**2/(2*hbar))\n",
    "psi_0"
   ]
  },
  {
   "cell_type": "code",
   "execution_count": 42,
   "metadata": {
    "collapsed": false
   },
   "outputs": [
    {
     "data": {
      "image/png": "[encoded data removed]",
      "text/latex": [
       "$$- \\operatorname{erf}{\\left (1 \\right )} + 1$$"
      ],
      "text/plain": [
       "-erf(1) + 1"
      ]
     },
     "execution_count": 42,
     "metadata": {},
     "output_type": "execute_result"
    }
   ],
   "source": [
    "#setup psi_o^2\n",
    "psi_0sq = sp.conjugate(psi_0)*psi_0\n",
    "sp.simplify(2*sp.integrate(psi_0sq, (x, sp.sqrt(2*E/(m*w**2)), sp.oo)))\n"
   ]
  },
  {
   "cell_type": "code",
   "execution_count": 40,
   "metadata": {
    "collapsed": false
   },
   "outputs": [
    {
     "data": {
      "text/plain": [
       "0.842700792949715"
      ]
     },
     "execution_count": 40,
     "metadata": {},
     "output_type": "execute_result"
    }
   ],
   "source": [
    "from mpmath import *\n",
    "erf(1)"
   ]
  },
  {
   "cell_type": "code",
   "execution_count": 43,
   "metadata": {
    "collapsed": false
   },
   "outputs": [
    {
     "data": {
      "text/plain": [
       "0.157299207050285"
      ]
     },
     "execution_count": 43,
     "metadata": {},
     "output_type": "execute_result"
    }
   ],
   "source": [
    "#The final probability\n",
    "\n",
    "-erf(1)+1"
   ]
  },
  {
   "cell_type": "markdown",
   "metadata": {},
   "source": [
    "The probability of finding the particle outside the classically allowed region is approximately $P = 0.157$"
   ]
  },
  {
   "cell_type": "markdown",
   "metadata": {
    "collapsed": true
   },
   "source": [
    "----\n",
    "\n",
    "## Portfolio references\n",
    "* Problem 1.3\n",
    "## Index terms\n",
    "* Classically allowed region harmonic oscillator\n",
    "## Book references\n",
    "*\n",
    "## External references"
   ]
  },
  {
   "cell_type": "code",
   "execution_count": null,
   "metadata": {
    "collapsed": true
   },
   "outputs": [],
   "source": []
  },
  {
   "cell_type": "code",
   "execution_count": null,
   "metadata": {
    "collapsed": true
   },
   "outputs": [],
   "source": []
  },
  {
   "cell_type": "code",
   "execution_count": null,
   "metadata": {
    "collapsed": true
   },
   "outputs": [],
   "source": []
  }
 ],
 "metadata": {
  "anaconda-cloud": {},
  "kernelspec": {
   "display_name": "Python [Root]",
   "language": "python",
   "name": "Python [Root]"
  },
  "language_info": {
   "codemirror_mode": {
    "name": "ipython",
    "version": 3
   },
   "file_extension": ".py",
   "mimetype": "text/x-python",
   "name": "python",
   "nbconvert_exporter": "python",
   "pygments_lexer": "ipython3",
   "version": "3.5.2"
  }
 },
 "nbformat": 4,
 "nbformat_minor": 0
}

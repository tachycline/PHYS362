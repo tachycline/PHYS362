{
 "cells": [
  {
   "cell_type": "markdown",
   "metadata": {},
   "source": [
    "# Problem (1.7)\n",
    "\n",
    "## Problem statement\n",
    "\n",
    "A particle with mass $m$ is in the state\n",
    "$$ \\Psi(x, t) = A e^{-a[(m x^2 / \\hbar) + it]}, $$\n",
    "where $A$ and $a$ are positive real constants.\n",
    "\n",
    "1. Find $A$ \n",
    "2. For what potential energy function $V(x)$ does $\\Psi$ satisfy the Schrodinger equation?\n",
    "3. Calculate the expectation values of $x$, $x^2$, $p$ and $p^2$\n",
    "4. Find $\\sigma_x$ and $\\sigma_p$. Is their product consistent with the uncertainty principle?\n",
    "\n",
    "----\n",
    "\n",
    "## Solution"
   ]
  },
  {
   "cell_type": "code",
   "execution_count": 30,
   "metadata": {
    "collapsed": true
   },
   "outputs": [],
   "source": [
    "import sympy as sp\n",
    "from sympy.physics.quantum.constants import hbar\n",
    "sp.init_printing()"
   ]
  },
  {
   "cell_type": "code",
   "execution_count": 31,
   "metadata": {
    "collapsed": false
   },
   "outputs": [],
   "source": [
    "A, a = sp.symbols('A a', real=True, positive=True)\n",
    "m, x, t = sp.symbols('m x t', real=True, positive = True)\n",
    "V = sp.symbols('V')\n",
    "\n",
    "psi = A*sp.exp(-a*((((m*x**2)/hbar))+ sp.I*t))"
   ]
  },
  {
   "cell_type": "code",
   "execution_count": 32,
   "metadata": {
    "collapsed": false
   },
   "outputs": [
    {
     "data": {
      "image/png": "[encoded data removed]",
      "text/latex": [
       "$$A e^{- a \\left(\\frac{m x^{2}}{\\hbar} + i t\\right)}$$"
      ],
      "text/plain": [
       "      ⎛   2      ⎞\n",
       "      ⎜m⋅x       ⎟\n",
       "   -a⋅⎜──── + ⅈ⋅t⎟\n",
       "      ⎝ ℏ        ⎠\n",
       "A⋅ℯ               "
      ]
     },
     "execution_count": 32,
     "metadata": {},
     "output_type": "execute_result"
    }
   ],
   "source": [
    "psi"
   ]
  },
  {
   "cell_type": "code",
   "execution_count": 33,
   "metadata": {
    "collapsed": false
   },
   "outputs": [
    {
     "data": {
      "image/png": "[encoded data removed]",
      "text/latex": [
       "$$\\frac{\\sqrt{2} \\sqrt{\\hbar} \\sqrt{\\pi} A^{2}}{2 \\sqrt{a} \\sqrt{m}}$$"
      ],
      "text/plain": [
       "          2\n",
       "√2⋅√ℏ⋅√π⋅A \n",
       "───────────\n",
       "  2⋅√a⋅√m  "
      ]
     },
     "execution_count": 33,
     "metadata": {},
     "output_type": "execute_result"
    }
   ],
   "source": [
    "#Get probability density function \n",
    "\n",
    "psisq = sp.conjugate(psi)*psi\n",
    "\n",
    "#must integrate to 1 from -oo to +oo\n",
    "\n",
    "sp.integrate(psisq, (x, -sp.oo, sp.oo))"
   ]
  },
  {
   "cell_type": "markdown",
   "metadata": {},
   "source": [
    "Now solve for $A$"
   ]
  },
  {
   "cell_type": "code",
   "execution_count": 35,
   "metadata": {
    "collapsed": false
   },
   "outputs": [
    {
     "data": {
      "image/png": "[encoded data removed]",
      "text/latex": [
       "$$\\left\\{- \\frac{\\sqrt[4]{2} \\sqrt[4]{a} \\sqrt[4]{m}}{\\sqrt[4]{\\hbar} \\sqrt[4]{\\pi}}, \\frac{\\sqrt[4]{2} \\sqrt[4]{a} \\sqrt[4]{m}}{\\sqrt[4]{\\hbar} \\sqrt[4]{\\pi}}\\right\\}$$"
      ],
      "text/plain": [
       "⎧ 4 ___ 4 ___ 4 ___   4 ___ 4 ___ 4 ___⎫\n",
       "⎪-╲╱ 2 ⋅╲╱ a ⋅╲╱ m    ╲╱ 2 ⋅╲╱ a ⋅╲╱ m ⎪\n",
       "⎨───────────────────, ─────────────────⎬\n",
       "⎪    4 ___ 4 ___         4 ___ 4 ___   ⎪\n",
       "⎩    ╲╱ ℏ ⋅╲╱ π          ╲╱ ℏ ⋅╲╱ π    ⎭"
      ]
     },
     "execution_count": 35,
     "metadata": {},
     "output_type": "execute_result"
    }
   ],
   "source": [
    "#integrand from above will be called int2\n",
    " \n",
    "int2 = A**2*sp.exp(-(2*a*m*x**2)/hbar) #clearly the e terms cancel out above\n",
    "\n",
    "sp.integrate(int2, (x, -sp.oo, sp.oo))\n",
    "normalization_condiditon = sp.Eq(1, sp.integrate(int2, (x, -sp.oo, sp.oo)))\n",
    "sp.solveset(normalization_condiditon, A)\n"
   ]
  },
  {
   "cell_type": "markdown",
   "metadata": {},
   "source": [
    "Above is the solution for part 1"
   ]
  },
  {
   "cell_type": "code",
   "execution_count": 36,
   "metadata": {
    "collapsed": false
   },
   "outputs": [
    {
     "data": {
      "image/png": "[encoded data removed]",
      "text/latex": [
       "$$\\frac{\\sqrt[4]{2} \\sqrt[4]{a} \\sqrt[4]{m}}{\\sqrt[4]{\\hbar} \\sqrt[4]{\\pi}} e^{- a \\left(\\frac{m x^{2}}{\\hbar} + i t\\right)}$$"
      ],
      "text/plain": [
       "                      ⎛   2      ⎞\n",
       "                      ⎜m⋅x       ⎟\n",
       "                   -a⋅⎜──── + ⅈ⋅t⎟\n",
       "4 ___ 4 ___ 4 ___     ⎝ ℏ        ⎠\n",
       "╲╱ 2 ⋅╲╱ a ⋅╲╱ m ⋅ℯ               \n",
       "──────────────────────────────────\n",
       "           4 ___ 4 ___            \n",
       "           ╲╱ ℏ ⋅╲╱ π             "
      ]
     },
     "execution_count": 36,
     "metadata": {},
     "output_type": "execute_result"
    }
   ],
   "source": [
    "#replace A with our solution from 1\n",
    "\n",
    "psi = psi.subs(A, next(iter(sp.solveset(normalization_condiditon, A))))\n",
    "psi"
   ]
  },
  {
   "cell_type": "markdown",
   "metadata": {},
   "source": [
    "looks good (kind of)"
   ]
  },
  {
   "cell_type": "markdown",
   "metadata": {},
   "source": [
    "For part 2, we need to solve for $V(x)$ in the Schrodinger equation"
   ]
  },
  {
   "cell_type": "code",
   "execution_count": 37,
   "metadata": {
    "collapsed": false
   },
   "outputs": [
    {
     "data": {
      "image/png": "[encoded data removed]",
      "text/latex": [
       "$$\\left\\{a \\left(2 a m x^{2} - \\hbar\\right) + \\hbar a\\right\\}$$"
      ],
      "text/plain": [
       "⎧  ⎛       2    ⎞      ⎫\n",
       "⎨a⋅⎝2⋅a⋅m⋅x  - ℏ⎠ + ℏ⋅a⎬\n",
       "⎩                      ⎭"
      ]
     },
     "execution_count": 37,
     "metadata": {},
     "output_type": "execute_result"
    }
   ],
   "source": [
    "#take the partial derivatives of $Psi$ that appear in the Schrodinger equation\n",
    "\n",
    "DpsiDt = sp.diff(psi, t)\n",
    "D2psiDx2 = sp.diff(sp.diff(psi,x), x)\n",
    "\n",
    "#set up the Schrodinger Equation \n",
    "schroEq = sp.Eq(sp.I*hbar*DpsiDt, -((hbar**2)/(2*m)*D2psiDx2) + V*psi)\n",
    "\n",
    "#solve for V\n",
    "V = sp.solveset(schroEq, V)\n",
    "V"
   ]
  },
  {
   "cell_type": "markdown",
   "metadata": {},
   "source": [
    "Here is the potential $V(x)$, the solution for part 2"
   ]
  },
  {
   "cell_type": "markdown",
   "metadata": {},
   "source": [
    "Now we need to get $\\langle x \\rangle$, $\\langle x^2 \\rangle$, $\\langle p \\rangle$, $\\langle p^2 \\rangle$"
   ]
  },
  {
   "cell_type": "code",
   "execution_count": 9,
   "metadata": {
    "collapsed": false
   },
   "outputs": [
    {
     "data": {
      "image/png": "[encoded data removed]",
      "text/latex": [
       "$$0$$"
      ],
      "text/plain": [
       "0"
      ]
     },
     "execution_count": 9,
     "metadata": {},
     "output_type": "execute_result"
    }
   ],
   "source": [
    "#expectation values of x, x^2 will be the integral of psi*psi times x or x^2 from x = -oo to +oo\n",
    "\n",
    "psisq = psi*sp.conjugate(psi)\n",
    "\n",
    "#expectation value of x...\n",
    "expx = sp.integrate(x*psisq, (x, -sp.oo, sp.oo))\n",
    "expx"
   ]
  },
  {
   "cell_type": "markdown",
   "metadata": {},
   "source": [
    "so $\\langle x \\rangle = 0$"
   ]
  },
  {
   "cell_type": "code",
   "execution_count": 26,
   "metadata": {
    "collapsed": false
   },
   "outputs": [
    {
     "data": {
      "image/png": "[encoded data removed]",
      "text/latex": [
       "$$\\frac{\\hbar}{4 a m}$$"
      ],
      "text/plain": [
       "  ℏ  \n",
       "─────\n",
       "4⋅a⋅m"
      ]
     },
     "execution_count": 26,
     "metadata": {},
     "output_type": "execute_result"
    }
   ],
   "source": [
    "#expectation of x^2...\n",
    "expx2 = sp.integrate((x**2)*psisq, (x, -sp.oo,sp.oo))\n",
    "expx2"
   ]
  },
  {
   "cell_type": "markdown",
   "metadata": {},
   "source": [
    "above is $\\langle x^2 \\rangle$"
   ]
  },
  {
   "cell_type": "code",
   "execution_count": 12,
   "metadata": {
    "collapsed": false
   },
   "outputs": [
    {
     "data": {
      "image/png": "[encoded data removed]",
      "text/latex": [
       "$$0$$"
      ],
      "text/plain": [
       "0"
      ]
     },
     "execution_count": 12,
     "metadata": {},
     "output_type": "execute_result"
    }
   ],
   "source": [
    "#expectation of p\n",
    "#take the time derivative of the expectation of x\n",
    "pexp = sp.diff(sp.integrate(int3, (x, -sp.oo, sp.oo)), t)\n",
    "pexp"
   ]
  },
  {
   "cell_type": "markdown",
   "metadata": {},
   "source": [
    "above is $\\langle p \\rangle$"
   ]
  },
  {
   "cell_type": "markdown",
   "metadata": {},
   "source": [
    "Use equation 1.35 for $ \\langle p^2 \\rangle$\n",
    "$$ \\langle p^2 \\rangle = \\int_{-\\infty}^{+\\infty}\\Psi^* (-\\hbar^2 \\frac{\\partial^2}{\\partial x^2}) \\Psi dx,$$\n",
    "the middle piece is the momentum operator $\\frac{\\hbar}{i} \\frac{\\partial}{\\partial x}$ squared"
   ]
  },
  {
   "cell_type": "code",
   "execution_count": 20,
   "metadata": {
    "collapsed": false
   },
   "outputs": [
    {
     "data": {
      "image/png": "[encoded data removed]",
      "text/latex": [
       "$$\\hbar a m$$"
      ],
      "text/plain": [
       "ℏ⋅a⋅m"
      ]
     },
     "execution_count": 20,
     "metadata": {},
     "output_type": "execute_result"
    }
   ],
   "source": [
    "#expectation of momentum squared\n",
    "\n",
    "int4 = sp.conjugate(psi)*sp.diff(sp.diff(psi, x),x)\n",
    "p2exp = -(hbar**2)*sp.integrate(int4, (x, -sp.oo, sp.oo))\n",
    "p2exp"
   ]
  },
  {
   "cell_type": "markdown",
   "metadata": {},
   "source": [
    "above is  $ \\langle p^2 \\rangle$\n",
    "\n",
    "Lastly we can use the expectation values to calculate $\\sigma_x$ and $\\sigma_p$"
   ]
  },
  {
   "cell_type": "code",
   "execution_count": 27,
   "metadata": {
    "collapsed": false
   },
   "outputs": [
    {
     "data": {
      "image/png": "[encoded data removed]",
      "text/latex": [
       "$$\\frac{\\sqrt{\\hbar}}{2 \\sqrt{a} \\sqrt{m}}$$"
      ],
      "text/plain": [
       "   √ℏ  \n",
       "───────\n",
       "2⋅√a⋅√m"
      ]
     },
     "execution_count": 27,
     "metadata": {},
     "output_type": "execute_result"
    }
   ],
   "source": [
    "#standard deviation is the square root of expectation value of j^2 minus the expectation value of j squared\n",
    "sigmax = sp.sqrt(expx2 - (expx**2))\n",
    "sigmax"
   ]
  },
  {
   "cell_type": "markdown",
   "metadata": {},
   "source": [
    "here is $\\sigma_x$"
   ]
  },
  {
   "cell_type": "code",
   "execution_count": 21,
   "metadata": {
    "collapsed": false
   },
   "outputs": [
    {
     "data": {
      "image/png": "[encoded data removed]",
      "text/latex": [
       "$$\\sqrt{\\hbar} \\sqrt{a} \\sqrt{m}$$"
      ],
      "text/plain": [
       "√ℏ⋅√a⋅√m"
      ]
     },
     "execution_count": 21,
     "metadata": {},
     "output_type": "execute_result"
    }
   ],
   "source": [
    "#repeat the same thing with p expectation values\n",
    "sigmap = sp.sqrt(p2exp-(pexp**2))\n",
    "sigmap"
   ]
  },
  {
   "cell_type": "markdown",
   "metadata": {},
   "source": [
    "above is  $ \\sigma_p$\n",
    "\n",
    "Check consistency with the unvertainty principle:\n",
    "$$ \\sigma_x\\sigma_p \\geq \\frac{\\hbar}{2}$$"
   ]
  },
  {
   "cell_type": "code",
   "execution_count": 28,
   "metadata": {
    "collapsed": false
   },
   "outputs": [
    {
     "data": {
      "image/png": "[encoded data removed]",
      "text/latex": [
       "$$\\frac{\\hbar}{2}$$"
      ],
      "text/plain": [
       "ℏ\n",
       "─\n",
       "2"
      ]
     },
     "execution_count": 28,
     "metadata": {},
     "output_type": "execute_result"
    }
   ],
   "source": [
    "#multiply the standard deviations \n",
    "\n",
    "sigmaProd  = sigmax*sigmap\n",
    "sigmaProd"
   ]
  },
  {
   "cell_type": "markdown",
   "metadata": {},
   "source": [
    "Looks good!"
   ]
  },
  {
   "cell_type": "markdown",
   "metadata": {},
   "source": [
    "----\n",
    "\n",
    "## Portfolio references\n",
    "* Problem 1.3, 1.5\n",
    "## Index terms\n",
    "* uncertainty principle\n",
    "* Schrodinger equation\n",
    "* expectation value\n",
    "* standard deviation\n",
    "* momentum operator\n",
    "## Book references\n",
    "* eq 1.33 and 1.35 on pages 16 and 17\n",
    "## External references"
   ]
  }
 ],
 "metadata": {
  "anaconda-cloud": {},
  "kernelspec": {
   "display_name": "Python [Root]",
   "language": "python",
   "name": "Python [Root]"
  },
  "language_info": {
   "codemirror_mode": {
    "name": "ipython",
    "version": 3
   },
   "file_extension": ".py",
   "mimetype": "text/x-python",
   "name": "python",
   "nbconvert_exporter": "python",
   "pygments_lexer": "ipython3",
   "version": "3.5.2"
  }
 },
 "nbformat": 4,
 "nbformat_minor": 0
}

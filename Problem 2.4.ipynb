{
 "cells": [
  {
   "cell_type": "markdown",
   "metadata": {},
   "source": [
    "# Problem 2.4\n",
    "## Problem Statement\n",
    "Calculate the expectation values for $x, x^2, p, p^2,$ as well as $\\sigma_x$ and $\\sigma_p$ for the nth stationary state of the infinite square well. Checl that the uncertainty principle is statisfied. Which state comes closest to the uncertainty limit.\n",
    "\n",
    "----\n",
    "\n",
    "## Solution\n",
    "\n",
    "### Expectation values for $x$ and $x^2$"
   ]
  },
  {
   "cell_type": "code",
   "execution_count": 12,
   "metadata": {
    "collapsed": false
   },
   "outputs": [
    {
     "data": {
      "image/png": "[encoded data removed]",
      "text/latex": [
       "$$\\frac{\\sqrt{2}}{\\sqrt{a}} e^{- \\frac{\\hbar i \\pi^{2} n^{2} t}{2 a^{2} m}} \\sin{\\left (\\frac{\\pi x}{a} n \\right )}$$"
      ],
      "text/plain": [
       "          2  2              \n",
       "    -ℏ⋅ⅈ⋅π ⋅n ⋅t            \n",
       "    ─────────────           \n",
       "           2                \n",
       "        2⋅a ⋅m       ⎛π⋅n⋅x⎞\n",
       "√2⋅ℯ             ⋅sin⎜─────⎟\n",
       "                     ⎝  a  ⎠\n",
       "────────────────────────────\n",
       "             √a             "
      ]
     },
     "execution_count": 12,
     "metadata": {},
     "output_type": "execute_result"
    }
   ],
   "source": [
    "import sympy as sp\n",
    "from sympy.physics.quantum.constants import hbar\n",
    "sp.init_printing()\n",
    "\n",
    "\n",
    "A, a, m, n = sp.symbols(\"A a m n\", real=True, positive=True)\n",
    "x, t = sp.symbols(\"x t\", real=True)\n",
    "\n",
    "Psi = sp.sqrt(2/a)*sp.sin((n*sp.pi*x)/a)*sp.exp(-sp.I*(((n**2*sp.pi**2*hbar)/(2*m*a**2))*t))\n",
    "Psi\n"
   ]
  },
  {
   "cell_type": "code",
   "execution_count": 20,
   "metadata": {
    "collapsed": false
   },
   "outputs": [
    {
     "data": {
      "image/png": "[encoded data removed]",
      "text/latex": [
       "$$0$$"
      ],
      "text/plain": [
       "0"
      ]
     },
     "execution_count": 20,
     "metadata": {},
     "output_type": "execute_result"
    }
   ],
   "source": [
    "expectx = sp.integrate(Psi**2 * x, (x,-a,a))\n",
    "expectx"
   ]
  },
  {
   "cell_type": "code",
   "execution_count": 21,
   "metadata": {
    "collapsed": false
   },
   "outputs": [
    {
     "data": {
      "image/png": "[encoded data removed]",
      "text/latex": [
       "$$- \\frac{2}{a} \\left(- \\frac{a^{3}}{6} \\sin^{2}{\\left (\\pi n \\right )} - \\frac{a^{3}}{6} \\cos^{2}{\\left (\\pi n \\right )} + \\frac{a^{3} \\cos{\\left (\\pi n \\right )}}{2 \\pi n} \\sin{\\left (\\pi n \\right )} - \\frac{a^{3} \\sin^{2}{\\left (\\pi n \\right )}}{4 \\pi^{2} n^{2}} + \\frac{a^{3} \\cos^{2}{\\left (\\pi n \\right )}}{4 \\pi^{2} n^{2}} - \\frac{a^{3} \\cos{\\left (\\pi n \\right )}}{4 \\pi^{3} n^{3}} \\sin{\\left (\\pi n \\right )}\\right) e^{- \\frac{i \\pi^{2} n^{2} t}{a^{2} m} \\hbar} + \\frac{2}{a} \\left(\\frac{a^{3}}{6} \\sin^{2}{\\left (\\pi n \\right )} + \\frac{a^{3}}{6} \\cos^{2}{\\left (\\pi n \\right )} - \\frac{a^{3} \\cos{\\left (\\pi n \\right )}}{2 \\pi n} \\sin{\\left (\\pi n \\right )} + \\frac{a^{3} \\sin^{2}{\\left (\\pi n \\right )}}{4 \\pi^{2} n^{2}} - \\frac{a^{3} \\cos^{2}{\\left (\\pi n \\right )}}{4 \\pi^{2} n^{2}} + \\frac{a^{3} \\cos{\\left (\\pi n \\right )}}{4 \\pi^{3} n^{3}} \\sin{\\left (\\pi n \\right )}\\right) e^{- \\frac{i \\pi^{2} n^{2} t}{a^{2} m} \\hbar}$$"
      ],
      "text/plain": [
       "                                                                              \n",
       "                                                                              \n",
       "                                                                              \n",
       "    ⎛   3    2         3    2         3                      3    2         3 \n",
       "    ⎜  a ⋅sin (π⋅n)   a ⋅cos (π⋅n)   a ⋅sin(π⋅n)⋅cos(π⋅n)   a ⋅sin (π⋅n)   a ⋅\n",
       "  2⋅⎜- ──────────── - ──────────── + ──────────────────── - ──────────── + ───\n",
       "    ⎜       6              6                2⋅π⋅n                2  2         \n",
       "    ⎝                                                         4⋅π ⋅n         4\n",
       "- ────────────────────────────────────────────────────────────────────────────\n",
       "                                                               a              \n",
       "\n",
       "                                         2  2                                 \n",
       "                                   -ℏ⋅ⅈ⋅π ⋅n ⋅t                               \n",
       "                                   ─────────────                              \n",
       "   2         3                  ⎞        2           ⎛ 3    2         3    2  \n",
       "cos (π⋅n)   a ⋅sin(π⋅n)⋅cos(π⋅n)⎟       a ⋅m         ⎜a ⋅sin (π⋅n)   a ⋅cos (π\n",
       "───────── - ────────────────────⎟⋅ℯ                2⋅⎜──────────── + ─────────\n",
       "  2  2               3  3       ⎟                    ⎜     6              6   \n",
       "⋅π ⋅n             4⋅π ⋅n        ⎠                    ⎝                        \n",
       "──────────────────────────────────────────────── + ───────────────────────────\n",
       "                                                                              \n",
       "\n",
       "                                                                              \n",
       "                                                                              \n",
       "                                                                              \n",
       "       3                      3    2         3    2         3                 \n",
       "⋅n)   a ⋅sin(π⋅n)⋅cos(π⋅n)   a ⋅sin (π⋅n)   a ⋅cos (π⋅n)   a ⋅sin(π⋅n)⋅cos(π⋅n\n",
       "─── - ──────────────────── + ──────────── - ──────────── + ───────────────────\n",
       "             2⋅π⋅n                2  2           2  2               3  3      \n",
       "                               4⋅π ⋅n         4⋅π ⋅n             4⋅π ⋅n       \n",
       "──────────────────────────────────────────────────────────────────────────────\n",
       "                                 a                                            \n",
       "\n",
       "          2  2   \n",
       "    -ℏ⋅ⅈ⋅π ⋅n ⋅t \n",
       "    ─────────────\n",
       " ⎞        2      \n",
       ")⎟       a ⋅m    \n",
       "─⎟⋅ℯ             \n",
       " ⎟               \n",
       " ⎠               \n",
       "─────────────────\n",
       "                 "
      ]
     },
     "execution_count": 21,
     "metadata": {},
     "output_type": "execute_result"
    }
   ],
   "source": [
    "expectxsq = sp.integrate(Psi**2 * x**2, (x,-a,a))\n",
    "expectxsq"
   ]
  },
  {
   "cell_type": "markdown",
   "metadata": {},
   "source": [
    "### Expectation values for $p$ and $p^2$\n"
   ]
  },
  {
   "cell_type": "code",
   "execution_count": 22,
   "metadata": {
    "collapsed": false
   },
   "outputs": [
    {
     "data": {
      "image/png": "[encoded data removed]",
      "text/latex": [
       "$$0$$"
      ],
      "text/plain": [
       "0"
      ]
     },
     "execution_count": 22,
     "metadata": {},
     "output_type": "execute_result"
    }
   ],
   "source": [
    "expectp = hbar/sp.I * sp.integrate(Psi * sp.diff(Psi, x), (x,-a,a))\n",
    "expectp"
   ]
  },
  {
   "cell_type": "code",
   "execution_count": 23,
   "metadata": {
    "collapsed": false
   },
   "outputs": [
    {
     "data": {
      "image/png": "[encoded data removed]",
      "text/latex": [
       "$$- \\hbar^{2} \\left(\\frac{2 \\pi}{a^{2}} n \\left(- \\frac{\\pi n}{2} + \\frac{1}{2} \\sin{\\left (\\pi n \\right )} \\cos{\\left (\\pi n \\right )}\\right) e^{- \\frac{i \\pi^{2} n^{2} t}{a^{2} m} \\hbar} - \\frac{2 \\pi}{a^{2}} n \\left(\\frac{\\pi n}{2} - \\frac{1}{2} \\sin{\\left (\\pi n \\right )} \\cos{\\left (\\pi n \\right )}\\right) e^{- \\frac{i \\pi^{2} n^{2} t}{a^{2} m} \\hbar}\\right)$$"
      ],
      "text/plain": [
       "    ⎛                                         2  2                            \n",
       "    ⎜                                   -ℏ⋅ⅈ⋅π ⋅n ⋅t                          \n",
       "    ⎜                                   ─────────────                         \n",
       "    ⎜                                         2                               \n",
       "    ⎜      ⎛  π⋅n   sin(π⋅n)⋅cos(π⋅n)⎞       a ⋅m             ⎛π⋅n   sin(π⋅n)⋅\n",
       "    ⎜2⋅π⋅n⋅⎜- ─── + ─────────────────⎟⋅ℯ                2⋅π⋅n⋅⎜─── - ─────────\n",
       "  2 ⎜      ⎝   2            2        ⎠                        ⎝ 2            2\n",
       "-ℏ ⋅⎜──────────────────────────────────────────────── - ──────────────────────\n",
       "    ⎜                        2                                                \n",
       "    ⎝                       a                                                 \n",
       "\n",
       "                 2  2   ⎞\n",
       "           -ℏ⋅ⅈ⋅π ⋅n ⋅t ⎟\n",
       "           ─────────────⎟\n",
       "                 2      ⎟\n",
       "cos(π⋅n)⎞       a ⋅m    ⎟\n",
       "────────⎟⋅ℯ             ⎟\n",
       "        ⎠               ⎟\n",
       "────────────────────────⎟\n",
       " 2                      ⎟\n",
       "a                       ⎠"
      ]
     },
     "execution_count": 23,
     "metadata": {},
     "output_type": "execute_result"
    }
   ],
   "source": [
    "expectpsq = -hbar**2 * sp.integrate(Psi * sp.diff(Psi, x, 2), (x,-a,a))\n",
    "expectpsq"
   ]
  },
  {
   "cell_type": "markdown",
   "metadata": {},
   "source": [
    "### Uncertainty, $\\sigma_x$ and $\\sigma_p$"
   ]
  },
  {
   "cell_type": "code",
   "execution_count": 24,
   "metadata": {
    "collapsed": false
   },
   "outputs": [
    {
     "data": {
      "image/png": "[encoded data removed]",
      "text/latex": [
       "$$\\sqrt{- \\frac{2}{a} \\left(- \\frac{a^{3}}{6} \\sin^{2}{\\left (\\pi n \\right )} - \\frac{a^{3}}{6} \\cos^{2}{\\left (\\pi n \\right )} + \\frac{a^{3} \\cos{\\left (\\pi n \\right )}}{2 \\pi n} \\sin{\\left (\\pi n \\right )} - \\frac{a^{3} \\sin^{2}{\\left (\\pi n \\right )}}{4 \\pi^{2} n^{2}} + \\frac{a^{3} \\cos^{2}{\\left (\\pi n \\right )}}{4 \\pi^{2} n^{2}} - \\frac{a^{3} \\cos{\\left (\\pi n \\right )}}{4 \\pi^{3} n^{3}} \\sin{\\left (\\pi n \\right )}\\right) e^{- \\frac{i \\pi^{2} n^{2} t}{a^{2} m} \\hbar} + \\frac{2}{a} \\left(\\frac{a^{3}}{6} \\sin^{2}{\\left (\\pi n \\right )} + \\frac{a^{3}}{6} \\cos^{2}{\\left (\\pi n \\right )} - \\frac{a^{3} \\cos{\\left (\\pi n \\right )}}{2 \\pi n} \\sin{\\left (\\pi n \\right )} + \\frac{a^{3} \\sin^{2}{\\left (\\pi n \\right )}}{4 \\pi^{2} n^{2}} - \\frac{a^{3} \\cos^{2}{\\left (\\pi n \\right )}}{4 \\pi^{2} n^{2}} + \\frac{a^{3} \\cos{\\left (\\pi n \\right )}}{4 \\pi^{3} n^{3}} \\sin{\\left (\\pi n \\right )}\\right) e^{- \\frac{i \\pi^{2} n^{2} t}{a^{2} m} \\hbar}}$$"
      ],
      "text/plain": [
       "           ___________________________________________________________________\n",
       "          ╱                                                                   \n",
       "         ╱                                                                    \n",
       "        ╱                                                                     \n",
       "       ╱        ⎛   3    2         3    2         3                      3    \n",
       "      ╱         ⎜  a ⋅sin (π⋅n)   a ⋅cos (π⋅n)   a ⋅sin(π⋅n)⋅cos(π⋅n)   a ⋅sin\n",
       "     ╱        2⋅⎜- ──────────── - ──────────── + ──────────────────── - ──────\n",
       "    ╱           ⎜       6              6                2⋅π⋅n                2\n",
       "   ╱            ⎝                                                         4⋅π \n",
       "  ╱         - ────────────────────────────────────────────────────────────────\n",
       "╲╱                                                                         a  \n",
       "\n",
       "______________________________________________________________________________\n",
       "                                                     2  2                     \n",
       "                                               -ℏ⋅ⅈ⋅π ⋅n ⋅t                   \n",
       "                                               ─────────────                  \n",
       "2         3    2         3                  ⎞        2           ⎛ 3    2     \n",
       " (π⋅n)   a ⋅cos (π⋅n)   a ⋅sin(π⋅n)⋅cos(π⋅n)⎟       a ⋅m         ⎜a ⋅sin (π⋅n)\n",
       "────── + ──────────── - ────────────────────⎟⋅ℯ                2⋅⎜────────────\n",
       "  2           2  2               3  3       ⎟                    ⎜     6      \n",
       "⋅n         4⋅π ⋅n             4⋅π ⋅n        ⎠                    ⎝            \n",
       "──────────────────────────────────────────────────────────── + ───────────────\n",
       "                                                                              \n",
       "\n",
       "______________________________________________________________________________\n",
       "                                                                              \n",
       "                                                                              \n",
       "                                                                              \n",
       "    3    2         3                      3    2         3    2         3     \n",
       "   a ⋅cos (π⋅n)   a ⋅sin(π⋅n)⋅cos(π⋅n)   a ⋅sin (π⋅n)   a ⋅cos (π⋅n)   a ⋅sin(\n",
       " + ──────────── - ──────────────────── + ──────────── - ──────────── + ───────\n",
       "        6                2⋅π⋅n                2  2           2  2             \n",
       "                                           4⋅π ⋅n         4⋅π ⋅n             4\n",
       "──────────────────────────────────────────────────────────────────────────────\n",
       "                                             a                                \n",
       "\n",
       "______________________________\n",
       "                      2  2    \n",
       "                -ℏ⋅ⅈ⋅π ⋅n ⋅t  \n",
       "                ───────────── \n",
       "             ⎞        2       \n",
       "π⋅n)⋅cos(π⋅n)⎟       a ⋅m     \n",
       "─────────────⎟⋅ℯ              \n",
       "  3  3       ⎟                \n",
       "⋅π ⋅n        ⎠                \n",
       "───────────────────────────── \n",
       "                              "
      ]
     },
     "execution_count": 24,
     "metadata": {},
     "output_type": "execute_result"
    }
   ],
   "source": [
    "sigmax = sp.sqrt(expectxsq - expectx**2)\n",
    "sigmax"
   ]
  },
  {
   "cell_type": "code",
   "execution_count": 25,
   "metadata": {
    "collapsed": false
   },
   "outputs": [
    {
     "data": {
      "image/png": "[encoded data removed]",
      "text/latex": [
       "$$\\hbar \\sqrt{- \\frac{2 \\pi}{a^{2}} n \\left(- \\frac{\\pi n}{2} + \\frac{1}{2} \\sin{\\left (\\pi n \\right )} \\cos{\\left (\\pi n \\right )}\\right) e^{- \\frac{i \\pi^{2} n^{2} t}{a^{2} m} \\hbar} + \\frac{2 \\pi}{a^{2}} n \\left(\\frac{\\pi n}{2} - \\frac{1}{2} \\sin{\\left (\\pi n \\right )} \\cos{\\left (\\pi n \\right )}\\right) e^{- \\frac{i \\pi^{2} n^{2} t}{a^{2} m} \\hbar}}$$"
      ],
      "text/plain": [
       "             _________________________________________________________________\n",
       "            ╱                                            2  2                 \n",
       "           ╱                                       -ℏ⋅ⅈ⋅π ⋅n ⋅t               \n",
       "          ╱                                        ─────────────              \n",
       "         ╱                                               2                    \n",
       "        ╱             ⎛  π⋅n   sin(π⋅n)⋅cos(π⋅n)⎞       a ⋅m             ⎛π⋅n \n",
       "       ╱        2⋅π⋅n⋅⎜- ─── + ─────────────────⎟⋅ℯ                2⋅π⋅n⋅⎜─── \n",
       "      ╱               ⎝   2            2        ⎠                        ⎝ 2  \n",
       "ℏ⋅   ╱        - ──────────────────────────────────────────────── + ───────────\n",
       "    ╱                                   2                                     \n",
       "  ╲╱                                   a                                      \n",
       "\n",
       "____________________________________\n",
       "                            2  2    \n",
       "                      -ℏ⋅ⅈ⋅π ⋅n ⋅t  \n",
       "                      ───────────── \n",
       "                            2       \n",
       "  sin(π⋅n)⋅cos(π⋅n)⎞       a ⋅m     \n",
       "- ─────────────────⎟⋅ℯ              \n",
       "          2        ⎠                \n",
       "─────────────────────────────────── \n",
       "            2                       \n",
       "           a                        "
      ]
     },
     "execution_count": 25,
     "metadata": {},
     "output_type": "execute_result"
    }
   ],
   "source": [
    "sigmap = sp.sqrt(expectpsq - expectp**2)\n",
    "sigmap"
   ]
  },
  {
   "cell_type": "code",
   "execution_count": 26,
   "metadata": {
    "collapsed": false
   },
   "outputs": [
    {
     "data": {
      "image/png": "[encoded data removed]",
      "text/latex": [
       "$$\\hbar \\sqrt{- \\frac{2}{a} \\left(- \\frac{a^{3}}{6} \\sin^{2}{\\left (\\pi n \\right )} - \\frac{a^{3}}{6} \\cos^{2}{\\left (\\pi n \\right )} + \\frac{a^{3} \\cos{\\left (\\pi n \\right )}}{2 \\pi n} \\sin{\\left (\\pi n \\right )} - \\frac{a^{3} \\sin^{2}{\\left (\\pi n \\right )}}{4 \\pi^{2} n^{2}} + \\frac{a^{3} \\cos^{2}{\\left (\\pi n \\right )}}{4 \\pi^{2} n^{2}} - \\frac{a^{3} \\cos{\\left (\\pi n \\right )}}{4 \\pi^{3} n^{3}} \\sin{\\left (\\pi n \\right )}\\right) e^{- \\frac{i \\pi^{2} n^{2} t}{a^{2} m} \\hbar} + \\frac{2}{a} \\left(\\frac{a^{3}}{6} \\sin^{2}{\\left (\\pi n \\right )} + \\frac{a^{3}}{6} \\cos^{2}{\\left (\\pi n \\right )} - \\frac{a^{3} \\cos{\\left (\\pi n \\right )}}{2 \\pi n} \\sin{\\left (\\pi n \\right )} + \\frac{a^{3} \\sin^{2}{\\left (\\pi n \\right )}}{4 \\pi^{2} n^{2}} - \\frac{a^{3} \\cos^{2}{\\left (\\pi n \\right )}}{4 \\pi^{2} n^{2}} + \\frac{a^{3} \\cos{\\left (\\pi n \\right )}}{4 \\pi^{3} n^{3}} \\sin{\\left (\\pi n \\right )}\\right) e^{- \\frac{i \\pi^{2} n^{2} t}{a^{2} m} \\hbar}} \\sqrt{- \\frac{2 \\pi}{a^{2}} n \\left(- \\frac{\\pi n}{2} + \\frac{1}{2} \\sin{\\left (\\pi n \\right )} \\cos{\\left (\\pi n \\right )}\\right) e^{- \\frac{i \\pi^{2} n^{2} t}{a^{2} m} \\hbar} + \\frac{2 \\pi}{a^{2}} n \\left(\\frac{\\pi n}{2} - \\frac{1}{2} \\sin{\\left (\\pi n \\right )} \\cos{\\left (\\pi n \\right )}\\right) e^{- \\frac{i \\pi^{2} n^{2} t}{a^{2} m} \\hbar}}$$"
      ],
      "text/plain": [
       "             _________________________________________________________________\n",
       "            ╱                                                                 \n",
       "           ╱                                                                  \n",
       "          ╱                                                                   \n",
       "         ╱        ⎛   3    2         3    2         3                      3  \n",
       "        ╱         ⎜  a ⋅sin (π⋅n)   a ⋅cos (π⋅n)   a ⋅sin(π⋅n)⋅cos(π⋅n)   a ⋅s\n",
       "       ╱        2⋅⎜- ──────────── - ──────────── + ──────────────────── - ────\n",
       "      ╱           ⎜       6              6                2⋅π⋅n               \n",
       "     ╱            ⎝                                                         4⋅\n",
       "ℏ⋅  ╱         - ──────────────────────────────────────────────────────────────\n",
       "  ╲╱                                                                         a\n",
       "                                                                              \n",
       "\n",
       "______________________________________________________________________________\n",
       "                                                       2  2                   \n",
       "                                                 -ℏ⋅ⅈ⋅π ⋅n ⋅t                 \n",
       "                                                 ─────────────                \n",
       "  2         3    2         3                  ⎞        2           ⎛ 3    2   \n",
       "in (π⋅n)   a ⋅cos (π⋅n)   a ⋅sin(π⋅n)⋅cos(π⋅n)⎟       a ⋅m         ⎜a ⋅sin (π⋅\n",
       "──────── + ──────────── - ────────────────────⎟⋅ℯ                2⋅⎜──────────\n",
       " 2  2           2  2               3  3       ⎟                    ⎜     6    \n",
       "π ⋅n         4⋅π ⋅n             4⋅π ⋅n        ⎠                    ⎝          \n",
       "────────────────────────────────────────────────────────────── + ─────────────\n",
       "                                                                              \n",
       "                                                                              \n",
       "\n",
       "______________________________________________________________________________\n",
       "                                                                              \n",
       "                                                                              \n",
       "                                                                              \n",
       "      3    2         3                      3    2         3    2         3   \n",
       "n)   a ⋅cos (π⋅n)   a ⋅sin(π⋅n)⋅cos(π⋅n)   a ⋅sin (π⋅n)   a ⋅cos (π⋅n)   a ⋅si\n",
       "── + ──────────── - ──────────────────── + ──────────── - ──────────── + ─────\n",
       "          6                2⋅π⋅n                2  2           2  2           \n",
       "                                             4⋅π ⋅n         4⋅π ⋅n            \n",
       "──────────────────────────────────────────────────────────────────────────────\n",
       "                                               a                              \n",
       "                                                                              \n",
       "\n",
       "________________________________                                              \n",
       "                        2  2                __________________________________\n",
       "                  -ℏ⋅ⅈ⋅π ⋅n ⋅t             ╱                                  \n",
       "                  ─────────────           ╱                                   \n",
       "               ⎞        2                ╱                                    \n",
       "n(π⋅n)⋅cos(π⋅n)⎟       a ⋅m             ╱                                     \n",
       "───────────────⎟⋅ℯ                     ╱             ⎛  π⋅n   sin(π⋅n)⋅cos(π⋅n\n",
       "    3  3       ⎟                      ╱        2⋅π⋅n⋅⎜- ─── + ────────────────\n",
       " 4⋅π ⋅n        ⎠                     ╱               ⎝   2            2       \n",
       "─────────────────────────────── ⋅   ╱        - ───────────────────────────────\n",
       "                                   ╱                                   2      \n",
       "                                 ╲╱                                   a       \n",
       "\n",
       "                                                                   \n",
       "___________________________________________________________________\n",
       "          2  2                                             2  2    \n",
       "    -ℏ⋅ⅈ⋅π ⋅n ⋅t                                     -ℏ⋅ⅈ⋅π ⋅n ⋅t  \n",
       "    ─────────────                                    ───────────── \n",
       "          2                                                2       \n",
       ")⎞       a ⋅m             ⎛π⋅n   sin(π⋅n)⋅cos(π⋅n)⎞       a ⋅m     \n",
       "─⎟⋅ℯ                2⋅π⋅n⋅⎜─── - ─────────────────⎟⋅ℯ              \n",
       " ⎠                        ⎝ 2            2        ⎠                \n",
       "───────────────── + ────────────────────────────────────────────── \n",
       "                                           2                       \n",
       "                                          a                        "
      ]
     },
     "execution_count": 26,
     "metadata": {},
     "output_type": "execute_result"
    }
   ],
   "source": [
    "sigmax*sigmap"
   ]
  },
  {
   "cell_type": "code",
   "execution_count": null,
   "metadata": {
    "collapsed": true
   },
   "outputs": [],
   "source": []
  }
 ],
 "metadata": {
  "anaconda-cloud": {},
  "kernelspec": {
   "display_name": "Python [conda env:PHYS362]",
   "language": "python",
   "name": "conda-env-PHYS362-py"
  },
  "language_info": {
   "codemirror_mode": {
    "name": "ipython",
    "version": 3
   },
   "file_extension": ".py",
   "mimetype": "text/x-python",
   "name": "python",
   "nbconvert_exporter": "python",
   "pygments_lexer": "ipython3",
   "version": "3.5.2"
  }
 },
 "nbformat": 4,
 "nbformat_minor": 1
}
